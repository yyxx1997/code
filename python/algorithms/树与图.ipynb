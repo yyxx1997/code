{
 "cells": [
  {
   "cell_type": "markdown",
   "metadata": {},
   "source": [
    "# 二叉树操作"
   ]
  },
  {
   "cell_type": "markdown",
   "metadata": {},
   "source": [
    "## 二叉树的构建\n",
    "### 根据前/后序+中序遍历结果构建"
   ]
  },
  {
   "cell_type": "code",
   "execution_count": 2,
   "metadata": {},
   "outputs": [
    {
     "name": "stdout",
     "output_type": "stream",
     "text": [
      "_ _ _ _ _ _ _ 3 _ _ _ _ _ _ _\n",
      "_ _ _ 5 _ _ _ _ _ _ _ 1 _ _ _\n",
      "_ 6 _ _ _ 2 _ _ _ 0 _ _ _ 8 _\n",
      "_ _ _ _ 7 _ 4 _ _ _ _ _ _ _ _\n",
      "\n",
      "_ _ _ 3 _ _ _\n",
      "_ 9 _ _ _ 20 _\n",
      "_ _ _ _ 15 _ 7\n",
      "\n"
     ]
    }
   ],
   "source": [
    "# Definition for a binary tree node.\n",
    "class TreeNode:\n",
    "    def __init__(self, val=0, left=None, right=None):\n",
    "        self.val = val\n",
    "        self.left = left\n",
    "        self.right = right\n",
    "\n",
    "    def __str__(self) -> str:\n",
    "        return self.printTree()\n",
    "\n",
    "    @staticmethod\n",
    "    def getHeight(node):\n",
    "        if not node: return 0\n",
    "        return 1 + max(TreeNode.getHeight(node.left), TreeNode.getHeight(node.right))\n",
    "\n",
    "    def printTree(self) -> None:\n",
    "        height = TreeNode.getHeight(self)\n",
    "        width = 2 ** height - 1\n",
    "        res = [[\"_\" for _ in range(width)] for _ in range(height)]\n",
    "\n",
    "        def fillTree(node, level, start, end, res):\n",
    "            if not self:\n",
    "                return\n",
    "            mid = (start + end) // 2\n",
    "            res[level][mid] = str(node.val)\n",
    "            if node.left: fillTree(node.left, level + 1, start, mid - 1, res)\n",
    "            if node.right: fillTree(node.right, level + 1, mid + 1, end, res)\n",
    "            \n",
    "        fillTree(self, 0, 0, width - 1, res)\n",
    "        result = \"\"\n",
    "        for row in res:\n",
    "            result += \" \".join(row) + \"\\n\"\n",
    "        return result\n",
    "\n",
    "\n",
    "def buildTree(preorder, inorder):\n",
    "    if not inorder:\n",
    "        return None\n",
    "    root_val = preorder.pop(0)\n",
    "    root_index = inorder.index(root_val)\n",
    "    root = TreeNode(root_val)\n",
    "    root.left = buildTree(preorder, inorder[:root_index])\n",
    "    root.right = buildTree(preorder, inorder[root_index+1:])\n",
    "    return root\n",
    "\n",
    "def buildTree_in_post(inorder, postorder):\n",
    "    if not postorder: return \n",
    "    root_val = postorder.pop()\n",
    "    root = TreeNode(root_val)\n",
    "    index_root = inorder.index(root_val)\n",
    "    root.left = buildTree_in_post(inorder[:index_root], postorder[:index_root])\n",
    "    root.right = buildTree_in_post(inorder[index_root+1:], postorder[index_root:])\n",
    "    return root\n",
    "\n",
    "testTree = buildTree([3,5,6,2,7,4,1,0,8], [6,5,7,2,4,3,0,1,8])\n",
    "print(testTree)\n",
    "testTree = buildTree_in_post([9,3,15,20,7], [9,15,7,20,3])\n",
    "print(testTree)\n"
   ]
  },
  {
   "cell_type": "markdown",
   "metadata": {},
   "source": [
    "### 根据层序遍历结果构建"
   ]
  },
  {
   "cell_type": "code",
   "execution_count": 3,
   "metadata": {},
   "outputs": [
    {
     "name": "stdout",
     "output_type": "stream",
     "text": [
      "_ _ _ 1 _ _ _\n",
      "_ 2 _ _ _ 3 _\n",
      "4 _ _ _ _ _ 5\n",
      "\n",
      "_ 1 _\n",
      "2 _ _\n",
      "\n"
     ]
    }
   ],
   "source": [
    "def buildTree_level(levelorder):\n",
    "    length = len(levelorder)\n",
    "    if length == 0:\n",
    "        return None\n",
    "    root_val = levelorder[0]\n",
    "    root = TreeNode(root_val)\n",
    "    Queue = [root]\n",
    "    index = 1\n",
    "    while Queue and index < length:\n",
    "        for _ in range(len(Queue)):\n",
    "            node = Queue.pop(0)\n",
    "            left_val = levelorder[index] if index < length else None\n",
    "            right_val = levelorder[index+1] if index + 1 < length else None\n",
    "            if left_val != None:\n",
    "                node.left = TreeNode(left_val)\n",
    "                Queue.append(node.left)\n",
    "            else:\n",
    "                node.left = None\n",
    "            if right_val != None:\n",
    "                node.right = TreeNode(right_val)\n",
    "                Queue.append(node.right)\n",
    "            else:\n",
    "                node.right = None\n",
    "            index += 2\n",
    "    return root\n",
    "\n",
    "testTree = buildTree_level([1,2,3,4,None,None,5])\n",
    "print(testTree)\n",
    "testTree = buildTree_level([1,2])\n",
    "print(testTree)\n",
    "#         1\n",
    "#     2       3\n",
    "# 4               5"
   ]
  },
  {
   "cell_type": "markdown",
   "metadata": {},
   "source": [
    "## 二叉树遍历（非递归）"
   ]
  },
  {
   "cell_type": "markdown",
   "metadata": {},
   "source": [
    "### 前序遍历"
   ]
  },
  {
   "cell_type": "code",
   "execution_count": 3,
   "metadata": {},
   "outputs": [
    {
     "name": "stdout",
     "output_type": "stream",
     "text": [
      "[3] ==>\t []\n",
      "[3, 5] ==>\t [3]\n",
      "[3, 5, 6] ==>\t [3, 5]\n",
      "[3, 5, 6, None] ==>\t [3, 5, 6]\n",
      "[3, 5, 6] ==>\t [3, 5, 6]\n",
      "[3, 5, None] ==>\t [3, 5, 6]\n",
      "[3, 5] ==>\t [3, 5, 6]\n",
      "[3, 2] ==>\t [3, 5, 6]\n",
      "[3, 2, 7] ==>\t [3, 5, 6, 2]\n",
      "[3, 2, 7, None] ==>\t [3, 5, 6, 2, 7]\n",
      "[3, 2, 7] ==>\t [3, 5, 6, 2, 7]\n",
      "[3, 2, None] ==>\t [3, 5, 6, 2, 7]\n",
      "[3, 2] ==>\t [3, 5, 6, 2, 7]\n",
      "[3, 4] ==>\t [3, 5, 6, 2, 7]\n",
      "[3, 4, None] ==>\t [3, 5, 6, 2, 7, 4]\n",
      "[3, 4] ==>\t [3, 5, 6, 2, 7, 4]\n",
      "[3, None] ==>\t [3, 5, 6, 2, 7, 4]\n",
      "[3] ==>\t [3, 5, 6, 2, 7, 4]\n",
      "[1] ==>\t [3, 5, 6, 2, 7, 4]\n",
      "[1, 0] ==>\t [3, 5, 6, 2, 7, 4, 1]\n",
      "[1, 0, None] ==>\t [3, 5, 6, 2, 7, 4, 1, 0]\n",
      "[1, 0] ==>\t [3, 5, 6, 2, 7, 4, 1, 0]\n",
      "[1, None] ==>\t [3, 5, 6, 2, 7, 4, 1, 0]\n",
      "[1] ==>\t [3, 5, 6, 2, 7, 4, 1, 0]\n",
      "[8] ==>\t [3, 5, 6, 2, 7, 4, 1, 0]\n",
      "[8, None] ==>\t [3, 5, 6, 2, 7, 4, 1, 0, 8]\n",
      "[8] ==>\t [3, 5, 6, 2, 7, 4, 1, 0, 8]\n",
      "[None] ==>\t [3, 5, 6, 2, 7, 4, 1, 0, 8]\n",
      "_ _ _ _ _ _ _ 3 _ _ _ _ _ _ _\n",
      "_ _ _ 5 _ _ _ _ _ _ _ 1 _ _ _\n",
      "_ 6 _ _ _ 2 _ _ _ 0 _ _ _ 8 _\n",
      "_ _ _ _ 7 _ 4 _ _ _ _ _ _ _ _\n",
      " [3, 5, 6, 2, 7, 4, 1, 0, 8]\n"
     ]
    }
   ],
   "source": [
    "def preorderTraversal(root):\n",
    "    if not root:\n",
    "        return []\n",
    "    stack = [root]\n",
    "    visited = []\n",
    "    lastpop = False\n",
    "    while stack != []:\n",
    "        node = stack[-1]\n",
    "        print([i.val if i else i for i in stack], \"==>\\t\", visited)\n",
    "        if node is None:\n",
    "            stack.pop()\n",
    "            lastpop = True\n",
    "            continue\n",
    "        if lastpop:\n",
    "            temp = stack.pop()\n",
    "            stack.append(temp.right)\n",
    "        else:\n",
    "            visited.append(node.val)\n",
    "            stack.append(node.left)\n",
    "        lastpop = False\n",
    "    return visited\n",
    "\n",
    "testTree = buildTree([3,5,6,2,7,4,1,0,8], [6,5,7,2,4,3,0,1,8])\n",
    "print(testTree, preorderTraversal(testTree))"
   ]
  },
  {
   "cell_type": "code",
   "execution_count": 4,
   "metadata": {},
   "outputs": [
    {
     "name": "stdout",
     "output_type": "stream",
     "text": [
      "[3] ==>\t []\n",
      "[1, 5] ==>\t [3]\n",
      "[1, 2, 6] ==>\t [3, 5]\n",
      "[1, 2] ==>\t [3, 5, 6]\n",
      "[1, 4, 7] ==>\t [3, 5, 6, 2]\n",
      "[1, 4] ==>\t [3, 5, 6, 2, 7]\n",
      "[1] ==>\t [3, 5, 6, 2, 7, 4]\n",
      "[8, 0] ==>\t [3, 5, 6, 2, 7, 4, 1]\n",
      "[8] ==>\t [3, 5, 6, 2, 7, 4, 1, 0]\n",
      "_ _ _ _ _ _ _ 3 _ _ _ _ _ _ _\n",
      "_ _ _ 5 _ _ _ _ _ _ _ 1 _ _ _\n",
      "_ 6 _ _ _ 2 _ _ _ 0 _ _ _ 8 _\n",
      "_ _ _ _ 7 _ 4 _ _ _ _ _ _ _ _\n",
      " [3, 5, 6, 2, 7, 4, 1, 0, 8]\n"
     ]
    }
   ],
   "source": [
    "def preorderTraversal(root):\n",
    "    if not root:\n",
    "        return []\n",
    "    stack = [root]\n",
    "    visited = []\n",
    "    while stack != []:\n",
    "        print([i.val if i else i for i in stack], \"==>\\t\", visited)\n",
    "        node = stack.pop()\n",
    "        visited.append(node.val)\n",
    "        if node.right:\n",
    "            stack.append(node.right)\n",
    "        if node.left:\n",
    "            stack.append(node.left)\n",
    "    return visited\n",
    "\n",
    "testTree = buildTree([3,5,6,2,7,4,1,0,8], [6,5,7,2,4,3,0,1,8])\n",
    "print(testTree, preorderTraversal(testTree))"
   ]
  },
  {
   "cell_type": "code",
   "execution_count": 5,
   "metadata": {},
   "outputs": [
    {
     "name": "stdout",
     "output_type": "stream",
     "text": [
      "[] ==>\t []\n",
      "[3] ==>\t [3]\n",
      "[3, 5] ==>\t [3, 5]\n",
      "[3] ==>\t [3, 5, 6]\n",
      "[3, 2] ==>\t [3, 5, 6, 2]\n",
      "[3] ==>\t [3, 5, 6, 2, 7]\n",
      "[] ==>\t [3, 5, 6, 2, 7, 4]\n",
      "[1] ==>\t [3, 5, 6, 2, 7, 4, 1]\n",
      "[] ==>\t [3, 5, 6, 2, 7, 4, 1, 0]\n",
      "_ _ _ _ _ _ _ 3 _ _ _ _ _ _ _\n",
      "_ _ _ 5 _ _ _ _ _ _ _ 1 _ _ _\n",
      "_ 6 _ _ _ 2 _ _ _ 0 _ _ _ 8 _\n",
      "_ _ _ _ 7 _ 4 _ _ _ _ _ _ _ _\n",
      " [3, 5, 6, 2, 7, 4, 1, 0, 8]\n"
     ]
    }
   ],
   "source": [
    "def preorderTraversal(root):\n",
    "    if not root: return []\n",
    "    stack = []\n",
    "    visited = []\n",
    "    node = root\n",
    "    while stack or node:\n",
    "        while node:\n",
    "            print([i.val if i else i for i in stack], \"==>\\t\", visited)\n",
    "            visited.append(node.val)\n",
    "            stack.append(node)\n",
    "            node = node.left\n",
    "        node = stack.pop()\n",
    "        node = node.right\n",
    "    return visited\n",
    "    \n",
    "testTree = buildTree([3,5,6,2,7,4,1,0,8], [6,5,7,2,4,3,0,1,8])\n",
    "print(testTree, preorderTraversal(testTree))"
   ]
  },
  {
   "cell_type": "markdown",
   "metadata": {},
   "source": [
    "### 中序遍历"
   ]
  },
  {
   "cell_type": "code",
   "execution_count": 6,
   "metadata": {},
   "outputs": [
    {
     "name": "stdout",
     "output_type": "stream",
     "text": [
      "[3] ==>\t []\n",
      "[3, 5] ==>\t []\n",
      "[3, 5, 6] ==>\t []\n",
      "[3, 5, 6, None] ==>\t []\n",
      "[3, 5, 6] ==>\t []\n",
      "[3, 5, None] ==>\t [6]\n",
      "[3, 5] ==>\t [6]\n",
      "[3, 2] ==>\t [6, 5]\n",
      "[3, 2, 7] ==>\t [6, 5]\n",
      "[3, 2, 7, None] ==>\t [6, 5]\n",
      "[3, 2, 7] ==>\t [6, 5]\n",
      "[3, 2, None] ==>\t [6, 5, 7]\n",
      "[3, 2] ==>\t [6, 5, 7]\n",
      "[3, 4] ==>\t [6, 5, 7, 2]\n",
      "[3, 4, None] ==>\t [6, 5, 7, 2]\n",
      "[3, 4] ==>\t [6, 5, 7, 2]\n",
      "[3, None] ==>\t [6, 5, 7, 2, 4]\n",
      "[3] ==>\t [6, 5, 7, 2, 4]\n",
      "[1] ==>\t [6, 5, 7, 2, 4, 3]\n",
      "[1, 0] ==>\t [6, 5, 7, 2, 4, 3]\n",
      "[1, 0, None] ==>\t [6, 5, 7, 2, 4, 3]\n",
      "[1, 0] ==>\t [6, 5, 7, 2, 4, 3]\n",
      "[1, None] ==>\t [6, 5, 7, 2, 4, 3, 0]\n",
      "[1] ==>\t [6, 5, 7, 2, 4, 3, 0]\n",
      "[8] ==>\t [6, 5, 7, 2, 4, 3, 0, 1]\n",
      "[8, None] ==>\t [6, 5, 7, 2, 4, 3, 0, 1]\n",
      "[8] ==>\t [6, 5, 7, 2, 4, 3, 0, 1]\n",
      "[None] ==>\t [6, 5, 7, 2, 4, 3, 0, 1, 8]\n",
      "_ _ _ _ _ _ _ 3 _ _ _ _ _ _ _\n",
      "_ _ _ 5 _ _ _ _ _ _ _ 1 _ _ _\n",
      "_ 6 _ _ _ 2 _ _ _ 0 _ _ _ 8 _\n",
      "_ _ _ _ 7 _ 4 _ _ _ _ _ _ _ _\n",
      " [6, 5, 7, 2, 4, 3, 0, 1, 8]\n"
     ]
    }
   ],
   "source": [
    "def inorderTraversal(root):\n",
    "    if not root: return []\n",
    "    stack = [root]\n",
    "    visited = []\n",
    "    lastpop = False\n",
    "    while stack != []:\n",
    "        print([i.val if i else i for i in stack], \"==>\\t\", visited)\n",
    "        node = stack[-1]\n",
    "        if node is None:\n",
    "            stack.pop()\n",
    "            lastpop = True\n",
    "            continue\n",
    "        if lastpop:\n",
    "            temp = stack.pop()\n",
    "            visited.append(temp.val)\n",
    "            stack.append(temp.right)\n",
    "        else:\n",
    "            stack.append(node.left)\n",
    "        lastpop = False\n",
    "    return visited\n",
    "\n",
    "print(testTree, inorderTraversal(testTree)) \n"
   ]
  },
  {
   "cell_type": "code",
   "execution_count": 7,
   "metadata": {},
   "outputs": [
    {
     "name": "stdout",
     "output_type": "stream",
     "text": [
      "[] ==>\t []\n",
      "[3] ==>\t []\n",
      "[3, 5] ==>\t []\n",
      "[3, 5, 6] ==>\t []\n",
      "[3, 5] ==>\t [6]\n",
      "[3] ==>\t [6, 5]\n",
      "[3, 2] ==>\t [6, 5]\n",
      "[3, 2, 7] ==>\t [6, 5]\n",
      "[3, 2] ==>\t [6, 5, 7]\n",
      "[3] ==>\t [6, 5, 7, 2]\n",
      "[3, 4] ==>\t [6, 5, 7, 2]\n",
      "[3] ==>\t [6, 5, 7, 2, 4]\n",
      "[] ==>\t [6, 5, 7, 2, 4, 3]\n",
      "[1] ==>\t [6, 5, 7, 2, 4, 3]\n",
      "[1, 0] ==>\t [6, 5, 7, 2, 4, 3]\n",
      "[1] ==>\t [6, 5, 7, 2, 4, 3, 0]\n",
      "[] ==>\t [6, 5, 7, 2, 4, 3, 0, 1]\n",
      "[8] ==>\t [6, 5, 7, 2, 4, 3, 0, 1]\n",
      "_ _ _ _ _ _ _ 3 _ _ _ _ _ _ _\n",
      "_ _ _ 5 _ _ _ _ _ _ _ 1 _ _ _\n",
      "_ 6 _ _ _ 2 _ _ _ 0 _ _ _ 8 _\n",
      "_ _ _ _ 7 _ 4 _ _ _ _ _ _ _ _\n",
      " [6, 5, 7, 2, 4, 3, 0, 1, 8]\n"
     ]
    }
   ],
   "source": [
    "def inorderTraversal(root):\n",
    "    if not root: return []\n",
    "    stack = []\n",
    "    visited = []\n",
    "    node = root\n",
    "    while stack or node:\n",
    "        print([i.val if i else i for i in stack], \"==>\\t\", visited)\n",
    "        if node:\n",
    "            stack.append(node)\n",
    "            node = node.left\n",
    "        else:\n",
    "            node = stack.pop()\n",
    "            visited.append(node.val)\n",
    "            node = node.right\n",
    "    return visited\n",
    "\n",
    "testTree = buildTree([3,5,6,2,7,4,1,0,8], [6,5,7,2,4,3,0,1,8])\n",
    "print(testTree, inorderTraversal(testTree))"
   ]
  },
  {
   "cell_type": "code",
   "execution_count": 8,
   "metadata": {},
   "outputs": [
    {
     "data": {
      "text/plain": [
       "[6, 5, 7, 2, 4, 3, 0, 1, 8]"
      ]
     },
     "execution_count": 8,
     "metadata": {},
     "output_type": "execute_result"
    }
   ],
   "source": [
    "def inorderTraversal(root):\n",
    "    if not root: return []\n",
    "    stack = []\n",
    "    visited = []\n",
    "    node = root\n",
    "    while stack or node:\n",
    "        while node:\n",
    "            stack.append(node)\n",
    "            node = node.left\n",
    "        node = stack.pop()\n",
    "        visited.append(node.val)\n",
    "        node = node.right\n",
    "    return visited\n",
    "    \n",
    "inorderTraversal(testTree)"
   ]
  },
  {
   "cell_type": "markdown",
   "metadata": {},
   "source": [
    "### 后序遍历"
   ]
  },
  {
   "cell_type": "code",
   "execution_count": 9,
   "metadata": {},
   "outputs": [
    {
     "name": "stdout",
     "output_type": "stream",
     "text": [
      "[] ==>\t []\n",
      "[3] ==>\t []\n",
      "[3, 5] ==>\t []\n",
      "[3, 5, 6] ==>\t []\n",
      "[3, 5] ==>\t [6]\n",
      "[3, 5] ==>\t [6]\n",
      "[3, 5, 2] ==>\t [6]\n",
      "[3, 5, 2, 7] ==>\t [6]\n",
      "[3, 5, 2] ==>\t [6, 7]\n",
      "[3, 5, 2] ==>\t [6, 7]\n",
      "[3, 5, 2, 4] ==>\t [6, 7]\n",
      "[3, 5, 2] ==>\t [6, 7, 4]\n",
      "[3, 5] ==>\t [6, 7, 4, 2]\n",
      "[3] ==>\t [6, 7, 4, 2, 5]\n",
      "[3] ==>\t [6, 7, 4, 2, 5]\n",
      "[3, 1] ==>\t [6, 7, 4, 2, 5]\n",
      "[3, 1, 0] ==>\t [6, 7, 4, 2, 5]\n",
      "[3, 1] ==>\t [6, 7, 4, 2, 5, 0]\n",
      "[3, 1] ==>\t [6, 7, 4, 2, 5, 0]\n",
      "[3, 1, 8] ==>\t [6, 7, 4, 2, 5, 0]\n",
      "[3, 1] ==>\t [6, 7, 4, 2, 5, 0, 8]\n",
      "[3] ==>\t [6, 7, 4, 2, 5, 0, 8, 1]\n",
      "_ _ _ _ _ _ _ 3 _ _ _ _ _ _ _\n",
      "_ _ _ 5 _ _ _ _ _ _ _ 1 _ _ _\n",
      "_ 6 _ _ _ 2 _ _ _ 0 _ _ _ 8 _\n",
      "_ _ _ _ 7 _ 4 _ _ _ _ _ _ _ _\n",
      " [6, 7, 4, 2, 5, 0, 8, 1, 3]\n"
     ]
    }
   ],
   "source": [
    "def postorderTraversal(root):\n",
    "    if not root: return []\n",
    "    stack = []\n",
    "    visited = []\n",
    "    node, prepop = root, None\n",
    "    while stack or node:\n",
    "        print([i.val if i else i for i in stack], \"==>\\t\", visited)\n",
    "        if node:\n",
    "            stack.append(node)\n",
    "            node = node.left\n",
    "        else:\n",
    "            node = stack[-1]\n",
    "            if node.right and node.right != prepop:\n",
    "                node = node.right\n",
    "            else:\n",
    "                prepop = stack.pop()\n",
    "                visited.append(prepop.val)\n",
    "                node = None\n",
    "    return visited\n",
    "\n",
    "print(testTree, postorderTraversal(testTree))"
   ]
  },
  {
   "cell_type": "markdown",
   "metadata": {},
   "source": [
    "### morris法"
   ]
  },
  {
   "cell_type": "code",
   "execution_count": 11,
   "metadata": {},
   "outputs": [
    {
     "data": {
      "text/plain": [
       "[6, 5, 7, 2, 4, 3, 0, 1, 8]"
      ]
     },
     "execution_count": 11,
     "metadata": {},
     "output_type": "execute_result"
    }
   ],
   "source": [
    "def inorderTraversal_morris(root):\n",
    "    cur, pre = root, None\n",
    "    visited = []\n",
    "    while cur:\n",
    "        if cur.left is None:\n",
    "            visited.append(cur.val)\n",
    "            cur = cur.right\n",
    "        else:\n",
    "            pre = cur.left\n",
    "            while pre.right:\n",
    "                if pre.right == cur:\n",
    "                    pre.right = None\n",
    "                    visited.append(cur.val)\n",
    "                    cur = cur.right\n",
    "                    break\n",
    "                pre = pre.right\n",
    "            else:\n",
    "                pre.right = cur\n",
    "                cur = cur.left\n",
    "    return visited\n",
    "\n",
    "inorderTraversal_morris(testTree)"
   ]
  },
  {
   "cell_type": "code",
   "execution_count": 12,
   "metadata": {},
   "outputs": [
    {
     "name": "stdout",
     "output_type": "stream",
     "text": [
      "_ _ _ _ _ _ _ 3 _ _ _ _ _ _ _\n",
      "_ _ _ 5 _ _ _ _ _ _ _ 1 _ _ _\n",
      "_ 6 _ _ _ 2 _ _ _ 0 _ _ _ 8 _\n",
      "_ _ _ _ 7 _ 4 _ _ _ _ _ _ _ _\n",
      "\n"
     ]
    },
    {
     "data": {
      "text/plain": [
       "[3, 5, 6, 2, 7, 4, 1, 0, 8]"
      ]
     },
     "execution_count": 12,
     "metadata": {},
     "output_type": "execute_result"
    }
   ],
   "source": [
    "def preorderTraversal_morris(root):\n",
    "    cur, pre = root, None\n",
    "    visited = []\n",
    "    while cur:\n",
    "        if cur.left is None:\n",
    "            visited.append(cur.val)\n",
    "            cur = cur.right\n",
    "        else:\n",
    "            pre = cur.left\n",
    "            while pre.right:\n",
    "                if pre.right == cur:\n",
    "                    pre.right = None\n",
    "                    cur = cur.right\n",
    "                    break\n",
    "                pre = pre.right\n",
    "            else:\n",
    "                visited.append(cur.val)\n",
    "                pre.right = cur\n",
    "                cur = cur.left\n",
    "    return visited\n",
    "print(testTree)\n",
    "preorderTraversal_morris(testTree)"
   ]
  },
  {
   "cell_type": "code",
   "execution_count": 13,
   "metadata": {},
   "outputs": [
    {
     "data": {
      "text/plain": [
       "[6, 7, 4, 2, 5, 0, 8, 1, 3]"
      ]
     },
     "execution_count": 13,
     "metadata": {},
     "output_type": "execute_result"
    }
   ],
   "source": [
    "def postTraversal_morris(root):\n",
    "    cur, pre = root, None\n",
    "    visited = []\n",
    "    while cur:\n",
    "        if cur.left is None:\n",
    "            cur = cur.right\n",
    "        else:\n",
    "            pre = cur.left\n",
    "            while pre.right:\n",
    "                if pre.right == cur:\n",
    "                    pre.right = None\n",
    "                    visited += printEdge(cur.left)\n",
    "                    cur = cur.right\n",
    "                    break\n",
    "                pre = pre.right\n",
    "            else:\n",
    "                pre.right = cur\n",
    "                cur = cur.left\n",
    "    visited += printEdge(root)\n",
    "    return visited\n",
    "\n",
    "def printEdge(root):\n",
    "    cur = root\n",
    "    result = []\n",
    "    while cur:\n",
    "        result.append(cur.val)\n",
    "        cur = cur.right\n",
    "    return result[::-1]\n",
    "\n",
    "postTraversal_morris(testTree)"
   ]
  },
  {
   "cell_type": "markdown",
   "metadata": {},
   "source": [
    "## 二叉树深度"
   ]
  },
  {
   "cell_type": "markdown",
   "metadata": {},
   "source": [
    "最大深度"
   ]
  },
  {
   "cell_type": "code",
   "execution_count": 14,
   "metadata": {},
   "outputs": [
    {
     "data": {
      "text/plain": [
       "4"
      ]
     },
     "execution_count": 14,
     "metadata": {},
     "output_type": "execute_result"
    }
   ],
   "source": [
    "testTree = buildTree([1,2,4,6,5,3], [6,4,2,5,1,3])\n",
    "\n",
    "def maxDepth(root):\n",
    "    if not root: return 0\n",
    "    return max(maxDepth(root.left), maxDepth(root.right)) + 1\n",
    "\n",
    "maxDepth(testTree)"
   ]
  },
  {
   "cell_type": "markdown",
   "metadata": {},
   "source": [
    "morris解法"
   ]
  },
  {
   "cell_type": "code",
   "execution_count": 15,
   "metadata": {},
   "outputs": [
    {
     "data": {
      "text/plain": [
       "5"
      ]
     },
     "execution_count": 15,
     "metadata": {},
     "output_type": "execute_result"
    }
   ],
   "source": [
    "def maxDepth(root):\n",
    "    cur, pre = root, None\n",
    "    maxdep, dep = 0, 0\n",
    "    while cur:\n",
    "        if cur.left is None:\n",
    "            cur = cur.right\n",
    "            dep += 1\n",
    "            maxdep = max(maxdep, dep)\n",
    "        else:\n",
    "            pre = cur.left\n",
    "            leftHeight = 1\n",
    "            while pre.right:\n",
    "                if pre.right == cur:\n",
    "                    pre.right = None\n",
    "                    dep -= leftHeight\n",
    "                    cur = cur.right\n",
    "                    break\n",
    "                pre = pre.right\n",
    "                leftHeight += 1\n",
    "            else:\n",
    "                pre.right = cur\n",
    "                cur = cur.left\n",
    "                dep += 1\n",
    "                maxdep = max(maxdep, dep)\n",
    "    return maxdep\n",
    "\n",
    "testTree = buildTree([2,3,4,5,6], [2,3,4,5,6])\n",
    "maxDepth(testTree)"
   ]
  },
  {
   "cell_type": "markdown",
   "metadata": {},
   "source": [
    "最小深度"
   ]
  },
  {
   "cell_type": "code",
   "execution_count": 16,
   "metadata": {},
   "outputs": [
    {
     "name": "stdout",
     "output_type": "stream",
     "text": [
      "_ _ _ _ _ _ _ _ _ _ _ _ _ _ _ 2 _ _ _ _ _ _ _ _ _ _ _ _ _ _ _\n",
      "_ _ _ _ _ _ _ _ _ _ _ _ _ _ _ _ _ _ _ _ _ _ _ 3 _ _ _ _ _ _ _\n",
      "_ _ _ _ _ _ _ _ _ _ _ _ _ _ _ _ _ _ _ _ _ _ _ _ _ _ _ 4 _ _ _\n",
      "_ _ _ _ _ _ _ _ _ _ _ _ _ _ _ _ _ _ _ _ _ _ _ _ _ _ _ _ _ 5 _\n",
      "_ _ _ _ _ _ _ _ _ _ _ _ _ _ _ _ _ _ _ _ _ _ _ _ _ _ _ _ _ _ 6\n",
      "\n"
     ]
    },
    {
     "data": {
      "text/plain": [
       "5"
      ]
     },
     "execution_count": 16,
     "metadata": {},
     "output_type": "execute_result"
    }
   ],
   "source": [
    "def minDepth(root):\n",
    "    if root.left == None and root.right == None:\n",
    "        return 1\n",
    "    left, right = 1e10, 1e10\n",
    "    if root.left:\n",
    "        left = minDepth(root.left)\n",
    "    if root.right:\n",
    "        right = minDepth(root.right)\n",
    "    return min(left, right) + 1\n",
    "\n",
    "testTree = buildTree([2,3,4,5,6], [2,3,4,5,6])\n",
    "print(testTree)\n",
    "minDepth(testTree)"
   ]
  },
  {
   "cell_type": "markdown",
   "metadata": {},
   "source": [
    "Morris解法"
   ]
  },
  {
   "cell_type": "code",
   "execution_count": 17,
   "metadata": {},
   "outputs": [
    {
     "data": {
      "text/plain": [
       "2"
      ]
     },
     "execution_count": 17,
     "metadata": {},
     "output_type": "execute_result"
    }
   ],
   "source": [
    "def minDepth(root):\n",
    "    cur, pre = root, None\n",
    "    mindep, dep = 1e20, 0\n",
    "    while cur:\n",
    "        if cur.left is None:\n",
    "            cur = cur.right\n",
    "            dep += 1\n",
    "        else:\n",
    "            pre = cur.left\n",
    "            leftHeight = 1\n",
    "            while pre.right:\n",
    "                if pre.right == cur:\n",
    "                    if pre.left == None:\n",
    "                        mindep = min(mindep, dep)\n",
    "                    pre.right = None\n",
    "                    dep -= leftHeight\n",
    "                    cur = cur.right\n",
    "                    break\n",
    "                pre = pre.right\n",
    "                leftHeight += 1\n",
    "            else:\n",
    "                pre.right = cur\n",
    "                cur = cur.left\n",
    "                dep += 1\n",
    "    finalRight = 1\n",
    "    cur = root\n",
    "    while cur.right:\n",
    "        cur = cur.right\n",
    "        finalRight += 1\n",
    "    if cur.left == None:\n",
    "        mindep = min(mindep, finalRight)\n",
    "    return mindep\n",
    "\n",
    "testTree = buildTree([1,2,4,6,5,3], [6,4,2,5,1,3])\n",
    "minDepth(testTree)"
   ]
  },
  {
   "cell_type": "markdown",
   "metadata": {},
   "source": [
    "## 翻转二叉树"
   ]
  },
  {
   "cell_type": "code",
   "execution_count": 18,
   "metadata": {},
   "outputs": [
    {
     "name": "stdout",
     "output_type": "stream",
     "text": [
      "_ _ _ 4 _ _ _\n",
      "_ 2 _ _ _ 7 _\n",
      "1 _ 3 _ 6 _ 9\n",
      "\n",
      "_ _ _ 4 _ _ _\n",
      "_ 7 _ _ _ 2 _\n",
      "9 _ 6 _ 3 _ 1\n",
      "\n"
     ]
    }
   ],
   "source": [
    "def invertTree(root):\n",
    "    if root == None:\n",
    "        return None\n",
    "    root.left, root.right = invertTree(root.right), invertTree(root.left)\n",
    "    return root\n",
    "\n",
    "testTree = buildTree_level([4,2,7,1,3,6,9])\n",
    "print(testTree)\n",
    "invertTree(testTree)\n",
    "print(testTree)"
   ]
  },
  {
   "cell_type": "code",
   "execution_count": 19,
   "metadata": {},
   "outputs": [
    {
     "name": "stdout",
     "output_type": "stream",
     "text": [
      "_ _ _ 4 _ _ _\n",
      "_ 2 _ _ _ 7 _\n",
      "1 _ 3 _ 6 _ 9\n",
      "\n",
      "_ _ _ 4 _ _ _\n",
      "_ 7 _ _ _ 2 _\n",
      "9 _ 6 _ 3 _ 1\n",
      "\n"
     ]
    }
   ],
   "source": [
    "def invertTree_level(root):\n",
    "    if root == None:\n",
    "        return None\n",
    "    queue = [root]\n",
    "    while queue:\n",
    "        node = queue.pop(0)\n",
    "        node.left, node.right = node.right, node.left\n",
    "        if node.left:\n",
    "            queue.append(node.left)\n",
    "        if node.right:\n",
    "            queue.append(node.right)\n",
    "    return root\n",
    "\n",
    "testTree = buildTree_level([4,2,7,1,3,6,9])\n",
    "print(testTree)\n",
    "invertTree_level(testTree)\n",
    "print(testTree)"
   ]
  },
  {
   "cell_type": "markdown",
   "metadata": {},
   "source": [
    "## 对称二叉树"
   ]
  },
  {
   "cell_type": "code",
   "execution_count": 20,
   "metadata": {},
   "outputs": [
    {
     "name": "stdout",
     "output_type": "stream",
     "text": [
      "_ _ _ 1 _ _ _\n",
      "_ 2 _ _ _ 2 _\n",
      "3 _ 4 _ 4 _ 3\n",
      " True\n",
      "_ _ _ 1 _ _ _\n",
      "_ 2 _ _ _ 2 _\n",
      "_ _ 3 _ _ _ 3\n",
      " False\n"
     ]
    }
   ],
   "source": [
    "def isSymmetric(root):\n",
    "    if not root: return False\n",
    "    Queue = [root]\n",
    "    while Queue:\n",
    "        temp = []\n",
    "        for _ in range(len(Queue)):\n",
    "            node = Queue.pop(0)\n",
    "            if node == \"#\": \n",
    "                continue\n",
    "            elif node:\n",
    "                temp.append(node.val)\n",
    "                Queue.append(node.left)\n",
    "                Queue.append(node.right)\n",
    "            else: \n",
    "                temp.append(\"#\")\n",
    "        if temp != temp[::-1]:\n",
    "            return False\n",
    "    return True\n",
    "\n",
    "testTree = buildTree([1,2,3,4,2,4,3], [3,2,4,1,4,2,3])\n",
    "print(testTree, isSymmetric(testTree))\n",
    "testTree = buildTree([1,2,3,2,3], [2,3,1,2,3])\n",
    "print(testTree, isSymmetric(testTree))"
   ]
  },
  {
   "cell_type": "code",
   "execution_count": 21,
   "metadata": {},
   "outputs": [
    {
     "name": "stdout",
     "output_type": "stream",
     "text": [
      "_ _ _ 1 _ _ _\n",
      "_ 2 _ _ _ 2 _\n",
      "3 _ 4 _ 4 _ 3\n",
      " True\n",
      "_ _ _ 1 _ _ _\n",
      "_ 2 _ _ _ 2 _\n",
      "_ _ 3 _ _ _ 3\n",
      " False\n",
      "_ _ _ 1 _ _ _\n",
      "_ 2 _ _ _ 2 _\n",
      "_ _ 2 _ _ _ 2\n",
      " False\n"
     ]
    }
   ],
   "source": [
    "def Symmetric(node1, node2):\n",
    "    if node1 == None and node2 == None:\n",
    "        return True\n",
    "    elif node1 == None or node2 == None:\n",
    "        return False\n",
    "    else:\n",
    "        return node1.val == node2.val and Symmetric(node1.left, node2.right) and Symmetric(node1.right, node2.left)\n",
    "\n",
    "def isSymmetric(root):\n",
    "    if not root: return False\n",
    "    return Symmetric(root, root)\n",
    "\n",
    "testTree = buildTree([1,2,3,4,2,4,3], [3,2,4,1,4,2,3])\n",
    "print(testTree, isSymmetric(testTree))\n",
    "testTree = buildTree([1,2,3,2,3], [2,3,1,2,3])\n",
    "print(testTree, isSymmetric(testTree))\n",
    "testTree = buildTree([1,2,2,2,2], [2,2,1,2,2])\n",
    "print(testTree, isSymmetric(testTree))"
   ]
  },
  {
   "cell_type": "markdown",
   "metadata": {},
   "source": [
    "## 根节点到叶节点数字之和"
   ]
  },
  {
   "cell_type": "code",
   "execution_count": 22,
   "metadata": {},
   "outputs": [
    {
     "name": "stdout",
     "output_type": "stream",
     "text": [
      "_ _ _ _ _ _ _ 5 _ _ _ _ _ _ _\n",
      "_ _ _ 4 _ _ _ _ _ _ _ 8 _ _ _\n",
      "_ 11 _ _ _ _ _ _ _ 13 _ _ _ 4 _\n",
      "7 _ 2 _ _ _ _ _ _ _ _ _ _ _ 1\n",
      " 17463\n",
      "_ _ _ 4 _ _ _\n",
      "_ 9 _ _ _ 0 _\n",
      "5 _ 1 _ _ _ _\n",
      " 1026\n"
     ]
    }
   ],
   "source": [
    "# BFS\n",
    "def sumNumbers(root):\n",
    "    if root == None:\n",
    "        return 0\n",
    "    ans = 0\n",
    "    queue = [(root, root.val)]\n",
    "    while queue:\n",
    "        node, val = queue.pop(0)\n",
    "        if not node.left and not node.right:\n",
    "            ans += val\n",
    "        if node.left:\n",
    "            queue.append((node.left, 10 * val + node.left.val))\n",
    "        if node.right:\n",
    "            queue.append((node.right, 10 * val + node.right.val))\n",
    "    return ans\n",
    "\n",
    "testTree = buildTree_level([5,4,8,11,None,13,4,7,2,None,None,None,1])\n",
    "print(testTree, sumNumbers(testTree))\n",
    "testTree = buildTree_level([4,9,0,5,1])\n",
    "print(testTree, sumNumbers(testTree))"
   ]
  },
  {
   "cell_type": "code",
   "execution_count": 23,
   "metadata": {},
   "outputs": [
    {
     "name": "stdout",
     "output_type": "stream",
     "text": [
      "_ _ _ _ _ _ _ 5 _ _ _ _ _ _ _\n",
      "_ _ _ 4 _ _ _ _ _ _ _ 8 _ _ _\n",
      "_ 11 _ _ _ _ _ _ _ 13 _ _ _ 4 _\n",
      "7 _ 2 _ _ _ _ _ _ _ _ _ _ _ 1\n",
      " 17463\n",
      "_ _ _ 4 _ _ _\n",
      "_ 9 _ _ _ 0 _\n",
      "5 _ 1 _ _ _ _\n",
      " 1026\n"
     ]
    }
   ],
   "source": [
    "# DFS\n",
    "def sumNumbers(root):\n",
    "    \n",
    "    def dfs(node, i):\n",
    "        if not node:\n",
    "            return 0\n",
    "        tmp = i * 10 + node.val\n",
    "        if not node.left and not node.right:\n",
    "            return tmp\n",
    "        return dfs(node.left, tmp) + dfs(node.right, tmp)\n",
    "    \n",
    "    return dfs(root, 0)\n",
    "\n",
    "testTree = buildTree_level([5,4,8,11,None,13,4,7,2,None,None,None,1])\n",
    "print(testTree, sumNumbers(testTree))\n",
    "testTree = buildTree_level([4,9,0,5,1])\n",
    "print(testTree, sumNumbers(testTree))"
   ]
  },
  {
   "cell_type": "markdown",
   "metadata": {},
   "source": [
    "## 寻找总和等于目标的路径"
   ]
  },
  {
   "cell_type": "code",
   "execution_count": 24,
   "metadata": {},
   "outputs": [
    {
     "name": "stdout",
     "output_type": "stream",
     "text": [
      "_ _ _ _ _ _ _ 5 _ _ _ _ _ _ _\n",
      "_ _ _ 4 _ _ _ _ _ _ _ 8 _ _ _\n",
      "_ 11 _ _ _ _ _ _ _ 13 _ _ _ 4 _\n",
      "7 _ 2 _ _ _ _ _ _ _ _ _ _ _ 1\n",
      " True\n",
      "_ 1 _\n",
      "2 _ _\n",
      " False\n"
     ]
    }
   ],
   "source": [
    "# DFS\n",
    "def hasPathSum(root, targetSum):\n",
    "    if not root: return False\n",
    "    if root.val == targetSum and root.left == None and root.right == None:\n",
    "        return True\n",
    "    rest = targetSum - root.val\n",
    "    return hasPathSum(root.left, rest) or hasPathSum(root.right, rest)\n",
    "\n",
    "testTree = buildTree_level([5,4,8,11,None,13,4,7,2,None,None,None,1])\n",
    "print(testTree, hasPathSum(testTree, 22))\n",
    "\n",
    "testTree = buildTree_level([1,2])\n",
    "print(testTree, hasPathSum(testTree, 1))"
   ]
  },
  {
   "cell_type": "code",
   "execution_count": 25,
   "metadata": {},
   "outputs": [
    {
     "name": "stdout",
     "output_type": "stream",
     "text": [
      "_ _ _ _ _ _ _ 5 _ _ _ _ _ _ _\n",
      "_ _ _ 4 _ _ _ _ _ _ _ 8 _ _ _\n",
      "_ 11 _ _ _ _ _ _ _ 13 _ _ _ 4 _\n",
      "7 _ 2 _ _ _ _ _ _ _ _ _ _ _ 1\n",
      " True\n",
      "_ 1 _\n",
      "2 _ _\n",
      " False\n"
     ]
    }
   ],
   "source": [
    "# BFS\n",
    "def hasPathSum(root, targetSum):\n",
    "    if not root: return False\n",
    "    from collections import deque\n",
    "    queue = deque()\n",
    "    queue.append((root, root.val))\n",
    "    while queue:\n",
    "        node, val = queue.popleft()\n",
    "        if val == targetSum and node.left == None and node.right == None:\n",
    "            return True\n",
    "        if node.left:\n",
    "            queue.append((node.left, node.left.val + val))\n",
    "        if node.right:\n",
    "            queue.append((node.right, node.right.val + val))\n",
    "    return False\n",
    "\n",
    "\n",
    "testTree = buildTree_level([5,4,8,11,None,13,4,7,2,None,None,None,1])\n",
    "print(testTree, hasPathSum(testTree, 22))\n",
    "\n",
    "testTree = buildTree_level([1,2])\n",
    "print(testTree, hasPathSum(testTree, 1))"
   ]
  },
  {
   "cell_type": "code",
   "execution_count": 26,
   "metadata": {},
   "outputs": [
    {
     "name": "stdout",
     "output_type": "stream",
     "text": [
      "_ _ _ _ _ _ _ 5 _ _ _ _ _ _ _\n",
      "_ _ _ 4 _ _ _ _ _ _ _ 8 _ _ _\n",
      "_ 11 _ _ _ _ _ _ _ 13 _ _ _ 4 _\n",
      "7 _ 2 _ _ _ _ _ _ _ _ _ _ _ 1\n",
      "\n",
      "[]\n",
      "[5]\n",
      "[5, 4]\n",
      "[5, 4, 11]\n",
      "[5, 4, 11, 7]\n",
      "[5, 4, 11]\n",
      "[5, 4, 11, 2]\n",
      "_ 1 _\n",
      "2 _ _\n",
      "\n",
      "[]\n",
      "[1]\n",
      "[1, 2]\n",
      "1\n",
      "\n",
      "[]\n",
      "_ 1 _\n",
      "_ _ 2\n",
      "\n",
      "[]\n",
      "[1]\n"
     ]
    },
    {
     "data": {
      "text/plain": [
       "True"
      ]
     },
     "execution_count": 26,
     "metadata": {},
     "output_type": "execute_result"
    }
   ],
   "source": [
    "def hasPathSum_morris(root, targetSum):\n",
    "    if not root: return False\n",
    "    cur, pre = root, None\n",
    "    dep = 0\n",
    "    path = []\n",
    "    while cur:\n",
    "        print(path)\n",
    "        if cur.left is None:\n",
    "            dep += cur.val\n",
    "            path.append(cur.val)\n",
    "            cur = cur.right\n",
    "        else:\n",
    "            pre = cur.left\n",
    "            leftHeight = pre.val\n",
    "            lefttotal = 1\n",
    "            while pre.right:\n",
    "                if pre.right == cur:\n",
    "                    if pre.left == None and dep == targetSum:\n",
    "                        return True\n",
    "                    pre.right = None\n",
    "                    dep -= leftHeight\n",
    "                    for _ in range(lefttotal): path.pop(-1)\n",
    "                    cur = cur.right\n",
    "                    break\n",
    "                pre = pre.right\n",
    "                leftHeight += pre.val\n",
    "                lefttotal += 1\n",
    "            else:\n",
    "                pre.right = cur\n",
    "                dep += cur.val\n",
    "                path.append(cur.val)\n",
    "                cur = cur.left    \n",
    "    finalRight = root.val\n",
    "    cur = root\n",
    "    while cur.right:\n",
    "        cur = cur.right\n",
    "        finalRight += cur.val\n",
    "    if cur.left == None and finalRight == targetSum:\n",
    "        return True\n",
    "    return False\n",
    "\n",
    "testTree = buildTree_level([5,4,8,11,None,13,4,7,2,None,None,None,1])\n",
    "print(testTree)\n",
    "hasPathSum_morris(testTree, 22)\n",
    "testTree = buildTree_level([1,2])\n",
    "print(testTree)\n",
    "hasPathSum_morris(testTree, 1)\n",
    "testTree = buildTree_level([1])\n",
    "print(testTree)\n",
    "hasPathSum_morris(testTree, 1)\n",
    "testTree = buildTree_level([1,None,2])\n",
    "print(testTree)\n",
    "hasPathSum_morris(testTree, 3)"
   ]
  },
  {
   "cell_type": "markdown",
   "metadata": {},
   "source": [
    "## 二叉树的最近公共祖先"
   ]
  },
  {
   "cell_type": "code",
   "execution_count": 27,
   "metadata": {},
   "outputs": [
    {
     "name": "stdout",
     "output_type": "stream",
     "text": [
      "_ _ _ _ _ _ _ 3 _ _ _ _ _ _ _\n",
      "_ _ _ 5 _ _ _ _ _ _ _ 1 _ _ _\n",
      "_ 6 _ _ _ 2 _ _ _ 0 _ _ _ 8 _\n",
      "_ _ _ _ 7 _ 4 _ _ _ _ _ _ _ _\n",
      " _ _ _ 5 _ _ _\n",
      "_ 6 _ _ _ 2 _\n",
      "_ _ _ _ 7 _ 4\n",
      "\n"
     ]
    }
   ],
   "source": [
    "# 拓展做法：先遍历，后根据位置缩小搜索范围（会超过内存限制）\n",
    "def preorderTraversal(root):\n",
    "    if not root:\n",
    "        return []\n",
    "    stack = [root]\n",
    "    visited = []\n",
    "    while stack != []:\n",
    "        node = stack.pop()\n",
    "        visited.append(node)\n",
    "        if node.right:\n",
    "            stack.append(node.right)\n",
    "        if node.left:\n",
    "            stack.append(node.left)\n",
    "    return visited\n",
    "\n",
    "def inorderTraversal(root):\n",
    "    if not root: return []\n",
    "    stack = []\n",
    "    visited = []\n",
    "    node = root\n",
    "    while stack or node:\n",
    "        while node:\n",
    "            stack.append(node)\n",
    "            node = node.left\n",
    "        node = stack.pop()\n",
    "        visited.append(node)\n",
    "        node = node.right\n",
    "    return visited\n",
    "    \n",
    "\n",
    "def lowestCommonAncestor(root, p, q):\n",
    "    inorder = inorderTraversal(root)\n",
    "    preorder = preorderTraversal(root)\n",
    "    return LCA(inorder, preorder, p, q)\n",
    "\n",
    "def LCA(inorder, preorder, p, q):\n",
    "    root = preorder.pop(0)\n",
    "    if root.val == p.val or root.val == q.val:\n",
    "        return root\n",
    "    root_index = inorder.index(root)\n",
    "    p_index = inorder.index(p)\n",
    "    q_index = inorder.index(q)\n",
    "    if root_index > min(p_index, q_index) and root_index < max(p_index, q_index):\n",
    "        return root\n",
    "    elif root_index > max(p_index, q_index):\n",
    "        return LCA(inorder[:root_index], preorder[:root_index], p, q)\n",
    "    elif root_index < min(p_index, q_index):\n",
    "        return LCA(inorder[root_index+1:], preorder[root_index:], p, q)\n",
    "\n",
    "testTree = buildTree([3,5,6,2,7,4,1,0,8], [6,5,7,2,4,3,0,1,8])\n",
    "inorder = inorderTraversal(testTree)\n",
    "print(testTree, lowestCommonAncestor(testTree, inorder[0], inorder[2]))"
   ]
  },
  {
   "cell_type": "code",
   "execution_count": 28,
   "metadata": {},
   "outputs": [
    {
     "name": "stdout",
     "output_type": "stream",
     "text": [
      "_ _ _ _ _ _ _ 3 _ _ _ _ _ _ _\n",
      "_ _ _ 5 _ _ _ _ _ _ _ 1 _ _ _\n",
      "_ 6 _ _ _ 2 _ _ _ 0 _ _ _ 8 _\n",
      "_ _ _ _ 7 _ 4 _ _ _ _ _ _ _ _\n",
      "\n",
      "_ _ _ 5 _ _ _\n",
      "_ 6 _ _ _ 2 _\n",
      "_ _ _ _ 7 _ 4\n",
      "\n"
     ]
    }
   ],
   "source": [
    "# DFS\n",
    "def lowestCommonAncestor(root, p, q):\n",
    "    if not root or root.val == p or root.val == q: return root\n",
    "    left = lowestCommonAncestor(root.left, p, q)\n",
    "    right = lowestCommonAncestor(root.right, p, q)\n",
    "    if not left: return right\n",
    "    if not right: return left\n",
    "    return root\n",
    "\n",
    "testTree = buildTree_level([3,5,1,6,2,0,8,None,None,7,4])\n",
    "print(testTree)\n",
    "print(lowestCommonAncestor(testTree, 6, 7))"
   ]
  },
  {
   "cell_type": "markdown",
   "metadata": {},
   "source": [
    "## 序列化存储和压缩二叉树"
   ]
  },
  {
   "cell_type": "code",
   "execution_count": 29,
   "metadata": {},
   "outputs": [
    {
     "name": "stdout",
     "output_type": "stream",
     "text": [
      "_ _ _ _ _ _ _ 3 _ _ _ _ _ _ _\n",
      "_ _ _ 5 _ _ _ _ _ _ _ 1 _ _ _\n",
      "_ 6 _ _ _ 2 _ _ _ 0 _ _ _ 8 _\n",
      "_ _ _ _ 7 _ 4 _ _ _ _ _ _ _ _\n",
      "\n",
      "[<__main__.TreeNode object at 0x00000200FB780C70>, <__main__.TreeNode object at 0x00000200FB865640>, <__main__.TreeNode object at 0x00000200FB865AF0>, <__main__.TreeNode object at 0x00000200FB865CA0>, <__main__.TreeNode object at 0x00000200FB8658E0>, <__main__.TreeNode object at 0x00000200FB865BE0>, <__main__.TreeNode object at 0x00000200FB8657F0>, <__main__.TreeNode object at 0x00000200FB865850>, <__main__.TreeNode object at 0x00000200FB865C10>]\n",
      "_ _ _ _ _ _ _ 3 _ _ _ _ _ _ _\n",
      "_ _ _ 5 _ _ _ _ _ _ _ 1 _ _ _\n",
      "_ 6 _ _ _ 2 _ _ _ 0 _ _ _ 8 _\n",
      "_ _ _ _ 7 _ 4 _ _ _ _ _ _ _ _\n",
      "\n"
     ]
    }
   ],
   "source": [
    "class Codec:\n",
    "\n",
    "    def serialize(self, root):\n",
    "        \"\"\"Encodes a tree to a single string.\n",
    "        \n",
    "        :type root: TreeNode\n",
    "        :rtype: str\n",
    "        \"\"\"\n",
    "        serial = []\n",
    "        Queue = [root]\n",
    "        while Queue:\n",
    "            for _ in range(len(Queue)):\n",
    "                node = Queue.pop(0)\n",
    "                serial.append(node.val if node else None)\n",
    "                if node:\n",
    "                    Queue.append(node.left)\n",
    "                    Queue.append(node.right)\n",
    "        lastNum = 0\n",
    "        string = []\n",
    "        for i, elem in enumerate(serial):\n",
    "            if elem == None:\n",
    "                string.append(\"null\")\n",
    "            else:\n",
    "                string.append(str(elem))\n",
    "                lastNum = i\n",
    "        return \",\".join(string[:lastNum+1])\n",
    "                \n",
    "\n",
    "    def deserialize(self, data):\n",
    "        \"\"\"Decodes your encoded data to tree.\n",
    "        \n",
    "        :type data: str\n",
    "        :rtype: TreeNode\n",
    "        \"\"\"\n",
    "        if data == \"null\": return None\n",
    "        levelorder = data.split(\",\")\n",
    "        levelorder = [i if i!=\"null\" else None for i in levelorder]\n",
    "        return Codec.buildTree_level(levelorder)\n",
    "\n",
    "    @staticmethod\n",
    "    def buildTree_level(levelorder):\n",
    "        length = len(levelorder)\n",
    "        if length == 0:\n",
    "            return None\n",
    "        root_val = levelorder[0]\n",
    "        root = TreeNode(root_val)\n",
    "        Queue = [root]\n",
    "        index = 1\n",
    "        while Queue and index < length:\n",
    "            for _ in range(len(Queue)):\n",
    "                node = Queue.pop(0)\n",
    "                left_val = levelorder[index] if index < length else None\n",
    "                right_val = levelorder[index+1] if index + 1 < length else None\n",
    "                if left_val != None:\n",
    "                    node.left = TreeNode(left_val)\n",
    "                    Queue.append(node.left)\n",
    "                else:\n",
    "                    node.left = None\n",
    "                if right_val != None:\n",
    "                    node.right = TreeNode(right_val)\n",
    "                    Queue.append(node.right)\n",
    "                else:\n",
    "                    node.right = None\n",
    "                index += 2\n",
    "        return root\n",
    "\n",
    "testTree = buildTree_level([3,5,1,6,2,0,8,None,None,7,4])\n",
    "print(testTree)\n",
    "print(preorderTraversal(testTree))\n",
    "s = Codec().serialize(testTree)\n",
    "tree = Codec().deserialize(s)\n",
    "print(tree)"
   ]
  },
  {
   "cell_type": "markdown",
   "metadata": {},
   "source": [
    "## 前序遍历构造二叉搜索树"
   ]
  },
  {
   "cell_type": "code",
   "execution_count": 30,
   "metadata": {},
   "outputs": [
    {
     "name": "stdout",
     "output_type": "stream",
     "text": [
      "_ _ _ 8 _ _ _\n",
      "_ 5 _ _ _ 10 _\n",
      "1 _ 7 _ _ _ 12\n",
      "\n"
     ]
    }
   ],
   "source": [
    "def buildTree(preorder, inorder):\n",
    "    if not inorder:\n",
    "        return None\n",
    "    root_val = preorder.pop(0)\n",
    "    root_index = inorder.index(root_val)\n",
    "    root = TreeNode(root_val)\n",
    "    root.left = buildTree(preorder, inorder[:root_index])\n",
    "    root.right = buildTree(preorder, inorder[root_index+1:])\n",
    "    return root\n",
    "\n",
    "def bstFromPreorder(preorder):\n",
    "    inorder = sorted(preorder)\n",
    "    return buildTree(preorder, inorder)\n",
    "\n",
    "preorder = [8,5,1,7,10,12]\n",
    "print(bstFromPreorder(preorder))"
   ]
  },
  {
   "cell_type": "code",
   "execution_count": 31,
   "metadata": {},
   "outputs": [
    {
     "name": "stdout",
     "output_type": "stream",
     "text": [
      "_ _ _ 8 _ _ _\n",
      "_ 5 _ _ _ 10 _\n",
      "1 _ 7 _ _ _ 12\n",
      "\n"
     ]
    }
   ],
   "source": [
    "def bstFromPreorder(preorder):\n",
    "    if not preorder:\n",
    "        return None\n",
    "    root_val = preorder.pop(0)\n",
    "    root = TreeNode(root_val)\n",
    "    if not preorder:\n",
    "        return root\n",
    "    idx = 0\n",
    "    while idx < len(preorder) and preorder[idx] < root_val: idx += 1\n",
    "    root.left = bstFromPreorder(preorder[:idx])\n",
    "    root.right = bstFromPreorder(preorder[idx:])\n",
    "    return root\n",
    "\n",
    "preorder = [8,5,1,7,10,12]\n",
    "print(bstFromPreorder(preorder))"
   ]
  },
  {
   "cell_type": "markdown",
   "metadata": {},
   "source": [
    "## 从先序遍历还原二叉树\n",
    "我们从二叉树的根节点 root 开始进行深度优先搜索。\n",
    "\n",
    "在遍历中的每个节点处，我们输出 D 条短划线（其中 D 是该节点的深度），然后输出该节点的值。（如果节点的深度为 D，则其直接子节点的深度为 D + 1。根节点的深度为 0）。\n",
    "\n",
    "如果节点只有一个子节点，那么保证该子节点为左子节点。\n",
    "\n",
    "给出遍历输出 S，还原树并返回其根节点 root。"
   ]
  },
  {
   "cell_type": "code",
   "execution_count": 32,
   "metadata": {},
   "outputs": [
    {
     "name": "stdout",
     "output_type": "stream",
     "text": [
      "_ _ _ 1 _ _ _\n",
      "_ 20 _ _ _ 5 _\n",
      "3 _ 4 _ 6 _ 7\n",
      "\n",
      "_ _ _ _ _ _ _ 1 _ _ _ _ _ _ _\n",
      "_ _ _ 2 _ _ _ _ _ _ _ 5 _ _ _\n",
      "_ 3 _ _ _ _ _ _ _ 6 _ _ _ _ _\n",
      "4 _ _ _ _ _ _ _ 7 _ _ _ _ _ _\n",
      "\n",
      "_ _ _ _ _ _ _ 1 _ _ _ _ _ _ _\n",
      "_ _ _ 401 _ _ _ _ _ _ _ _ _ _ _\n",
      "_ 349 _ _ _ 88 _ _ _ _ _ _ _ _ _\n",
      "90 _ _ _ _ _ _ _ _ _ _ _ _ _ _\n",
      "\n"
     ]
    }
   ],
   "source": [
    "def recoverFromPreorder(traversal):\n",
    "    queue = []\n",
    "    heng = 0\n",
    "    numbers = 0\n",
    "    for chr in traversal:\n",
    "        if chr == \"-\":\n",
    "            if numbers > 0:\n",
    "                queue.append((heng, numbers))\n",
    "                numbers = 0\n",
    "                heng = 0\n",
    "            heng += 1\n",
    "        else:\n",
    "            numbers = 10 * numbers + int(chr)\n",
    "    if numbers:\n",
    "        queue.append((heng, numbers))\n",
    "\n",
    "    def dfs(queue):\n",
    "        if not queue:\n",
    "            return None\n",
    "        l, root_val = queue.pop(0)\n",
    "        root = TreeNode(root_val)\n",
    "        if not queue:\n",
    "            return root\n",
    "        left, right = 0, len(queue)-1\n",
    "        while left < right and queue[left][0] != l + 1: left += 1\n",
    "        while left < right and queue[right][0] != l + 1: right -= 1\n",
    "        if left == right:\n",
    "            root.left = dfs(queue[left:])\n",
    "        else:\n",
    "            root.left = dfs(queue[:right])\n",
    "            root.right = dfs(queue[right:])\n",
    "        return root\n",
    "    \n",
    "    return dfs(queue)\n",
    "\n",
    "\n",
    "traversal = \"1-20--3--4-5--6--7\"\n",
    "print(recoverFromPreorder(traversal))\n",
    "\n",
    "traversal = \"1-2--3---4-5--6---7\"\n",
    "print(recoverFromPreorder(traversal))\n",
    "\n",
    "traversal = \"1-401--349---90--88\"\n",
    "print(recoverFromPreorder(traversal))\n"
   ]
  }
 ],
 "metadata": {
  "kernelspec": {
   "display_name": "base",
   "language": "python",
   "name": "python3"
  },
  "language_info": {
   "codemirror_mode": {
    "name": "ipython",
    "version": 3
   },
   "file_extension": ".py",
   "mimetype": "text/x-python",
   "name": "python",
   "nbconvert_exporter": "python",
   "pygments_lexer": "ipython3",
   "version": "3.9.7"
  }
 },
 "nbformat": 4,
 "nbformat_minor": 2
}

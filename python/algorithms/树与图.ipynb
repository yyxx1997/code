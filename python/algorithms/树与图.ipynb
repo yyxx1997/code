{
 "cells": [
  {
   "cell_type": "markdown",
   "metadata": {},
   "source": [
    "# 二叉树"
   ]
  },
  {
   "cell_type": "markdown",
   "metadata": {},
   "source": [
    "## 二叉树的定义"
   ]
  },
  {
   "cell_type": "code",
   "execution_count": 1,
   "metadata": {},
   "outputs": [],
   "source": [
    "# Definition for a binary tree node.\n",
    "class TreeNode:\n",
    "    def __init__(self, val=0, left=None, right=None):\n",
    "        self.val = val\n",
    "        self.left = left\n",
    "        self.right = right\n",
    "\n",
    "    def __str__(self) -> str:\n",
    "        return self.printTree()\n",
    "\n",
    "    @staticmethod\n",
    "    def getHeight(node):\n",
    "        if not node: return 0\n",
    "        return 1 + max(TreeNode.getHeight(node.left), TreeNode.getHeight(node.right))\n",
    "\n",
    "    def printTree(self) -> None:\n",
    "        height = TreeNode.getHeight(self)\n",
    "        width = 2 ** height - 1\n",
    "        res = [[\"_\" for _ in range(width)] for _ in range(height)]\n",
    "\n",
    "        def fillTree(node, level, start, end, res):\n",
    "            if not self:\n",
    "                return\n",
    "            mid = (start + end) // 2\n",
    "            res[level][mid] = str(node.val)\n",
    "            if node.left: fillTree(node.left, level + 1, start, mid - 1, res)\n",
    "            if node.right: fillTree(node.right, level + 1, mid + 1, end, res)\n",
    "            \n",
    "        fillTree(self, 0, 0, width - 1, res)\n",
    "        result = \"\"\n",
    "        for row in res:\n",
    "            result += \" \".join(row) + \"\\n\"\n",
    "        return result"
   ]
  },
  {
   "cell_type": "markdown",
   "metadata": {},
   "source": [
    "## 二叉树的构建\n",
    "### 根据前/后序+中序遍历结果构建"
   ]
  },
  {
   "cell_type": "code",
   "execution_count": 2,
   "metadata": {},
   "outputs": [
    {
     "name": "stdout",
     "output_type": "stream",
     "text": [
      "_ _ _ _ _ _ _ 3 _ _ _ _ _ _ _\n",
      "_ _ _ 5 _ _ _ _ _ _ _ 1 _ _ _\n",
      "_ 6 _ _ _ 2 _ _ _ 0 _ _ _ 8 _\n",
      "_ _ _ _ 7 _ 4 _ _ _ _ _ _ _ _\n",
      "\n",
      "_ _ _ 3 _ _ _\n",
      "_ 9 _ _ _ 20 _\n",
      "_ _ _ _ 15 _ 7\n",
      "\n"
     ]
    }
   ],
   "source": [
    "def buildTree(preorder, inorder):\n",
    "    if not inorder:\n",
    "        return None\n",
    "    root_val = preorder.pop(0)\n",
    "    root_index = inorder.index(root_val)\n",
    "    root = TreeNode(root_val)\n",
    "    root.left = buildTree(preorder, inorder[:root_index])\n",
    "    root.right = buildTree(preorder, inorder[root_index+1:])\n",
    "    return root\n",
    "\n",
    "def buildTree_in_post(inorder, postorder):\n",
    "    if not postorder: return \n",
    "    root_val = postorder.pop()\n",
    "    root = TreeNode(root_val)\n",
    "    index_root = inorder.index(root_val)\n",
    "    root.left = buildTree_in_post(inorder[:index_root], postorder[:index_root])\n",
    "    root.right = buildTree_in_post(inorder[index_root+1:], postorder[index_root:])\n",
    "    return root\n",
    "\n",
    "testTree = buildTree([3,5,6,2,7,4,1,0,8], [6,5,7,2,4,3,0,1,8])\n",
    "print(testTree)\n",
    "testTree = buildTree_in_post([9,3,15,20,7], [9,15,7,20,3])\n",
    "print(testTree)\n"
   ]
  },
  {
   "cell_type": "markdown",
   "metadata": {},
   "source": [
    "### 根据层序遍历结果构建"
   ]
  },
  {
   "cell_type": "code",
   "execution_count": 3,
   "metadata": {},
   "outputs": [
    {
     "name": "stdout",
     "output_type": "stream",
     "text": [
      "_ _ _ 1 _ _ _\n",
      "_ 2 _ _ _ 3 _\n",
      "4 _ _ _ _ _ 5\n",
      "\n",
      "_ 1 _\n",
      "2 _ _\n",
      "\n"
     ]
    }
   ],
   "source": [
    "def buildTree_level(levelorder):\n",
    "    length = len(levelorder)\n",
    "    if length == 0:\n",
    "        return None\n",
    "    root_val = levelorder[0]\n",
    "    root = TreeNode(root_val)\n",
    "    Queue = [root]\n",
    "    index = 1\n",
    "    while Queue and index < length:\n",
    "        for _ in range(len(Queue)):\n",
    "            node = Queue.pop(0)\n",
    "            left_val = levelorder[index] if index < length else None\n",
    "            right_val = levelorder[index+1] if index + 1 < length else None\n",
    "            if left_val != None:\n",
    "                node.left = TreeNode(left_val)\n",
    "                Queue.append(node.left)\n",
    "            else:\n",
    "                node.left = None\n",
    "            if right_val != None:\n",
    "                node.right = TreeNode(right_val)\n",
    "                Queue.append(node.right)\n",
    "            else:\n",
    "                node.right = None\n",
    "            index += 2\n",
    "    return root\n",
    "\n",
    "testTree = buildTree_level([1,2,3,4,None,None,5])\n",
    "print(testTree)\n",
    "testTree = buildTree_level([1,2])\n",
    "print(testTree)\n",
    "#         1\n",
    "#     2       3\n",
    "# 4               5"
   ]
  },
  {
   "cell_type": "markdown",
   "metadata": {},
   "source": [
    "## 二叉树遍历（非递归）"
   ]
  },
  {
   "cell_type": "markdown",
   "metadata": {},
   "source": [
    "### 前序遍历"
   ]
  },
  {
   "cell_type": "code",
   "execution_count": 4,
   "metadata": {},
   "outputs": [
    {
     "name": "stdout",
     "output_type": "stream",
     "text": [
      "[3] ==>\t []\n",
      "[3, 5] ==>\t [3]\n",
      "[3, 5, 6] ==>\t [3, 5]\n",
      "[3, 5, 6, None] ==>\t [3, 5, 6]\n",
      "[3, 5, 6] ==>\t [3, 5, 6]\n",
      "[3, 5, None] ==>\t [3, 5, 6]\n",
      "[3, 5] ==>\t [3, 5, 6]\n",
      "[3, 2] ==>\t [3, 5, 6]\n",
      "[3, 2, 7] ==>\t [3, 5, 6, 2]\n",
      "[3, 2, 7, None] ==>\t [3, 5, 6, 2, 7]\n",
      "[3, 2, 7] ==>\t [3, 5, 6, 2, 7]\n",
      "[3, 2, None] ==>\t [3, 5, 6, 2, 7]\n",
      "[3, 2] ==>\t [3, 5, 6, 2, 7]\n",
      "[3, 4] ==>\t [3, 5, 6, 2, 7]\n",
      "[3, 4, None] ==>\t [3, 5, 6, 2, 7, 4]\n",
      "[3, 4] ==>\t [3, 5, 6, 2, 7, 4]\n",
      "[3, None] ==>\t [3, 5, 6, 2, 7, 4]\n",
      "[3] ==>\t [3, 5, 6, 2, 7, 4]\n",
      "[1] ==>\t [3, 5, 6, 2, 7, 4]\n",
      "[1, 0] ==>\t [3, 5, 6, 2, 7, 4, 1]\n",
      "[1, 0, None] ==>\t [3, 5, 6, 2, 7, 4, 1, 0]\n",
      "[1, 0] ==>\t [3, 5, 6, 2, 7, 4, 1, 0]\n",
      "[1, None] ==>\t [3, 5, 6, 2, 7, 4, 1, 0]\n",
      "[1] ==>\t [3, 5, 6, 2, 7, 4, 1, 0]\n",
      "[8] ==>\t [3, 5, 6, 2, 7, 4, 1, 0]\n",
      "[8, None] ==>\t [3, 5, 6, 2, 7, 4, 1, 0, 8]\n",
      "[8] ==>\t [3, 5, 6, 2, 7, 4, 1, 0, 8]\n",
      "[None] ==>\t [3, 5, 6, 2, 7, 4, 1, 0, 8]\n",
      "_ _ _ _ _ _ _ 3 _ _ _ _ _ _ _\n",
      "_ _ _ 5 _ _ _ _ _ _ _ 1 _ _ _\n",
      "_ 6 _ _ _ 2 _ _ _ 0 _ _ _ 8 _\n",
      "_ _ _ _ 7 _ 4 _ _ _ _ _ _ _ _\n",
      " [3, 5, 6, 2, 7, 4, 1, 0, 8]\n"
     ]
    }
   ],
   "source": [
    "def preorderTraversal(root):\n",
    "    if not root:\n",
    "        return []\n",
    "    stack = [root]\n",
    "    visited = []\n",
    "    lastpop = False\n",
    "    while stack != []:\n",
    "        node = stack[-1]\n",
    "        print([i.val if i else i for i in stack], \"==>\\t\", visited)\n",
    "        if node is None:\n",
    "            stack.pop()\n",
    "            lastpop = True\n",
    "            continue\n",
    "        if lastpop:\n",
    "            temp = stack.pop()\n",
    "            stack.append(temp.right)\n",
    "        else:\n",
    "            visited.append(node.val)\n",
    "            stack.append(node.left)\n",
    "        lastpop = False\n",
    "    return visited\n",
    "\n",
    "testTree = buildTree([3,5,6,2,7,4,1,0,8], [6,5,7,2,4,3,0,1,8])\n",
    "print(testTree, preorderTraversal(testTree))"
   ]
  },
  {
   "cell_type": "code",
   "execution_count": 5,
   "metadata": {},
   "outputs": [
    {
     "name": "stdout",
     "output_type": "stream",
     "text": [
      "[3] ==>\t []\n",
      "[1, 5] ==>\t [3]\n",
      "[1, 2, 6] ==>\t [3, 5]\n",
      "[1, 2] ==>\t [3, 5, 6]\n",
      "[1, 4, 7] ==>\t [3, 5, 6, 2]\n",
      "[1, 4] ==>\t [3, 5, 6, 2, 7]\n",
      "[1] ==>\t [3, 5, 6, 2, 7, 4]\n",
      "[8, 0] ==>\t [3, 5, 6, 2, 7, 4, 1]\n",
      "[8] ==>\t [3, 5, 6, 2, 7, 4, 1, 0]\n",
      "_ _ _ _ _ _ _ 3 _ _ _ _ _ _ _\n",
      "_ _ _ 5 _ _ _ _ _ _ _ 1 _ _ _\n",
      "_ 6 _ _ _ 2 _ _ _ 0 _ _ _ 8 _\n",
      "_ _ _ _ 7 _ 4 _ _ _ _ _ _ _ _\n",
      " [3, 5, 6, 2, 7, 4, 1, 0, 8]\n"
     ]
    }
   ],
   "source": [
    "def preorderTraversal(root):\n",
    "    if not root:\n",
    "        return []\n",
    "    stack = [root]\n",
    "    visited = []\n",
    "    while stack != []:\n",
    "        print([i.val if i else i for i in stack], \"==>\\t\", visited)\n",
    "        node = stack.pop()\n",
    "        visited.append(node.val)\n",
    "        if node.right:\n",
    "            stack.append(node.right)\n",
    "        if node.left:\n",
    "            stack.append(node.left)\n",
    "    return visited\n",
    "\n",
    "testTree = buildTree([3,5,6,2,7,4,1,0,8], [6,5,7,2,4,3,0,1,8])\n",
    "print(testTree, preorderTraversal(testTree))"
   ]
  },
  {
   "cell_type": "code",
   "execution_count": 6,
   "metadata": {},
   "outputs": [
    {
     "name": "stdout",
     "output_type": "stream",
     "text": [
      "[] ==>\t []\n",
      "[3] ==>\t [3]\n",
      "[3, 5] ==>\t [3, 5]\n",
      "[3] ==>\t [3, 5, 6]\n",
      "[3, 2] ==>\t [3, 5, 6, 2]\n",
      "[3] ==>\t [3, 5, 6, 2, 7]\n",
      "[] ==>\t [3, 5, 6, 2, 7, 4]\n",
      "[1] ==>\t [3, 5, 6, 2, 7, 4, 1]\n",
      "[] ==>\t [3, 5, 6, 2, 7, 4, 1, 0]\n",
      "_ _ _ _ _ _ _ 3 _ _ _ _ _ _ _\n",
      "_ _ _ 5 _ _ _ _ _ _ _ 1 _ _ _\n",
      "_ 6 _ _ _ 2 _ _ _ 0 _ _ _ 8 _\n",
      "_ _ _ _ 7 _ 4 _ _ _ _ _ _ _ _\n",
      " [3, 5, 6, 2, 7, 4, 1, 0, 8]\n"
     ]
    }
   ],
   "source": [
    "def preorderTraversal(root):\n",
    "    if not root: return []\n",
    "    stack = []\n",
    "    visited = []\n",
    "    node = root\n",
    "    while stack or node:\n",
    "        while node:\n",
    "            print([i.val if i else i for i in stack], \"==>\\t\", visited)\n",
    "            visited.append(node.val)\n",
    "            stack.append(node)\n",
    "            node = node.left\n",
    "        node = stack.pop()\n",
    "        node = node.right\n",
    "    return visited\n",
    "    \n",
    "testTree = buildTree([3,5,6,2,7,4,1,0,8], [6,5,7,2,4,3,0,1,8])\n",
    "print(testTree, preorderTraversal(testTree))"
   ]
  },
  {
   "cell_type": "markdown",
   "metadata": {},
   "source": [
    "### 中序遍历"
   ]
  },
  {
   "cell_type": "code",
   "execution_count": 7,
   "metadata": {},
   "outputs": [
    {
     "name": "stdout",
     "output_type": "stream",
     "text": [
      "[3] ==>\t []\n",
      "[3, 5] ==>\t []\n",
      "[3, 5, 6] ==>\t []\n",
      "[3, 5, 6, None] ==>\t []\n",
      "[3, 5, 6] ==>\t []\n",
      "[3, 5, None] ==>\t [6]\n",
      "[3, 5] ==>\t [6]\n",
      "[3, 2] ==>\t [6, 5]\n",
      "[3, 2, 7] ==>\t [6, 5]\n",
      "[3, 2, 7, None] ==>\t [6, 5]\n",
      "[3, 2, 7] ==>\t [6, 5]\n",
      "[3, 2, None] ==>\t [6, 5, 7]\n",
      "[3, 2] ==>\t [6, 5, 7]\n",
      "[3, 4] ==>\t [6, 5, 7, 2]\n",
      "[3, 4, None] ==>\t [6, 5, 7, 2]\n",
      "[3, 4] ==>\t [6, 5, 7, 2]\n",
      "[3, None] ==>\t [6, 5, 7, 2, 4]\n",
      "[3] ==>\t [6, 5, 7, 2, 4]\n",
      "[1] ==>\t [6, 5, 7, 2, 4, 3]\n",
      "[1, 0] ==>\t [6, 5, 7, 2, 4, 3]\n",
      "[1, 0, None] ==>\t [6, 5, 7, 2, 4, 3]\n",
      "[1, 0] ==>\t [6, 5, 7, 2, 4, 3]\n",
      "[1, None] ==>\t [6, 5, 7, 2, 4, 3, 0]\n",
      "[1] ==>\t [6, 5, 7, 2, 4, 3, 0]\n",
      "[8] ==>\t [6, 5, 7, 2, 4, 3, 0, 1]\n",
      "[8, None] ==>\t [6, 5, 7, 2, 4, 3, 0, 1]\n",
      "[8] ==>\t [6, 5, 7, 2, 4, 3, 0, 1]\n",
      "[None] ==>\t [6, 5, 7, 2, 4, 3, 0, 1, 8]\n",
      "_ _ _ _ _ _ _ 3 _ _ _ _ _ _ _\n",
      "_ _ _ 5 _ _ _ _ _ _ _ 1 _ _ _\n",
      "_ 6 _ _ _ 2 _ _ _ 0 _ _ _ 8 _\n",
      "_ _ _ _ 7 _ 4 _ _ _ _ _ _ _ _\n",
      " [6, 5, 7, 2, 4, 3, 0, 1, 8]\n"
     ]
    }
   ],
   "source": [
    "def inorderTraversal(root):\n",
    "    if not root: return []\n",
    "    stack = [root]\n",
    "    visited = []\n",
    "    lastpop = False\n",
    "    while stack != []:\n",
    "        print([i.val if i else i for i in stack], \"==>\\t\", visited)\n",
    "        node = stack[-1]\n",
    "        if node is None:\n",
    "            stack.pop()\n",
    "            lastpop = True\n",
    "            continue\n",
    "        if lastpop:\n",
    "            temp = stack.pop()\n",
    "            visited.append(temp.val)\n",
    "            stack.append(temp.right)\n",
    "        else:\n",
    "            stack.append(node.left)\n",
    "        lastpop = False\n",
    "    return visited\n",
    "\n",
    "print(testTree, inorderTraversal(testTree)) \n"
   ]
  },
  {
   "cell_type": "code",
   "execution_count": 8,
   "metadata": {},
   "outputs": [
    {
     "name": "stdout",
     "output_type": "stream",
     "text": [
      "[] ==>\t []\n",
      "[3] ==>\t []\n",
      "[3, 5] ==>\t []\n",
      "[3, 5, 6] ==>\t []\n",
      "[3, 5] ==>\t [6]\n",
      "[3] ==>\t [6, 5]\n",
      "[3, 2] ==>\t [6, 5]\n",
      "[3, 2, 7] ==>\t [6, 5]\n",
      "[3, 2] ==>\t [6, 5, 7]\n",
      "[3] ==>\t [6, 5, 7, 2]\n",
      "[3, 4] ==>\t [6, 5, 7, 2]\n",
      "[3] ==>\t [6, 5, 7, 2, 4]\n",
      "[] ==>\t [6, 5, 7, 2, 4, 3]\n",
      "[1] ==>\t [6, 5, 7, 2, 4, 3]\n",
      "[1, 0] ==>\t [6, 5, 7, 2, 4, 3]\n",
      "[1] ==>\t [6, 5, 7, 2, 4, 3, 0]\n",
      "[] ==>\t [6, 5, 7, 2, 4, 3, 0, 1]\n",
      "[8] ==>\t [6, 5, 7, 2, 4, 3, 0, 1]\n",
      "_ _ _ _ _ _ _ 3 _ _ _ _ _ _ _\n",
      "_ _ _ 5 _ _ _ _ _ _ _ 1 _ _ _\n",
      "_ 6 _ _ _ 2 _ _ _ 0 _ _ _ 8 _\n",
      "_ _ _ _ 7 _ 4 _ _ _ _ _ _ _ _\n",
      " [6, 5, 7, 2, 4, 3, 0, 1, 8]\n"
     ]
    }
   ],
   "source": [
    "def inorderTraversal(root):\n",
    "    if not root: return []\n",
    "    stack = []\n",
    "    visited = []\n",
    "    node = root\n",
    "    while stack or node:\n",
    "        print([i.val if i else i for i in stack], \"==>\\t\", visited)\n",
    "        if node:\n",
    "            stack.append(node)\n",
    "            node = node.left\n",
    "        else:\n",
    "            node = stack.pop()\n",
    "            visited.append(node.val)\n",
    "            node = node.right\n",
    "    return visited\n",
    "\n",
    "testTree = buildTree([3,5,6,2,7,4,1,0,8], [6,5,7,2,4,3,0,1,8])\n",
    "print(testTree, inorderTraversal(testTree))"
   ]
  },
  {
   "cell_type": "code",
   "execution_count": 9,
   "metadata": {},
   "outputs": [
    {
     "data": {
      "text/plain": [
       "[6, 5, 7, 2, 4, 3, 0, 1, 8]"
      ]
     },
     "execution_count": 9,
     "metadata": {},
     "output_type": "execute_result"
    }
   ],
   "source": [
    "def inorderTraversal(root):\n",
    "    if not root: return []\n",
    "    stack = []\n",
    "    visited = []\n",
    "    node = root\n",
    "    while stack or node:\n",
    "        while node:\n",
    "            stack.append(node)\n",
    "            node = node.left\n",
    "        node = stack.pop()\n",
    "        visited.append(node.val)\n",
    "        node = node.right\n",
    "    return visited\n",
    "    \n",
    "inorderTraversal(testTree)"
   ]
  },
  {
   "cell_type": "markdown",
   "metadata": {},
   "source": [
    "### 后序遍历"
   ]
  },
  {
   "cell_type": "code",
   "execution_count": 10,
   "metadata": {},
   "outputs": [
    {
     "name": "stdout",
     "output_type": "stream",
     "text": [
      "[] ==>\t []\n",
      "[3] ==>\t []\n",
      "[3, 5] ==>\t []\n",
      "[3, 5, 6] ==>\t []\n",
      "[3, 5] ==>\t [6]\n",
      "[3, 5] ==>\t [6]\n",
      "[3, 5, 2] ==>\t [6]\n",
      "[3, 5, 2, 7] ==>\t [6]\n",
      "[3, 5, 2] ==>\t [6, 7]\n",
      "[3, 5, 2] ==>\t [6, 7]\n",
      "[3, 5, 2, 4] ==>\t [6, 7]\n",
      "[3, 5, 2] ==>\t [6, 7, 4]\n",
      "[3, 5] ==>\t [6, 7, 4, 2]\n",
      "[3] ==>\t [6, 7, 4, 2, 5]\n",
      "[3] ==>\t [6, 7, 4, 2, 5]\n",
      "[3, 1] ==>\t [6, 7, 4, 2, 5]\n",
      "[3, 1, 0] ==>\t [6, 7, 4, 2, 5]\n",
      "[3, 1] ==>\t [6, 7, 4, 2, 5, 0]\n",
      "[3, 1] ==>\t [6, 7, 4, 2, 5, 0]\n",
      "[3, 1, 8] ==>\t [6, 7, 4, 2, 5, 0]\n",
      "[3, 1] ==>\t [6, 7, 4, 2, 5, 0, 8]\n",
      "[3] ==>\t [6, 7, 4, 2, 5, 0, 8, 1]\n",
      "_ _ _ _ _ _ _ 3 _ _ _ _ _ _ _\n",
      "_ _ _ 5 _ _ _ _ _ _ _ 1 _ _ _\n",
      "_ 6 _ _ _ 2 _ _ _ 0 _ _ _ 8 _\n",
      "_ _ _ _ 7 _ 4 _ _ _ _ _ _ _ _\n",
      " [6, 7, 4, 2, 5, 0, 8, 1, 3]\n"
     ]
    }
   ],
   "source": [
    "def postorderTraversal(root):\n",
    "    if not root: return []\n",
    "    stack = []\n",
    "    visited = []\n",
    "    node, prepop = root, None\n",
    "    while stack or node:\n",
    "        print([i.val if i else i for i in stack], \"==>\\t\", visited)\n",
    "        if node:\n",
    "            stack.append(node)\n",
    "            node = node.left\n",
    "        else:\n",
    "            node = stack[-1]\n",
    "            if node.right and node.right != prepop:\n",
    "                node = node.right\n",
    "            else:\n",
    "                prepop = stack.pop()\n",
    "                visited.append(prepop.val)\n",
    "                node = None\n",
    "    return visited\n",
    "\n",
    "print(testTree, postorderTraversal(testTree))"
   ]
  },
  {
   "cell_type": "markdown",
   "metadata": {},
   "source": [
    "### morris法"
   ]
  },
  {
   "cell_type": "code",
   "execution_count": 11,
   "metadata": {},
   "outputs": [
    {
     "data": {
      "text/plain": [
       "[6, 5, 7, 2, 4, 3, 0, 1, 8]"
      ]
     },
     "execution_count": 11,
     "metadata": {},
     "output_type": "execute_result"
    }
   ],
   "source": [
    "def inorderTraversal_morris(root):\n",
    "    cur, pre = root, None\n",
    "    visited = []\n",
    "    while cur:\n",
    "        if cur.left is None:\n",
    "            visited.append(cur.val)\n",
    "            cur = cur.right\n",
    "        else:\n",
    "            pre = cur.left\n",
    "            while pre.right:\n",
    "                if pre.right == cur:\n",
    "                    pre.right = None\n",
    "                    visited.append(cur.val)\n",
    "                    cur = cur.right\n",
    "                    break\n",
    "                pre = pre.right\n",
    "            else:\n",
    "                pre.right = cur\n",
    "                cur = cur.left\n",
    "    return visited\n",
    "\n",
    "inorderTraversal_morris(testTree)"
   ]
  },
  {
   "cell_type": "code",
   "execution_count": 12,
   "metadata": {},
   "outputs": [
    {
     "name": "stdout",
     "output_type": "stream",
     "text": [
      "_ _ _ _ _ _ _ 3 _ _ _ _ _ _ _\n",
      "_ _ _ 5 _ _ _ _ _ _ _ 1 _ _ _\n",
      "_ 6 _ _ _ 2 _ _ _ 0 _ _ _ 8 _\n",
      "_ _ _ _ 7 _ 4 _ _ _ _ _ _ _ _\n",
      "\n"
     ]
    },
    {
     "data": {
      "text/plain": [
       "[3, 5, 6, 2, 7, 4, 1, 0, 8]"
      ]
     },
     "execution_count": 12,
     "metadata": {},
     "output_type": "execute_result"
    }
   ],
   "source": [
    "def preorderTraversal_morris(root):\n",
    "    cur, pre = root, None\n",
    "    visited = []\n",
    "    while cur:\n",
    "        if cur.left is None:\n",
    "            visited.append(cur.val)\n",
    "            cur = cur.right\n",
    "        else:\n",
    "            pre = cur.left\n",
    "            while pre.right:\n",
    "                if pre.right == cur:\n",
    "                    pre.right = None\n",
    "                    cur = cur.right\n",
    "                    break\n",
    "                pre = pre.right\n",
    "            else:\n",
    "                visited.append(cur.val)\n",
    "                pre.right = cur\n",
    "                cur = cur.left\n",
    "    return visited\n",
    "print(testTree)\n",
    "preorderTraversal_morris(testTree)"
   ]
  },
  {
   "cell_type": "code",
   "execution_count": 13,
   "metadata": {},
   "outputs": [
    {
     "data": {
      "text/plain": [
       "[6, 7, 4, 2, 5, 0, 8, 1, 3]"
      ]
     },
     "execution_count": 13,
     "metadata": {},
     "output_type": "execute_result"
    }
   ],
   "source": [
    "def postTraversal_morris(root):\n",
    "    cur, pre = root, None\n",
    "    visited = []\n",
    "    while cur:\n",
    "        if cur.left is None:\n",
    "            cur = cur.right\n",
    "        else:\n",
    "            pre = cur.left\n",
    "            while pre.right:\n",
    "                if pre.right == cur:\n",
    "                    pre.right = None\n",
    "                    visited += printEdge(cur.left)\n",
    "                    cur = cur.right\n",
    "                    break\n",
    "                pre = pre.right\n",
    "            else:\n",
    "                pre.right = cur\n",
    "                cur = cur.left\n",
    "    visited += printEdge(root)\n",
    "    return visited\n",
    "\n",
    "def printEdge(root):\n",
    "    cur = root\n",
    "    result = []\n",
    "    while cur:\n",
    "        result.append(cur.val)\n",
    "        cur = cur.right\n",
    "    return result[::-1]\n",
    "\n",
    "postTraversal_morris(testTree)"
   ]
  },
  {
   "cell_type": "markdown",
   "metadata": {},
   "source": [
    "## 二叉树深度"
   ]
  },
  {
   "cell_type": "markdown",
   "metadata": {},
   "source": [
    "最大深度"
   ]
  },
  {
   "cell_type": "code",
   "execution_count": 14,
   "metadata": {},
   "outputs": [
    {
     "data": {
      "text/plain": [
       "4"
      ]
     },
     "execution_count": 14,
     "metadata": {},
     "output_type": "execute_result"
    }
   ],
   "source": [
    "testTree = buildTree([1,2,4,6,5,3], [6,4,2,5,1,3])\n",
    "\n",
    "def maxDepth(root):\n",
    "    if not root: return 0\n",
    "    return max(maxDepth(root.left), maxDepth(root.right)) + 1\n",
    "\n",
    "maxDepth(testTree)"
   ]
  },
  {
   "cell_type": "markdown",
   "metadata": {},
   "source": [
    "morris解法"
   ]
  },
  {
   "cell_type": "code",
   "execution_count": 15,
   "metadata": {},
   "outputs": [
    {
     "data": {
      "text/plain": [
       "5"
      ]
     },
     "execution_count": 15,
     "metadata": {},
     "output_type": "execute_result"
    }
   ],
   "source": [
    "def maxDepth(root):\n",
    "    cur, pre = root, None\n",
    "    maxdep, dep = 0, 0\n",
    "    while cur:\n",
    "        if cur.left is None:\n",
    "            cur = cur.right\n",
    "            dep += 1\n",
    "            maxdep = max(maxdep, dep)\n",
    "        else:\n",
    "            pre = cur.left\n",
    "            leftHeight = 1\n",
    "            while pre.right:\n",
    "                if pre.right == cur:\n",
    "                    pre.right = None\n",
    "                    dep -= leftHeight\n",
    "                    cur = cur.right\n",
    "                    break\n",
    "                pre = pre.right\n",
    "                leftHeight += 1\n",
    "            else:\n",
    "                pre.right = cur\n",
    "                cur = cur.left\n",
    "                dep += 1\n",
    "                maxdep = max(maxdep, dep)\n",
    "    return maxdep\n",
    "\n",
    "testTree = buildTree([2,3,4,5,6], [2,3,4,5,6])\n",
    "maxDepth(testTree)"
   ]
  },
  {
   "cell_type": "markdown",
   "metadata": {},
   "source": [
    "最小深度"
   ]
  },
  {
   "cell_type": "code",
   "execution_count": 16,
   "metadata": {},
   "outputs": [
    {
     "name": "stdout",
     "output_type": "stream",
     "text": [
      "_ _ _ _ _ _ _ _ _ _ _ _ _ _ _ 2 _ _ _ _ _ _ _ _ _ _ _ _ _ _ _\n",
      "_ _ _ _ _ _ _ _ _ _ _ _ _ _ _ _ _ _ _ _ _ _ _ 3 _ _ _ _ _ _ _\n",
      "_ _ _ _ _ _ _ _ _ _ _ _ _ _ _ _ _ _ _ _ _ _ _ _ _ _ _ 4 _ _ _\n",
      "_ _ _ _ _ _ _ _ _ _ _ _ _ _ _ _ _ _ _ _ _ _ _ _ _ _ _ _ _ 5 _\n",
      "_ _ _ _ _ _ _ _ _ _ _ _ _ _ _ _ _ _ _ _ _ _ _ _ _ _ _ _ _ _ 6\n",
      "\n"
     ]
    },
    {
     "data": {
      "text/plain": [
       "5"
      ]
     },
     "execution_count": 16,
     "metadata": {},
     "output_type": "execute_result"
    }
   ],
   "source": [
    "def minDepth(root):\n",
    "    if root.left == None and root.right == None:\n",
    "        return 1\n",
    "    left, right = 1e10, 1e10\n",
    "    if root.left:\n",
    "        left = minDepth(root.left)\n",
    "    if root.right:\n",
    "        right = minDepth(root.right)\n",
    "    return min(left, right) + 1\n",
    "\n",
    "testTree = buildTree([2,3,4,5,6], [2,3,4,5,6])\n",
    "print(testTree)\n",
    "minDepth(testTree)"
   ]
  },
  {
   "cell_type": "markdown",
   "metadata": {},
   "source": [
    "Morris解法"
   ]
  },
  {
   "cell_type": "code",
   "execution_count": 17,
   "metadata": {},
   "outputs": [
    {
     "data": {
      "text/plain": [
       "2"
      ]
     },
     "execution_count": 17,
     "metadata": {},
     "output_type": "execute_result"
    }
   ],
   "source": [
    "def minDepth(root):\n",
    "    cur, pre = root, None\n",
    "    mindep, dep = 1e20, 0\n",
    "    while cur:\n",
    "        if cur.left is None:\n",
    "            cur = cur.right\n",
    "            dep += 1\n",
    "        else:\n",
    "            pre = cur.left\n",
    "            leftHeight = 1\n",
    "            while pre.right:\n",
    "                if pre.right == cur:\n",
    "                    if pre.left == None:\n",
    "                        mindep = min(mindep, dep)\n",
    "                    pre.right = None\n",
    "                    dep -= leftHeight\n",
    "                    cur = cur.right\n",
    "                    break\n",
    "                pre = pre.right\n",
    "                leftHeight += 1\n",
    "            else:\n",
    "                pre.right = cur\n",
    "                cur = cur.left\n",
    "                dep += 1\n",
    "    finalRight = 1\n",
    "    cur = root\n",
    "    while cur.right:\n",
    "        cur = cur.right\n",
    "        finalRight += 1\n",
    "    if cur.left == None:\n",
    "        mindep = min(mindep, finalRight)\n",
    "    return mindep\n",
    "\n",
    "testTree = buildTree([1,2,4,6,5,3], [6,4,2,5,1,3])\n",
    "minDepth(testTree)"
   ]
  },
  {
   "cell_type": "markdown",
   "metadata": {},
   "source": [
    "## 翻转二叉树"
   ]
  },
  {
   "cell_type": "code",
   "execution_count": 18,
   "metadata": {},
   "outputs": [
    {
     "name": "stdout",
     "output_type": "stream",
     "text": [
      "_ _ _ 4 _ _ _\n",
      "_ 2 _ _ _ 7 _\n",
      "1 _ 3 _ 6 _ 9\n",
      "\n",
      "_ _ _ 4 _ _ _\n",
      "_ 7 _ _ _ 2 _\n",
      "9 _ 6 _ 3 _ 1\n",
      "\n"
     ]
    }
   ],
   "source": [
    "def invertTree(root):\n",
    "    if root == None:\n",
    "        return None\n",
    "    root.left, root.right = invertTree(root.right), invertTree(root.left)\n",
    "    return root\n",
    "\n",
    "testTree = buildTree_level([4,2,7,1,3,6,9])\n",
    "print(testTree)\n",
    "invertTree(testTree)\n",
    "print(testTree)"
   ]
  },
  {
   "cell_type": "code",
   "execution_count": 19,
   "metadata": {},
   "outputs": [
    {
     "name": "stdout",
     "output_type": "stream",
     "text": [
      "_ _ _ 4 _ _ _\n",
      "_ 2 _ _ _ 7 _\n",
      "1 _ 3 _ 6 _ 9\n",
      "\n",
      "_ _ _ 4 _ _ _\n",
      "_ 7 _ _ _ 2 _\n",
      "9 _ 6 _ 3 _ 1\n",
      "\n"
     ]
    }
   ],
   "source": [
    "def invertTree_level(root):\n",
    "    if root == None:\n",
    "        return None\n",
    "    queue = [root]\n",
    "    while queue:\n",
    "        node = queue.pop(0)\n",
    "        node.left, node.right = node.right, node.left\n",
    "        if node.left:\n",
    "            queue.append(node.left)\n",
    "        if node.right:\n",
    "            queue.append(node.right)\n",
    "    return root\n",
    "\n",
    "testTree = buildTree_level([4,2,7,1,3,6,9])\n",
    "print(testTree)\n",
    "invertTree_level(testTree)\n",
    "print(testTree)"
   ]
  },
  {
   "cell_type": "markdown",
   "metadata": {},
   "source": [
    "## 对称二叉树"
   ]
  },
  {
   "cell_type": "code",
   "execution_count": 20,
   "metadata": {},
   "outputs": [
    {
     "name": "stdout",
     "output_type": "stream",
     "text": [
      "_ _ _ 1 _ _ _\n",
      "_ 2 _ _ _ 2 _\n",
      "3 _ 4 _ 4 _ 3\n",
      " True\n",
      "_ _ _ 1 _ _ _\n",
      "_ 2 _ _ _ 2 _\n",
      "_ _ 3 _ _ _ 3\n",
      " False\n"
     ]
    }
   ],
   "source": [
    "def isSymmetric(root):\n",
    "    if not root: return False\n",
    "    Queue = [root]\n",
    "    while Queue:\n",
    "        temp = []\n",
    "        for _ in range(len(Queue)):\n",
    "            node = Queue.pop(0)\n",
    "            if node == \"#\": \n",
    "                continue\n",
    "            elif node:\n",
    "                temp.append(node.val)\n",
    "                Queue.append(node.left)\n",
    "                Queue.append(node.right)\n",
    "            else: \n",
    "                temp.append(\"#\")\n",
    "        if temp != temp[::-1]:\n",
    "            return False\n",
    "    return True\n",
    "\n",
    "testTree = buildTree([1,2,3,4,2,4,3], [3,2,4,1,4,2,3])\n",
    "print(testTree, isSymmetric(testTree))\n",
    "testTree = buildTree([1,2,3,2,3], [2,3,1,2,3])\n",
    "print(testTree, isSymmetric(testTree))"
   ]
  },
  {
   "cell_type": "code",
   "execution_count": 21,
   "metadata": {},
   "outputs": [
    {
     "name": "stdout",
     "output_type": "stream",
     "text": [
      "_ _ _ 1 _ _ _\n",
      "_ 2 _ _ _ 2 _\n",
      "3 _ 4 _ 4 _ 3\n",
      " True\n",
      "_ _ _ 1 _ _ _\n",
      "_ 2 _ _ _ 2 _\n",
      "_ _ 3 _ _ _ 3\n",
      " False\n",
      "_ _ _ 1 _ _ _\n",
      "_ 2 _ _ _ 2 _\n",
      "_ _ 2 _ _ _ 2\n",
      " False\n"
     ]
    }
   ],
   "source": [
    "def Symmetric(node1, node2):\n",
    "    if node1 == None and node2 == None:\n",
    "        return True\n",
    "    elif node1 == None or node2 == None:\n",
    "        return False\n",
    "    else:\n",
    "        return node1.val == node2.val and Symmetric(node1.left, node2.right) and Symmetric(node1.right, node2.left)\n",
    "\n",
    "def isSymmetric(root):\n",
    "    if not root: return False\n",
    "    return Symmetric(root, root)\n",
    "\n",
    "testTree = buildTree([1,2,3,4,2,4,3], [3,2,4,1,4,2,3])\n",
    "print(testTree, isSymmetric(testTree))\n",
    "testTree = buildTree([1,2,3,2,3], [2,3,1,2,3])\n",
    "print(testTree, isSymmetric(testTree))\n",
    "testTree = buildTree([1,2,2,2,2], [2,2,1,2,2])\n",
    "print(testTree, isSymmetric(testTree))"
   ]
  },
  {
   "cell_type": "markdown",
   "metadata": {},
   "source": [
    "## 根节点到叶节点数字之和"
   ]
  },
  {
   "cell_type": "code",
   "execution_count": 22,
   "metadata": {},
   "outputs": [
    {
     "name": "stdout",
     "output_type": "stream",
     "text": [
      "_ _ _ _ _ _ _ 5 _ _ _ _ _ _ _\n",
      "_ _ _ 4 _ _ _ _ _ _ _ 8 _ _ _\n",
      "_ 11 _ _ _ _ _ _ _ 13 _ _ _ 4 _\n",
      "7 _ 2 _ _ _ _ _ _ _ _ _ _ _ 1\n",
      " 17463\n",
      "_ _ _ 4 _ _ _\n",
      "_ 9 _ _ _ 0 _\n",
      "5 _ 1 _ _ _ _\n",
      " 1026\n"
     ]
    }
   ],
   "source": [
    "# BFS\n",
    "def sumNumbers(root):\n",
    "    if root == None:\n",
    "        return 0\n",
    "    ans = 0\n",
    "    queue = [(root, root.val)]\n",
    "    while queue:\n",
    "        node, val = queue.pop(0)\n",
    "        if not node.left and not node.right:\n",
    "            ans += val\n",
    "        if node.left:\n",
    "            queue.append((node.left, 10 * val + node.left.val))\n",
    "        if node.right:\n",
    "            queue.append((node.right, 10 * val + node.right.val))\n",
    "    return ans\n",
    "\n",
    "testTree = buildTree_level([5,4,8,11,None,13,4,7,2,None,None,None,1])\n",
    "print(testTree, sumNumbers(testTree))\n",
    "testTree = buildTree_level([4,9,0,5,1])\n",
    "print(testTree, sumNumbers(testTree))"
   ]
  },
  {
   "cell_type": "code",
   "execution_count": 23,
   "metadata": {},
   "outputs": [
    {
     "name": "stdout",
     "output_type": "stream",
     "text": [
      "_ _ _ _ _ _ _ 5 _ _ _ _ _ _ _\n",
      "_ _ _ 4 _ _ _ _ _ _ _ 8 _ _ _\n",
      "_ 11 _ _ _ _ _ _ _ 13 _ _ _ 4 _\n",
      "7 _ 2 _ _ _ _ _ _ _ _ _ _ _ 1\n",
      " 17463\n",
      "_ _ _ 4 _ _ _\n",
      "_ 9 _ _ _ 0 _\n",
      "5 _ 1 _ _ _ _\n",
      " 1026\n"
     ]
    }
   ],
   "source": [
    "# DFS\n",
    "def sumNumbers(root):\n",
    "    \n",
    "    def dfs(node, i):\n",
    "        if not node:\n",
    "            return 0\n",
    "        tmp = i * 10 + node.val\n",
    "        if not node.left and not node.right:\n",
    "            return tmp\n",
    "        return dfs(node.left, tmp) + dfs(node.right, tmp)\n",
    "    \n",
    "    return dfs(root, 0)\n",
    "\n",
    "testTree = buildTree_level([5,4,8,11,None,13,4,7,2,None,None,None,1])\n",
    "print(testTree, sumNumbers(testTree))\n",
    "testTree = buildTree_level([4,9,0,5,1])\n",
    "print(testTree, sumNumbers(testTree))"
   ]
  },
  {
   "cell_type": "markdown",
   "metadata": {},
   "source": [
    "## 寻找总和等于目标的路径"
   ]
  },
  {
   "cell_type": "code",
   "execution_count": 24,
   "metadata": {},
   "outputs": [
    {
     "name": "stdout",
     "output_type": "stream",
     "text": [
      "_ _ _ _ _ _ _ 5 _ _ _ _ _ _ _\n",
      "_ _ _ 4 _ _ _ _ _ _ _ 8 _ _ _\n",
      "_ 11 _ _ _ _ _ _ _ 13 _ _ _ 4 _\n",
      "7 _ 2 _ _ _ _ _ _ _ _ _ _ _ 1\n",
      " True\n",
      "_ 1 _\n",
      "2 _ _\n",
      " False\n"
     ]
    }
   ],
   "source": [
    "# DFS\n",
    "def hasPathSum(root, targetSum):\n",
    "    if not root: return False\n",
    "    if root.val == targetSum and root.left == None and root.right == None:\n",
    "        return True\n",
    "    rest = targetSum - root.val\n",
    "    return hasPathSum(root.left, rest) or hasPathSum(root.right, rest)\n",
    "\n",
    "testTree = buildTree_level([5,4,8,11,None,13,4,7,2,None,None,None,1])\n",
    "print(testTree, hasPathSum(testTree, 22))\n",
    "\n",
    "testTree = buildTree_level([1,2])\n",
    "print(testTree, hasPathSum(testTree, 1))"
   ]
  },
  {
   "cell_type": "code",
   "execution_count": 25,
   "metadata": {},
   "outputs": [
    {
     "name": "stdout",
     "output_type": "stream",
     "text": [
      "_ _ _ _ _ _ _ 5 _ _ _ _ _ _ _\n",
      "_ _ _ 4 _ _ _ _ _ _ _ 8 _ _ _\n",
      "_ 11 _ _ _ _ _ _ _ 13 _ _ _ 4 _\n",
      "7 _ 2 _ _ _ _ _ _ _ _ _ _ _ 1\n",
      " True\n",
      "_ 1 _\n",
      "2 _ _\n",
      " False\n"
     ]
    }
   ],
   "source": [
    "# BFS\n",
    "def hasPathSum(root, targetSum):\n",
    "    if not root: return False\n",
    "    from collections import deque\n",
    "    queue = deque()\n",
    "    queue.append((root, root.val))\n",
    "    while queue:\n",
    "        node, val = queue.popleft()\n",
    "        if val == targetSum and node.left == None and node.right == None:\n",
    "            return True\n",
    "        if node.left:\n",
    "            queue.append((node.left, node.left.val + val))\n",
    "        if node.right:\n",
    "            queue.append((node.right, node.right.val + val))\n",
    "    return False\n",
    "\n",
    "\n",
    "testTree = buildTree_level([5,4,8,11,None,13,4,7,2,None,None,None,1])\n",
    "print(testTree, hasPathSum(testTree, 22))\n",
    "\n",
    "testTree = buildTree_level([1,2])\n",
    "print(testTree, hasPathSum(testTree, 1))"
   ]
  },
  {
   "cell_type": "code",
   "execution_count": 26,
   "metadata": {},
   "outputs": [
    {
     "name": "stdout",
     "output_type": "stream",
     "text": [
      "_ _ _ _ _ _ _ 5 _ _ _ _ _ _ _\n",
      "_ _ _ 4 _ _ _ _ _ _ _ 8 _ _ _\n",
      "_ 11 _ _ _ _ _ _ _ 13 _ _ _ 4 _\n",
      "7 _ 2 _ _ _ _ _ _ _ _ _ _ _ 1\n",
      "\n",
      "[]\n",
      "[5]\n",
      "[5, 4]\n",
      "[5, 4, 11]\n",
      "[5, 4, 11, 7]\n",
      "[5, 4, 11]\n",
      "[5, 4, 11, 2]\n",
      "_ 1 _\n",
      "2 _ _\n",
      "\n",
      "[]\n",
      "[1]\n",
      "[1, 2]\n",
      "1\n",
      "\n",
      "[]\n",
      "_ 1 _\n",
      "_ _ 2\n",
      "\n",
      "[]\n",
      "[1]\n"
     ]
    },
    {
     "data": {
      "text/plain": [
       "True"
      ]
     },
     "execution_count": 26,
     "metadata": {},
     "output_type": "execute_result"
    }
   ],
   "source": [
    "def hasPathSum_morris(root, targetSum):\n",
    "    if not root: return False\n",
    "    cur, pre = root, None\n",
    "    dep = 0\n",
    "    path = []\n",
    "    while cur:\n",
    "        print(path)\n",
    "        if cur.left is None:\n",
    "            dep += cur.val\n",
    "            path.append(cur.val)\n",
    "            cur = cur.right\n",
    "        else:\n",
    "            pre = cur.left\n",
    "            leftHeight = pre.val\n",
    "            lefttotal = 1\n",
    "            while pre.right:\n",
    "                if pre.right == cur:\n",
    "                    if pre.left == None and dep == targetSum:\n",
    "                        return True\n",
    "                    pre.right = None\n",
    "                    dep -= leftHeight\n",
    "                    for _ in range(lefttotal): path.pop(-1)\n",
    "                    cur = cur.right\n",
    "                    break\n",
    "                pre = pre.right\n",
    "                leftHeight += pre.val\n",
    "                lefttotal += 1\n",
    "            else:\n",
    "                pre.right = cur\n",
    "                dep += cur.val\n",
    "                path.append(cur.val)\n",
    "                cur = cur.left    \n",
    "    finalRight = root.val\n",
    "    cur = root\n",
    "    while cur.right:\n",
    "        cur = cur.right\n",
    "        finalRight += cur.val\n",
    "    if cur.left == None and finalRight == targetSum:\n",
    "        return True\n",
    "    return False\n",
    "\n",
    "testTree = buildTree_level([5,4,8,11,None,13,4,7,2,None,None,None,1])\n",
    "print(testTree)\n",
    "hasPathSum_morris(testTree, 22)\n",
    "testTree = buildTree_level([1,2])\n",
    "print(testTree)\n",
    "hasPathSum_morris(testTree, 1)\n",
    "testTree = buildTree_level([1])\n",
    "print(testTree)\n",
    "hasPathSum_morris(testTree, 1)\n",
    "testTree = buildTree_level([1,None,2])\n",
    "print(testTree)\n",
    "hasPathSum_morris(testTree, 3)"
   ]
  },
  {
   "cell_type": "markdown",
   "metadata": {},
   "source": [
    "## 二叉树的最近公共祖先"
   ]
  },
  {
   "cell_type": "code",
   "execution_count": 27,
   "metadata": {},
   "outputs": [
    {
     "name": "stdout",
     "output_type": "stream",
     "text": [
      "_ _ _ _ _ _ _ 3 _ _ _ _ _ _ _\n",
      "_ _ _ 5 _ _ _ _ _ _ _ 1 _ _ _\n",
      "_ 6 _ _ _ 2 _ _ _ 0 _ _ _ 8 _\n",
      "_ _ _ _ 7 _ 4 _ _ _ _ _ _ _ _\n",
      " _ _ _ 5 _ _ _\n",
      "_ 6 _ _ _ 2 _\n",
      "_ _ _ _ 7 _ 4\n",
      "\n"
     ]
    }
   ],
   "source": [
    "# 拓展做法：先遍历，后根据位置缩小搜索范围（会超过内存限制）\n",
    "def preorderTraversal(root):\n",
    "    if not root:\n",
    "        return []\n",
    "    stack = [root]\n",
    "    visited = []\n",
    "    while stack != []:\n",
    "        node = stack.pop()\n",
    "        visited.append(node)\n",
    "        if node.right:\n",
    "            stack.append(node.right)\n",
    "        if node.left:\n",
    "            stack.append(node.left)\n",
    "    return visited\n",
    "\n",
    "def inorderTraversal(root):\n",
    "    if not root: return []\n",
    "    stack = []\n",
    "    visited = []\n",
    "    node = root\n",
    "    while stack or node:\n",
    "        while node:\n",
    "            stack.append(node)\n",
    "            node = node.left\n",
    "        node = stack.pop()\n",
    "        visited.append(node)\n",
    "        node = node.right\n",
    "    return visited\n",
    "    \n",
    "\n",
    "def lowestCommonAncestor(root, p, q):\n",
    "    inorder = inorderTraversal(root)\n",
    "    preorder = preorderTraversal(root)\n",
    "    return LCA(inorder, preorder, p, q)\n",
    "\n",
    "def LCA(inorder, preorder, p, q):\n",
    "    root = preorder.pop(0)\n",
    "    if root.val == p.val or root.val == q.val:\n",
    "        return root\n",
    "    root_index = inorder.index(root)\n",
    "    p_index = inorder.index(p)\n",
    "    q_index = inorder.index(q)\n",
    "    if root_index > min(p_index, q_index) and root_index < max(p_index, q_index):\n",
    "        return root\n",
    "    elif root_index > max(p_index, q_index):\n",
    "        return LCA(inorder[:root_index], preorder[:root_index], p, q)\n",
    "    elif root_index < min(p_index, q_index):\n",
    "        return LCA(inorder[root_index+1:], preorder[root_index:], p, q)\n",
    "\n",
    "testTree = buildTree([3,5,6,2,7,4,1,0,8], [6,5,7,2,4,3,0,1,8])\n",
    "inorder = inorderTraversal(testTree)\n",
    "print(testTree, lowestCommonAncestor(testTree, inorder[0], inorder[2]))"
   ]
  },
  {
   "cell_type": "code",
   "execution_count": 28,
   "metadata": {},
   "outputs": [
    {
     "name": "stdout",
     "output_type": "stream",
     "text": [
      "_ _ _ _ _ _ _ 3 _ _ _ _ _ _ _\n",
      "_ _ _ 5 _ _ _ _ _ _ _ 1 _ _ _\n",
      "_ 6 _ _ _ 2 _ _ _ 0 _ _ _ 8 _\n",
      "_ _ _ _ 7 _ 4 _ _ _ _ _ _ _ _\n",
      "\n",
      "_ _ _ 5 _ _ _\n",
      "_ 6 _ _ _ 2 _\n",
      "_ _ _ _ 7 _ 4\n",
      "\n"
     ]
    }
   ],
   "source": [
    "# DFS\n",
    "def lowestCommonAncestor(root, p, q):\n",
    "    if not root or root.val == p or root.val == q: return root\n",
    "    left = lowestCommonAncestor(root.left, p, q)\n",
    "    right = lowestCommonAncestor(root.right, p, q)\n",
    "    if not left: return right\n",
    "    if not right: return left\n",
    "    return root\n",
    "\n",
    "testTree = buildTree_level([3,5,1,6,2,0,8,None,None,7,4])\n",
    "print(testTree)\n",
    "print(lowestCommonAncestor(testTree, 6, 7))"
   ]
  },
  {
   "cell_type": "markdown",
   "metadata": {},
   "source": [
    "## 序列化存储和压缩二叉树"
   ]
  },
  {
   "cell_type": "code",
   "execution_count": 29,
   "metadata": {},
   "outputs": [
    {
     "name": "stdout",
     "output_type": "stream",
     "text": [
      "_ _ _ _ _ _ _ 3 _ _ _ _ _ _ _\n",
      "_ _ _ 5 _ _ _ _ _ _ _ 1 _ _ _\n",
      "_ 6 _ _ _ 2 _ _ _ 0 _ _ _ 8 _\n",
      "_ _ _ _ 7 _ 4 _ _ _ _ _ _ _ _\n",
      "\n",
      "[<__main__.TreeNode object at 0x000001906957DCD0>, <__main__.TreeNode object at 0x000001906957DB50>, <__main__.TreeNode object at 0x0000019067985A00>, <__main__.TreeNode object at 0x0000019067985E80>, <__main__.TreeNode object at 0x00000190679856D0>, <__main__.TreeNode object at 0x0000019067985A60>, <__main__.TreeNode object at 0x0000019067985BE0>, <__main__.TreeNode object at 0x0000019067985F10>, <__main__.TreeNode object at 0x0000019067985DC0>]\n",
      "_ _ _ _ _ _ _ 3 _ _ _ _ _ _ _\n",
      "_ _ _ 5 _ _ _ _ _ _ _ 1 _ _ _\n",
      "_ 6 _ _ _ 2 _ _ _ 0 _ _ _ 8 _\n",
      "_ _ _ _ 7 _ 4 _ _ _ _ _ _ _ _\n",
      "\n"
     ]
    }
   ],
   "source": [
    "class Codec:\n",
    "\n",
    "    def serialize(self, root):\n",
    "        \"\"\"Encodes a tree to a single string.\n",
    "        \n",
    "        :type root: TreeNode\n",
    "        :rtype: str\n",
    "        \"\"\"\n",
    "        serial = []\n",
    "        Queue = [root]\n",
    "        while Queue:\n",
    "            for _ in range(len(Queue)):\n",
    "                node = Queue.pop(0)\n",
    "                serial.append(node.val if node else None)\n",
    "                if node:\n",
    "                    Queue.append(node.left)\n",
    "                    Queue.append(node.right)\n",
    "        lastNum = 0\n",
    "        string = []\n",
    "        for i, elem in enumerate(serial):\n",
    "            if elem == None:\n",
    "                string.append(\"null\")\n",
    "            else:\n",
    "                string.append(str(elem))\n",
    "                lastNum = i\n",
    "        return \",\".join(string[:lastNum+1])\n",
    "                \n",
    "\n",
    "    def deserialize(self, data):\n",
    "        \"\"\"Decodes your encoded data to tree.\n",
    "        \n",
    "        :type data: str\n",
    "        :rtype: TreeNode\n",
    "        \"\"\"\n",
    "        if data == \"None\": return None\n",
    "        levelorder = data.split(\",\")\n",
    "        levelorder = [i if i!=\"null\" else None for i in levelorder]\n",
    "        return Codec.buildTree_level(levelorder)\n",
    "\n",
    "    @staticmethod\n",
    "    def buildTree_level(levelorder):\n",
    "        length = len(levelorder)\n",
    "        if length == 0:\n",
    "            return None\n",
    "        root_val = levelorder[0]\n",
    "        root = TreeNode(root_val)\n",
    "        Queue = [root]\n",
    "        index = 1\n",
    "        while Queue and index < length:\n",
    "            for _ in range(len(Queue)):\n",
    "                node = Queue.pop(0)\n",
    "                left_val = levelorder[index] if index < length else None\n",
    "                right_val = levelorder[index+1] if index + 1 < length else None\n",
    "                if left_val != None:\n",
    "                    node.left = TreeNode(left_val)\n",
    "                    Queue.append(node.left)\n",
    "                else:\n",
    "                    node.left = None\n",
    "                if right_val != None:\n",
    "                    node.right = TreeNode(right_val)\n",
    "                    Queue.append(node.right)\n",
    "                else:\n",
    "                    node.right = None\n",
    "                index += 2\n",
    "        return root\n",
    "\n",
    "testTree = buildTree_level([3,5,1,6,2,0,8,None,None,7,4])\n",
    "print(testTree)\n",
    "print(preorderTraversal(testTree))\n",
    "s = Codec().serialize(testTree)\n",
    "tree = Codec().deserialize(s)\n",
    "print(tree)"
   ]
  },
  {
   "cell_type": "markdown",
   "metadata": {},
   "source": [
    "## 前序遍历构造二叉搜索树"
   ]
  },
  {
   "cell_type": "code",
   "execution_count": 30,
   "metadata": {},
   "outputs": [
    {
     "name": "stdout",
     "output_type": "stream",
     "text": [
      "_ _ _ 8 _ _ _\n",
      "_ 5 _ _ _ 10 _\n",
      "1 _ 7 _ _ _ 12\n",
      "\n"
     ]
    }
   ],
   "source": [
    "def buildTree(preorder, inorder):\n",
    "    if not inorder:\n",
    "        return None\n",
    "    root_val = preorder.pop(0)\n",
    "    root_index = inorder.index(root_val)\n",
    "    root = TreeNode(root_val)\n",
    "    root.left = buildTree(preorder, inorder[:root_index])\n",
    "    root.right = buildTree(preorder, inorder[root_index+1:])\n",
    "    return root\n",
    "\n",
    "def bstFromPreorder(preorder):\n",
    "    inorder = sorted(preorder)\n",
    "    return buildTree(preorder, inorder)\n",
    "\n",
    "preorder = [8,5,1,7,10,12]\n",
    "print(bstFromPreorder(preorder))"
   ]
  },
  {
   "cell_type": "code",
   "execution_count": 31,
   "metadata": {},
   "outputs": [
    {
     "name": "stdout",
     "output_type": "stream",
     "text": [
      "_ _ _ 8 _ _ _\n",
      "_ 5 _ _ _ 10 _\n",
      "1 _ 7 _ _ _ 12\n",
      "\n"
     ]
    }
   ],
   "source": [
    "def bstFromPreorder(preorder):\n",
    "    if not preorder:\n",
    "        return None\n",
    "    root_val = preorder.pop(0)\n",
    "    root = TreeNode(root_val)\n",
    "    if not preorder:\n",
    "        return root\n",
    "    idx = 0\n",
    "    while idx < len(preorder) and preorder[idx] < root_val: idx += 1\n",
    "    root.left = bstFromPreorder(preorder[:idx])\n",
    "    root.right = bstFromPreorder(preorder[idx:])\n",
    "    return root\n",
    "\n",
    "preorder = [8,5,1,7,10,12]\n",
    "print(bstFromPreorder(preorder))"
   ]
  },
  {
   "cell_type": "markdown",
   "metadata": {},
   "source": [
    "## 从先序遍历还原二叉树\n",
    "我们从二叉树的根节点 root 开始进行深度优先搜索。\n",
    "\n",
    "在遍历中的每个节点处，我们输出 D 条短划线（其中 D 是该节点的深度），然后输出该节点的值。（如果节点的深度为 D，则其直接子节点的深度为 D + 1。根节点的深度为 0）。\n",
    "\n",
    "如果节点只有一个子节点，那么保证该子节点为左子节点。\n",
    "\n",
    "给出遍历输出 S，还原树并返回其根节点 root。"
   ]
  },
  {
   "cell_type": "code",
   "execution_count": 32,
   "metadata": {},
   "outputs": [
    {
     "name": "stdout",
     "output_type": "stream",
     "text": [
      "_ _ _ 1 _ _ _\n",
      "_ 20 _ _ _ 5 _\n",
      "3 _ 4 _ 6 _ 7\n",
      "\n",
      "_ _ _ _ _ _ _ 1 _ _ _ _ _ _ _\n",
      "_ _ _ 2 _ _ _ _ _ _ _ 5 _ _ _\n",
      "_ 3 _ _ _ _ _ _ _ 6 _ _ _ _ _\n",
      "4 _ _ _ _ _ _ _ 7 _ _ _ _ _ _\n",
      "\n",
      "_ _ _ _ _ _ _ 1 _ _ _ _ _ _ _\n",
      "_ _ _ 401 _ _ _ _ _ _ _ _ _ _ _\n",
      "_ 349 _ _ _ 88 _ _ _ _ _ _ _ _ _\n",
      "90 _ _ _ _ _ _ _ _ _ _ _ _ _ _\n",
      "\n"
     ]
    }
   ],
   "source": [
    "def recoverFromPreorder(traversal):\n",
    "    queue = []\n",
    "    heng = 0\n",
    "    numbers = 0\n",
    "    for chr in traversal:\n",
    "        if chr == \"-\":\n",
    "            if numbers > 0:\n",
    "                queue.append((heng, numbers))\n",
    "                numbers = 0\n",
    "                heng = 0\n",
    "            heng += 1\n",
    "        else:\n",
    "            numbers = 10 * numbers + int(chr)\n",
    "    if numbers:\n",
    "        queue.append((heng, numbers))\n",
    "\n",
    "    def dfs(queue):\n",
    "        if not queue:\n",
    "            return None\n",
    "        l, root_val = queue.pop(0)\n",
    "        root = TreeNode(root_val)\n",
    "        if not queue:\n",
    "            return root\n",
    "        left, right = 0, len(queue)-1\n",
    "        while left < right and queue[left][0] != l + 1: left += 1\n",
    "        while left < right and queue[right][0] != l + 1: right -= 1\n",
    "        if left == right:\n",
    "            root.left = dfs(queue[left:])\n",
    "        else:\n",
    "            root.left = dfs(queue[:right])\n",
    "            root.right = dfs(queue[right:])\n",
    "        return root\n",
    "    \n",
    "    return dfs(queue)\n",
    "\n",
    "\n",
    "traversal = \"1-20--3--4-5--6--7\"\n",
    "print(recoverFromPreorder(traversal))\n",
    "\n",
    "traversal = \"1-2--3---4-5--6---7\"\n",
    "print(recoverFromPreorder(traversal))\n",
    "\n",
    "traversal = \"1-401--349---90--88\"\n",
    "print(recoverFromPreorder(traversal))\n"
   ]
  },
  {
   "cell_type": "markdown",
   "metadata": {},
   "source": [
    "# N叉树"
   ]
  },
  {
   "cell_type": "markdown",
   "metadata": {},
   "source": [
    "## N叉树的定义"
   ]
  },
  {
   "cell_type": "code",
   "execution_count": 33,
   "metadata": {},
   "outputs": [],
   "source": [
    "# Definition for a Node.\n",
    "class Node:\n",
    "    def __init__(self, val=None, children=None):\n",
    "        self.val = val\n",
    "        self.children = children\n",
    "\n",
    "\n",
    "# class TreeNode:\n",
    "#     def __init__(self, val=0, left=None, right=None):\n",
    "#         self.val = val\n",
    "#         self.left = left\n",
    "#         self.right = right\n",
    "\n",
    "#     def __str__(self) -> str:\n",
    "#         return self.printTree()\n",
    "\n",
    "#     @staticmethod\n",
    "#     def getHeight(node):\n",
    "#         if not node: return 0\n",
    "#         return 1 + max(TreeNode.getHeight(node.left), TreeNode.getHeight(node.right))\n",
    "\n",
    "#     def printTree(self) -> None:\n",
    "#         height = TreeNode.getHeight(self)\n",
    "#         width = 2 ** height - 1\n",
    "#         res = [[\"_\" for _ in range(width)] for _ in range(height)]\n",
    "\n",
    "#         def fillTree(node, level, start, end, res):\n",
    "#             if not self:\n",
    "#                 return\n",
    "#             mid = (start + end) // 2\n",
    "#             res[level][mid] = str(node.val)\n",
    "#             if node.left: fillTree(node.left, level + 1, start, mid - 1, res)\n",
    "#             if node.right: fillTree(node.right, level + 1, mid + 1, end, res)\n",
    "            \n",
    "#         fillTree(self, 0, 0, width - 1, res)\n",
    "#         result = \"\"\n",
    "#         for row in res:\n",
    "#             result += \" \".join(row) + \"\\n\"\n",
    "#         return result"
   ]
  },
  {
   "cell_type": "markdown",
   "metadata": {},
   "source": [
    "## N叉树的构建\n",
    "\n",
    "按照leetcode传入的N叉树序列进行构建"
   ]
  },
  {
   "cell_type": "code",
   "execution_count": 34,
   "metadata": {},
   "outputs": [
    {
     "name": "stdout",
     "output_type": "stream",
     "text": [
      "<__main__.Node object at 0x00000190695BBD90>\n"
     ]
    }
   ],
   "source": [
    "def build_n_tree(levelorder):\n",
    "    root_val = levelorder.pop(0)\n",
    "    levelorder.pop(0)\n",
    "    root = Node(root_val)\n",
    "    queue = [root]\n",
    "    while queue:\n",
    "        # print([i.val if i else i for i in queue], \"==>\\t\", levelorder)\n",
    "        node = queue.pop(0)\n",
    "        children = []\n",
    "        while levelorder:\n",
    "            val = levelorder.pop(0)\n",
    "            if val is None:\n",
    "                break\n",
    "            son = Node(val)\n",
    "            queue.append(son)\n",
    "            children.append(son)\n",
    "        node.children = children\n",
    "    return root\n",
    "\n",
    "testTree = build_n_tree([1,None,3,2,4,None,5,6])\n",
    "print(testTree)"
   ]
  },
  {
   "cell_type": "markdown",
   "metadata": {},
   "source": [
    "## N叉树的遍历\n",
    "### 前序遍历"
   ]
  },
  {
   "cell_type": "code",
   "execution_count": 35,
   "metadata": {},
   "outputs": [
    {
     "name": "stdout",
     "output_type": "stream",
     "text": [
      "[1, 3, 5, 6, 2, 4]\n",
      "[1, 2, 3, 6, 7, 11, 14, 4, 8, 12, 5, 9, 13, 10]\n"
     ]
    }
   ],
   "source": [
    "def preorder(root: 'Node'):\n",
    "    if not root:\n",
    "        return []\n",
    "    ans = [root.val]\n",
    "    for node in root.children:\n",
    "        ans.extend(preorder(node))\n",
    "    return ans\n",
    "\n",
    "testTree = build_n_tree([1,None,3,2,4,None,5,6])\n",
    "print(preorder(testTree))\n",
    "\n",
    "testTree = build_n_tree([1,None,2,3,4,5,None,None,6,7,None,8,None,9,10,None,None,11,None,12,None,13,None,None,14])\n",
    "print(preorder(testTree))"
   ]
  },
  {
   "cell_type": "code",
   "execution_count": 36,
   "metadata": {},
   "outputs": [
    {
     "name": "stdout",
     "output_type": "stream",
     "text": [
      "[1] ==>\t []\n",
      "[4, 2, 3] ==>\t [1]\n",
      "[4, 2, 6, 5] ==>\t [1, 3]\n",
      "[4, 2, 6] ==>\t [1, 3, 5]\n",
      "[4, 2] ==>\t [1, 3, 5, 6]\n",
      "[4] ==>\t [1, 3, 5, 6, 2]\n",
      "[1, 3, 5, 6, 2, 4]\n",
      "[1] ==>\t []\n",
      "[5, 4, 3, 2] ==>\t [1]\n",
      "[5, 4, 3] ==>\t [1, 2]\n",
      "[5, 4, 7, 6] ==>\t [1, 2, 3]\n",
      "[5, 4, 7] ==>\t [1, 2, 3, 6]\n",
      "[5, 4, 11] ==>\t [1, 2, 3, 6, 7]\n",
      "[5, 4, 14] ==>\t [1, 2, 3, 6, 7, 11]\n",
      "[5, 4] ==>\t [1, 2, 3, 6, 7, 11, 14]\n",
      "[5, 8] ==>\t [1, 2, 3, 6, 7, 11, 14, 4]\n",
      "[5, 12] ==>\t [1, 2, 3, 6, 7, 11, 14, 4, 8]\n",
      "[5] ==>\t [1, 2, 3, 6, 7, 11, 14, 4, 8, 12]\n",
      "[10, 9] ==>\t [1, 2, 3, 6, 7, 11, 14, 4, 8, 12, 5]\n",
      "[10, 13] ==>\t [1, 2, 3, 6, 7, 11, 14, 4, 8, 12, 5, 9]\n",
      "[10] ==>\t [1, 2, 3, 6, 7, 11, 14, 4, 8, 12, 5, 9, 13]\n",
      "[1, 2, 3, 6, 7, 11, 14, 4, 8, 12, 5, 9, 13, 10]\n"
     ]
    }
   ],
   "source": [
    "def preorder(root: 'Node'):\n",
    "    if not root:\n",
    "        return []\n",
    "    stack = [root]\n",
    "    visited = []\n",
    "    while stack:\n",
    "        print([i.val if i else i for i in stack], \"==>\\t\", visited)\n",
    "        node = stack.pop()\n",
    "        visited.append(node.val)\n",
    "        stack.extend(node.children[::-1])\n",
    "    return visited\n",
    "        \n",
    "\n",
    "\n",
    "testTree = build_n_tree([1,None,3,2,4,None,5,6])\n",
    "print(preorder(testTree))\n",
    "\n",
    "testTree = build_n_tree([1,None,2,3,4,5,None,None,6,7,None,8,None,9,10,None,None,11,None,12,None,13,None,None,14])\n",
    "print(preorder(testTree))"
   ]
  },
  {
   "cell_type": "markdown",
   "metadata": {},
   "source": [
    "### 后序遍历"
   ]
  },
  {
   "cell_type": "code",
   "execution_count": 37,
   "metadata": {},
   "outputs": [
    {
     "name": "stdout",
     "output_type": "stream",
     "text": [
      "[5, 6, 3, 2, 4, 1]\n",
      "[2, 6, 14, 11, 7, 3, 12, 8, 4, 13, 9, 10, 5, 1]\n"
     ]
    }
   ],
   "source": [
    "def postorder(root: 'Node'):\n",
    "    if not root:\n",
    "        return []\n",
    "    ans = []\n",
    "    for node in root.children:\n",
    "        ans.extend(postorder(node))\n",
    "    return ans + [root.val]\n",
    "\n",
    "testTree = build_n_tree([1,None,3,2,4,None,5,6])\n",
    "print(postorder(testTree))\n",
    "\n",
    "testTree = build_n_tree([1,None,2,3,4,5,None,None,6,7,None,8,None,9,10,None,None,11,None,12,None,13,None,None,14])\n",
    "print(postorder(testTree))"
   ]
  },
  {
   "cell_type": "code",
   "execution_count": 38,
   "metadata": {},
   "outputs": [
    {
     "name": "stdout",
     "output_type": "stream",
     "text": [
      "[1] ==>\t []\n",
      "[1, 4, 2, 3] ==>\t []\n",
      "[1, 4, 2, 3, 6, 5] ==>\t []\n",
      "[1, 4, 2, 3, 6] ==>\t [5]\n",
      "[1, 4, 2, 3] ==>\t [5, 6]\n",
      "[1, 4, 2] ==>\t [5, 6, 3]\n",
      "[1, 4] ==>\t [5, 6, 3, 2]\n",
      "[1] ==>\t [5, 6, 3, 2, 4]\n",
      "[5, 6, 3, 2, 4, 1]\n",
      "[1] ==>\t []\n",
      "[1, 5, 4, 3, 2] ==>\t []\n",
      "[1, 5, 4, 3] ==>\t [2]\n",
      "[1, 5, 4, 3, 7, 6] ==>\t [2]\n",
      "[1, 5, 4, 3, 7] ==>\t [2, 6]\n",
      "[1, 5, 4, 3, 7, 11] ==>\t [2, 6]\n",
      "[1, 5, 4, 3, 7, 11, 14] ==>\t [2, 6]\n",
      "[1, 5, 4, 3, 7, 11] ==>\t [2, 6, 14]\n",
      "[1, 5, 4, 3, 7] ==>\t [2, 6, 14, 11]\n",
      "[1, 5, 4, 3] ==>\t [2, 6, 14, 11, 7]\n",
      "[1, 5, 4] ==>\t [2, 6, 14, 11, 7, 3]\n",
      "[1, 5, 4, 8] ==>\t [2, 6, 14, 11, 7, 3]\n",
      "[1, 5, 4, 8, 12] ==>\t [2, 6, 14, 11, 7, 3]\n",
      "[1, 5, 4, 8] ==>\t [2, 6, 14, 11, 7, 3, 12]\n",
      "[1, 5, 4] ==>\t [2, 6, 14, 11, 7, 3, 12, 8]\n",
      "[1, 5] ==>\t [2, 6, 14, 11, 7, 3, 12, 8, 4]\n",
      "[1, 5, 10, 9] ==>\t [2, 6, 14, 11, 7, 3, 12, 8, 4]\n",
      "[1, 5, 10, 9, 13] ==>\t [2, 6, 14, 11, 7, 3, 12, 8, 4]\n",
      "[1, 5, 10, 9] ==>\t [2, 6, 14, 11, 7, 3, 12, 8, 4, 13]\n",
      "[1, 5, 10] ==>\t [2, 6, 14, 11, 7, 3, 12, 8, 4, 13, 9]\n",
      "[1, 5] ==>\t [2, 6, 14, 11, 7, 3, 12, 8, 4, 13, 9, 10]\n",
      "[1] ==>\t [2, 6, 14, 11, 7, 3, 12, 8, 4, 13, 9, 10, 5]\n",
      "[2, 6, 14, 11, 7, 3, 12, 8, 4, 13, 9, 10, 5, 1]\n"
     ]
    }
   ],
   "source": [
    "def postorder(root: 'Node'):\n",
    "    if not root:\n",
    "        return []\n",
    "    stack = [root]\n",
    "    visited = []\n",
    "    prepop = None\n",
    "    while stack:\n",
    "        print([i.val if i else i for i in stack], \"==>\\t\", visited)\n",
    "        node = stack[-1]\n",
    "        if not node.children:\n",
    "            visited.append(node.val)\n",
    "            prepop = stack.pop()\n",
    "        else:\n",
    "            if node.children[-1] != prepop:\n",
    "                stack.extend(node.children[::-1])\n",
    "            else:\n",
    "                visited.append(node.val)\n",
    "                prepop = stack.pop()\n",
    "    return visited\n",
    "\n",
    "testTree = build_n_tree([1,None,3,2,4,None,5,6])\n",
    "print(postorder(testTree))\n",
    "\n",
    "testTree = build_n_tree([1,None,2,3,4,5,None,None,6,7,None,8,None,9,10,None,None,11,None,12,None,13,None,None,14])\n",
    "print(postorder(testTree))"
   ]
  },
  {
   "cell_type": "markdown",
   "metadata": {},
   "source": [
    "# 图"
   ]
  },
  {
   "cell_type": "markdown",
   "metadata": {},
   "source": [
    "## 图的定义\n",
    "\n",
    "### 邻接表"
   ]
  },
  {
   "cell_type": "code",
   "execution_count": 77,
   "metadata": {},
   "outputs": [
    {
     "data": {
      "image/png": "[encoded data removed]",
      "text/plain": [
       "<Figure size 432x288 with 1 Axes>"
      ]
     },
     "metadata": {},
     "output_type": "display_data"
    },
    {
     "name": "stdout",
     "output_type": "stream",
     "text": [
      "DiGraph with 4 nodes and 3 edges\n"
     ]
    }
   ],
   "source": [
    "import networkx as nx\n",
    "import matplotlib.pyplot as plt\n",
    "\n",
    "class Graph:\n",
    "    def __init__(self):\n",
    "        self.adjacency_list = {}\n",
    "\n",
    "    def add_vertex(self, vertex):\n",
    "        if vertex not in self.adjacency_list:\n",
    "            self.adjacency_list[vertex] = []\n",
    "\n",
    "    def add_edge(self, vertex1, vertex2):\n",
    "        self.add_vertex(vertex1)\n",
    "        self.add_vertex(vertex2)\n",
    "        self.adjacency_list[vertex1].append(vertex2)\n",
    "        # self.adjacency_list[vertex2].append(vertex1)\n",
    "\n",
    "    def display_graph(self):\n",
    "        G = nx.DiGraph()\n",
    "\n",
    "        for vertex, neighbors in self.adjacency_list.items():\n",
    "            G.add_node(vertex)\n",
    "            for neighbor in neighbors:\n",
    "                G.add_edge(vertex, neighbor)\n",
    "\n",
    "        pos = nx.spring_layout(G)  # 使用Spring布局算法排列节点\n",
    "        nx.draw(G, pos, with_labels=True, font_weight='bold', node_size=700, node_color='skyblue', font_size=8, font_color='black', edge_color='gray', \\\n",
    "                linewidths=0.8, width=0.5)\n",
    "        plt.show()\n",
    "        return str(G)\n",
    "    \n",
    "    def __str__(self) -> str:\n",
    "        return self.display_graph()\n",
    "\n",
    "\n",
    "# 创建一个图\n",
    "my_graph = Graph()\n",
    "\n",
    "# 添加顶点\n",
    "my_graph.add_vertex(\"A\")\n",
    "my_graph.add_vertex(\"B\")\n",
    "my_graph.add_vertex(\"C\")\n",
    "my_graph.add_vertex(\"D\")\n",
    "\n",
    "# 添加边\n",
    "my_graph.add_edge(\"A\", \"B\")\n",
    "my_graph.add_edge(\"A\", \"C\")\n",
    "my_graph.add_edge(\"C\", \"D\")\n",
    "\n",
    "\n",
    "# 显示平面图形表示\n",
    "print(my_graph)\n"
   ]
  },
  {
   "cell_type": "markdown",
   "metadata": {},
   "source": [
    "## 并查集"
   ]
  },
  {
   "cell_type": "code",
   "execution_count": 40,
   "metadata": {},
   "outputs": [
    {
     "name": "stdout",
     "output_type": "stream",
     "text": [
      "Quick Find:\n",
      "True\n",
      "True\n",
      "False\n",
      "True\n",
      "Quick Union:\n",
      "True\n",
      "True\n",
      "False\n",
      "True\n",
      "Quick Union With Rank:\n",
      "True\n",
      "True\n",
      "False\n",
      "True\n",
      "Quick Union With Compress:\n",
      "True\n",
      "True\n",
      "False\n",
      "[0, 1, 1, 3, 3, 1, 1, 1, 3, 3]\n",
      "False\n",
      "[0, 1, 1, 1, 3, 1, 1, 1, 3, 3]\n",
      "True\n",
      "[0, 1, 1, 1, 1, 1, 1, 1, 3, 3]\n",
      "True\n",
      "[0, 1, 1, 1, 1, 1, 1, 1, 1, 3]\n",
      "True\n",
      "[0, 1, 1, 1, 1, 1, 1, 1, 1, 1]\n",
      "Quick Union With Rank and Compress:\n",
      "True\n",
      "True\n",
      "False\n",
      "True\n"
     ]
    }
   ],
   "source": [
    "class UnionFind:\n",
    "\n",
    "    def __init__(self, n) -> None:\n",
    "        self.root = [i for i in range(n)]\n",
    "        self.length = n\n",
    "\n",
    "    def find(self, x):\n",
    "        return self.root[x]\n",
    "\n",
    "    def union(self, x, y):\n",
    "        rootX = self.find(x)\n",
    "        rootY = self.find(y)\n",
    "        if rootX != rootY:\n",
    "            for i in range(self.length):\n",
    "                if self.root[i] == rootY:\n",
    "                    self.root[i] = rootX\n",
    "\n",
    "    def connected(self, x, y):\n",
    "        return self.find(x) == self.find(y)\n",
    "\n",
    "print(\"Quick Find:\")\n",
    "uf = UnionFind(10)\n",
    "# 1-2-5-6-7 3-8-9 4\n",
    "uf.union(1, 2)\n",
    "uf.union(2, 5)\n",
    "uf.union(5, 6)\n",
    "uf.union(6, 7)\n",
    "uf.union(3, 8)\n",
    "uf.union(8, 9)\n",
    "print(uf.connected(1, 5))\n",
    "print(uf.connected(5, 7))\n",
    "print(uf.connected(4, 9))\n",
    "# 1-2-5-6-7 3-8-9-4\n",
    "uf.union(9, 4)\n",
    "print(uf.connected(4, 9))\n",
    "\n",
    "class UnionFind:\n",
    "\n",
    "    def __init__(self, n) -> None:\n",
    "        self.root = [i for i in range(n)]\n",
    "\n",
    "    def find(self, x):\n",
    "        while x != self.root[x]:\n",
    "            x = self.root[x]\n",
    "        return x\n",
    "\n",
    "    def union(self, x, y):\n",
    "        rootX = self.find(x)\n",
    "        rootY = self.find(y)\n",
    "        if rootX != rootY:\n",
    "            self.root[rootY] = rootX\n",
    "\n",
    "    def connected(self, x, y):\n",
    "        return self.find(x) == self.find(y)\n",
    "\n",
    "print(\"Quick Union:\")\n",
    "uf = UnionFind(10)\n",
    "# 1-2-5-6-7 3-8-9 4\n",
    "uf.union(1, 2)\n",
    "uf.union(2, 5)\n",
    "uf.union(5, 6)\n",
    "uf.union(6, 7)\n",
    "uf.union(3, 8)\n",
    "uf.union(8, 9)\n",
    "print(uf.connected(1, 5))\n",
    "print(uf.connected(5, 7))\n",
    "print(uf.connected(4, 9))\n",
    "# 1-2-5-6-7 3-8-9-4\n",
    "uf.union(9, 4)\n",
    "print(uf.connected(4, 9))\n",
    "\n",
    "\n",
    "class UnionFind:\n",
    "\n",
    "    def __init__(self, n) -> None:\n",
    "        self.root = [i for i in range(n)]\n",
    "        self.rank = [1 for _ in range(n)]\n",
    "\n",
    "    def find(self, x):\n",
    "        while x != self.root[x]:\n",
    "            x = self.root[x]\n",
    "        return x\n",
    "\n",
    "    def union(self, x, y):\n",
    "        rootX = self.find(x)\n",
    "        rootY = self.find(y)\n",
    "        if rootX != rootY:\n",
    "            if self.rank[rootX] > self.rank[rootY]:\n",
    "                self.root[rootY] = rootX\n",
    "            elif self.rank[rootX] < self.rank[rootY]:\n",
    "                self.root[rootX] = rootY\n",
    "            else:\n",
    "                self.root[rootY] = rootX\n",
    "                self.rank[rootX] += 1\n",
    "\n",
    "    def connected(self, x, y):\n",
    "        return self.find(x) == self.find(y)\n",
    "\n",
    "print(\"Quick Union With Rank:\")\n",
    "uf = UnionFind(10)\n",
    "# 1-2-5-6-7 3-8-9 4\n",
    "uf.union(1, 2)\n",
    "uf.union(2, 5)\n",
    "uf.union(5, 6)\n",
    "uf.union(6, 7)\n",
    "uf.union(3, 8)\n",
    "uf.union(8, 9)\n",
    "print(uf.connected(1, 5))\n",
    "print(uf.connected(5, 7))\n",
    "print(uf.connected(4, 9))\n",
    "# 1-2-5-6-7 3-8-9-4\n",
    "uf.union(9, 4)\n",
    "print(uf.connected(4, 9))\n",
    "\n",
    "\n",
    "class UnionFind:\n",
    "\n",
    "    def __init__(self, n) -> None:\n",
    "        self.root = [i for i in range(n)]\n",
    "\n",
    "    def find(self, x):\n",
    "        if x == self.root[x]:\n",
    "            return x\n",
    "        self.root[x] = self.find(self.root[x])\n",
    "        return self.root[x]\n",
    "\n",
    "    def union(self, x, y):\n",
    "        rootX = self.find(x)\n",
    "        rootY = self.find(y)\n",
    "        if rootX != rootY:\n",
    "            self.root[rootY] = rootX\n",
    "\n",
    "    def connected(self, x, y):\n",
    "        return self.find(x) == self.find(y)\n",
    "\n",
    "print(\"Quick Union With Compress:\")\n",
    "uf = UnionFind(10)\n",
    "# 1-2-5-6-7 3-8-9 4\n",
    "uf.union(1, 2)\n",
    "uf.union(2, 5)\n",
    "uf.union(5, 6)\n",
    "uf.union(6, 7)\n",
    "uf.union(3, 8)\n",
    "uf.union(8, 9)\n",
    "print(uf.connected(1, 5))\n",
    "print(uf.connected(5, 7))\n",
    "print(uf.connected(4, 9))\n",
    "# 1-2-5-6-7 3-8-9-4\n",
    "uf.union(9, 4)\n",
    "print(uf.root)\n",
    "print(uf.connected(2, 4))\n",
    "uf.union(7, 4)\n",
    "print(uf.root)\n",
    "print(uf.connected(2, 4))\n",
    "print(uf.root)\n",
    "print(uf.connected(2, 8))\n",
    "print(uf.root)\n",
    "print(uf.connected(2, 9))\n",
    "print(uf.root)\n",
    "\n",
    "\n",
    "class UnionFind:\n",
    "\n",
    "    def __init__(self, n) -> None:\n",
    "        self.root = [i for i in range(n)]\n",
    "        self.rank = [1 for _ in range(n)]\n",
    "\n",
    "    def find(self, x):\n",
    "        if x == self.root[x]:\n",
    "            return x\n",
    "        self.root[x] = self.find(self.root[x])\n",
    "        return self.root[x]\n",
    "\n",
    "    def union(self, x, y):\n",
    "        rootX = self.find(x)\n",
    "        rootY = self.find(y)\n",
    "        if rootX != rootY:\n",
    "            if self.rank[rootX] > self.rank[rootY]:\n",
    "                self.root[rootY] = rootX\n",
    "            elif self.rank[rootX] < self.rank[rootY]:\n",
    "                self.root[rootX] = rootY\n",
    "            else:\n",
    "                self.root[rootY] = rootX\n",
    "                self.rank[rootX] += 1\n",
    "\n",
    "    def connected(self, x, y):\n",
    "        return self.find(x) == self.find(y)\n",
    "\n",
    "print(\"Quick Union With Rank and Compress:\")\n",
    "uf = UnionFind(10)\n",
    "# 1-2-5-6-7 3-8-9 4\n",
    "uf.union(1, 2)\n",
    "uf.union(2, 5)\n",
    "uf.union(5, 6)\n",
    "uf.union(6, 7)\n",
    "uf.union(3, 8)\n",
    "uf.union(8, 9)\n",
    "print(uf.connected(1, 5))\n",
    "print(uf.connected(5, 7))\n",
    "print(uf.connected(4, 9))\n",
    "# 1-2-5-6-7 3-8-9-4\n",
    "uf.union(9, 4)\n",
    "print(uf.connected(4, 9))"
   ]
  },
  {
   "cell_type": "markdown",
   "metadata": {},
   "source": [
    "## 无向图中连通分量的数目"
   ]
  },
  {
   "cell_type": "code",
   "execution_count": 41,
   "metadata": {},
   "outputs": [
    {
     "name": "stdout",
     "output_type": "stream",
     "text": [
      "2\n",
      "1\n"
     ]
    }
   ],
   "source": [
    "def countComponents(n, edges):\n",
    "    uf = UnionFind(n)\n",
    "    nodes = [False] * n\n",
    "    for s, e in edges:\n",
    "        uf.union(s, e)\n",
    "    ans = 0\n",
    "    cnt = 0\n",
    "    for i in range(n):\n",
    "        if nodes[i]: continue\n",
    "        nodes[i] = True\n",
    "        cnt += 1\n",
    "        for j in range(i+1, n):\n",
    "            if uf.connected(i, j):\n",
    "                nodes[j] = True\n",
    "                cnt += 1\n",
    "        ans += 1\n",
    "        if cnt == n:\n",
    "            break\n",
    "    return ans\n",
    "\n",
    "n = 5\n",
    "edges = [[0, 1], [1, 2], [3, 4]]\n",
    "print(countComponents(n, edges))\n",
    "\n",
    "n = 5\n",
    "edges = [[0,1], [1,2], [2,3], [3,4]]\n",
    "print(countComponents(n, edges))"
   ]
  },
  {
   "cell_type": "code",
   "execution_count": 42,
   "metadata": {},
   "outputs": [
    {
     "name": "stdout",
     "output_type": "stream",
     "text": [
      "2\n",
      "1\n"
     ]
    }
   ],
   "source": [
    "def countComponents(n, edges):\n",
    "    adj = {}\n",
    "    for i in range(n):\n",
    "        if i not in adj:\n",
    "            adj[i] = set()\n",
    "    for s, e in edges:\n",
    "        adj[s].add(e)\n",
    "        adj[e].add(s)\n",
    "    ans = 0\n",
    "    visited = [False] * n\n",
    "    def dfs(i):\n",
    "        visited[i] = True\n",
    "        e = adj[i]\n",
    "        for j in e:\n",
    "            if not visited[j]:\n",
    "                dfs(j)\n",
    "    for i in range(n):\n",
    "        if not visited[i]:\n",
    "            dfs(i)\n",
    "            ans += 1\n",
    "    return ans\n",
    "\n",
    "n = 5\n",
    "edges = [[0, 1], [1, 2], [3, 4]]\n",
    "print(countComponents(n, edges))\n",
    "\n",
    "n = 5\n",
    "edges = [[0,1], [1,2], [2,3], [3,4]]\n",
    "print(countComponents(n, edges)) "
   ]
  },
  {
   "cell_type": "markdown",
   "metadata": {},
   "source": [
    "## 冗余连接（有环无向图）\n",
    "找出n条边n个节点的无向图中可以删去的边，删除后可使得剩余部分是一个有着 n 个节点的树（无环无向图）\n",
    "\n",
    "https://leetcode.cn/problems/redundant-connection/description/"
   ]
  },
  {
   "cell_type": "code",
   "execution_count": 50,
   "metadata": {},
   "outputs": [
    {
     "name": "stdout",
     "output_type": "stream",
     "text": [
      "[2, 3]\n",
      "[1, 4]\n"
     ]
    }
   ],
   "source": [
    "def findRedundantConnection(edges):\n",
    "    n = len(edges)\n",
    "    for i in range(n-1, -1, -1):\n",
    "        uf = UnionFind(n)\n",
    "        for j in range(n):\n",
    "            if i != j:\n",
    "                s, e = edges[j]\n",
    "                uf.union(s-1, e-1)\n",
    "        pivot = 0\n",
    "        for k in range(1, n):\n",
    "            if not uf.connected(pivot, k):\n",
    "                break\n",
    "        else:\n",
    "            return edges[i]\n",
    "\n",
    "edges = [[1,2], [1,3], [2,3]]\n",
    "print(findRedundantConnection(edges))\n",
    "\n",
    "edges = [[1,2], [2,3], [3,4], [1,4], [1,5]]\n",
    "print(findRedundantConnection(edges))"
   ]
  },
  {
   "cell_type": "code",
   "execution_count": 53,
   "metadata": {},
   "outputs": [
    {
     "name": "stdout",
     "output_type": "stream",
     "text": [
      "[2, 3]\n",
      "[1, 4]\n"
     ]
    }
   ],
   "source": [
    "# 优化后的结果\n",
    "def findRedundantConnection(edges):\n",
    "    n = len(edges)\n",
    "    uf = UnionFind(n)\n",
    "    for s, e in edges:\n",
    "        if uf.connected(s-1, e-1):\n",
    "            return [s, e]\n",
    "        else:\n",
    "            uf.union(s-1, e-1)\n",
    "\n",
    "edges = [[1,2], [1,3], [2,3]]\n",
    "print(findRedundantConnection(edges))\n",
    "\n",
    "edges = [[1,2], [2,3], [3,4], [1,4], [1,5]]\n",
    "print(findRedundantConnection(edges))"
   ]
  },
  {
   "cell_type": "markdown",
   "metadata": {},
   "source": [
    "## 安全节点（拓扑排序、三色标记法深度遍历）\n",
    "https://leetcode.cn/problems/find-eventual-safe-states/description/"
   ]
  },
  {
   "cell_type": "code",
   "execution_count": 114,
   "metadata": {},
   "outputs": [
    {
     "data": {
      "image/png": "[encoded data removed]",
      "text/plain": [
       "<Figure size 432x288 with 1 Axes>"
      ]
     },
     "metadata": {},
     "output_type": "display_data"
    },
    {
     "name": "stdout",
     "output_type": "stream",
     "text": [
      "DiGraph with 7 nodes and 7 edges\n",
      "[2, 4, 5, 6]\n"
     ]
    }
   ],
   "source": [
    "def eventualSafeNodes(graph):\n",
    "    adj = {}\n",
    "    queue = []\n",
    "    out = {}\n",
    "    n = len(graph)\n",
    "    for i in range(n):\n",
    "        adj[i] = set()\n",
    "    for i in range(n):\n",
    "        edges = graph[i]\n",
    "        for j in edges:\n",
    "            adj[j].add(i)\n",
    "        out[i] = out.get(i, 0) + len(edges)\n",
    "        if len(edges) == 0:\n",
    "            queue.append(i)\n",
    "    ans = []\n",
    "    while queue:\n",
    "        i = queue.pop(0)\n",
    "        ans.append(i)\n",
    "        for j in adj[i]:\n",
    "            if out[j] <= 0:\n",
    "                continue\n",
    "            out[j] -= 1\n",
    "            if out[j] == 0:\n",
    "                queue.append(j)\n",
    "    return sorted(ans)\n",
    "\n",
    "graph = [[1,2],[2,3],[5],[0],[5],[],[]]\n",
    "g = Graph()\n",
    "for i in range(len(graph)):\n",
    "    g.add_vertex(i)\n",
    "    for j in graph[i]:\n",
    "        g.add_edge(j, i)\n",
    "print(g)\n",
    "print(eventualSafeNodes(graph))"
   ]
  },
  {
   "cell_type": "code",
   "execution_count": 107,
   "metadata": {},
   "outputs": [
    {
     "data": {
      "image/png": "[encoded data removed]",
      "text/plain": [
       "<Figure size 432x288 with 1 Axes>"
      ]
     },
     "metadata": {},
     "output_type": "display_data"
    },
    {
     "name": "stdout",
     "output_type": "stream",
     "text": [
      "DiGraph with 5 nodes and 10 edges\n",
      "[4]\n"
     ]
    }
   ],
   "source": [
    "def eventualSafeNodes(graph):        \n",
    "    n = len(graph)\n",
    "    color = [0] * n\n",
    "\n",
    "    def safe(x: int) -> bool:\n",
    "        if color[x] > 0:\n",
    "            return color[x] == 2\n",
    "        color[x] = 1\n",
    "        for y in graph[x]:\n",
    "            if not safe(y):\n",
    "                return False\n",
    "        color[x] = 2\n",
    "        return True\n",
    "\n",
    "    return [i for i in range(n) if safe(i)]\n",
    "\n",
    "graph = [[1,2,3,4],[1,2],[3,4],[0,4],[]]\n",
    "g = Graph()\n",
    "for i in range(len(graph)):\n",
    "    g.add_vertex(i)\n",
    "    for j in graph[i]:\n",
    "        g.add_edge(i, j)\n",
    "print(g)\n",
    "print(eventualSafeNodes(graph))"
   ]
  }
 ],
 "metadata": {
  "kernelspec": {
   "display_name": "base",
   "language": "python",
   "name": "python3"
  },
  "language_info": {
   "codemirror_mode": {
    "name": "ipython",
    "version": 3
   },
   "file_extension": ".py",
   "mimetype": "text/x-python",
   "name": "python",
   "nbconvert_exporter": "python",
   "pygments_lexer": "ipython3",
   "version": "3.9.7"
  }
 },
 "nbformat": 4,
 "nbformat_minor": 2
}

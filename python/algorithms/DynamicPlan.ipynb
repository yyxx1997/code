{
 "cells": [
  {
   "attachments": {},
   "cell_type": "markdown",
   "metadata": {},
   "source": [
    "# 动态规划"
   ]
  },
  {
   "attachments": {},
   "cell_type": "markdown",
   "metadata": {},
   "source": [
    "## 1. 百度春招笔试题-魔法师\n",
    "\n",
    "魔法师小树有 n 个魔法元素，他把它们排成一行，从左到右第 i 个魔法元素的能量值是一个非零整数。\n",
    "\n",
    "小树每次施展魔法的方式是挑选一段连续非空的魔法元素，将它们的能量值乘起来，得到值就是这次魔法的总能量。如果总能量大于零即为白魔法，否则为黑魔法。\n",
    "\n",
    "现在小树想知道施展一个白魔法或黑魔法的方案数分别有多少。两个方案不同是指挑选的连续区间不同。\n",
    "\n",
    "作者：塔子\n",
    "链接：https://leetcode.cn/circle/discuss/1qE7m2/\n",
    "来源：力扣（LeetCode）\n",
    "著作权归作者所有。商业转载请联系作者获得授权，非商业转载请注明出处。\n",
    "![](images\\百度春招笔试题-魔法师.png)"
   ]
  },
  {
   "attachments": {},
   "cell_type": "markdown",
   "metadata": {},
   "source": [
    "5 -3 3 -1\n",
    "\n",
    "w: 5 3 -33-1 5-33-1 = 4\n",
    "\n",
    "5 -3 3 -1 1\n",
    "\n",
    "w: 5 3 1 -33-1 -33-11 5-33-1 5-33-11 = 4+3 = 7\n",
    "\n",
    "5 -3 3 -1 1 2\n",
    "\n",
    "w: 5 3 1 2 12 -33-1 -33-11 5-33-1 5-33-11 -33-112 5-33-112 = 7+4 = 11\n",
    "\n",
    "5 -3 3 1 -1 2"
   ]
  },
  {
   "cell_type": "code",
   "execution_count": null,
   "metadata": {},
   "outputs": [],
   "source": [
    "def magic(n, A):\n",
    "    \"\"\"\n",
    "    dp[i]['b']代表从左向右的i个元素之间黑魔法的方案数量，dp[i]['w']代表白魔法的方案数\n",
    "        + dp[0]['b'] == dp[0]['w'] == 0\n",
    "        + 当A[i+1]>0时：dp[i+1]['w'] = dp[i]['w'] + 1\n",
    "    \"\"\"\n",
    "    ..."
   ]
  }
 ],
 "metadata": {
  "kernelspec": {
   "display_name": "py38",
   "language": "python",
   "name": "python3"
  },
  "language_info": {
   "name": "python",
   "version": "3.8.12"
  },
  "orig_nbformat": 4
 },
 "nbformat": 4,
 "nbformat_minor": 2
}

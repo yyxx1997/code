{
 "cells": [
  {
   "cell_type": "markdown",
   "metadata": {},
   "source": [
    "# 小米9.02笔试题\n",
    "## 参考面经：\n",
    "\n",
    "\n",
    "\n"
   ]
  },
  {
   "cell_type": "markdown",
   "metadata": {},
   "source": [
    "1. 小米从N个花架上挑选4种花，每个花架上均有这4种花但是价格不一，小米想花完1000块，求有多少种挑选方案？\n"
   ]
  },
  {
   "cell_type": "markdown",
   "metadata": {},
   "source": [
    "最基础的做法，回溯（DFS），会超时"
   ]
  },
  {
   "cell_type": "code",
   "execution_count": 8,
   "metadata": {},
   "outputs": [
    {
     "name": "stdout",
     "output_type": "stream",
     "text": [
      "4\n"
     ]
    }
   ],
   "source": [
    "N = 3\n",
    "case1 = [\n",
    "    [250, 250, 250, 250],\n",
    "    [156, 201, 205, 400],\n",
    "    [205, 190, 100, 250]\n",
    "]\n",
    "\n",
    "def solve(arr, n, m):\n",
    "    ans = 0\n",
    "\n",
    "    def dfs(j, rest):\n",
    "        nonlocal ans\n",
    "        if rest == 0:\n",
    "            ans += 1\n",
    "        if j >= 4:\n",
    "            return\n",
    "        for i in range(n):\n",
    "            dfs(j+1, rest-arr[i][j])\n",
    "\n",
    "    dfs(0, 1000)\n",
    "    return ans\n",
    "\n",
    "print(solve(case1, N, 1000))"
   ]
  },
  {
   "cell_type": "markdown",
   "metadata": {},
   "source": [
    "加入记忆化搜索后，如果前j种花达到某一金额cnt，剩下的就是寻找j+1~4的花里金额为1000-cnt的组合数。不知道能不能ac，这个内存占用会比较高"
   ]
  },
  {
   "cell_type": "code",
   "execution_count": 16,
   "metadata": {},
   "outputs": [
    {
     "name": "stdout",
     "output_type": "stream",
     "text": [
      "4\n"
     ]
    }
   ],
   "source": [
    "N = 3\n",
    "case1 = [\n",
    "    [250, 250, 250, 250],\n",
    "    [156, 201, 205, 400],\n",
    "    [205, 190, 100, 250]\n",
    "]\n",
    "\n",
    "def solve(arr, n, m):\n",
    "    mem = {}\n",
    "    \n",
    "    def dfs(j, rest):\n",
    "        total = 0\n",
    "        if rest == 0:\n",
    "            total += 1\n",
    "        if j >= 4:\n",
    "            return total\n",
    "        for i in range(n):\n",
    "            if rest-arr[i][j] < 0:\n",
    "                continue\n",
    "            if (j+1, rest-arr[i][j]) not in mem:\n",
    "                mem[(j+1, rest-arr[i][j])] = dfs(j+1, rest-arr[i][j])\n",
    "            total += mem[(j+1, rest-arr[i][j])]\n",
    "        return total\n",
    "\n",
    "    ans = dfs(0, 1000)\n",
    "    return ans\n",
    "\n",
    "print(solve(case1, N, 1000))"
   ]
  },
  {
   "cell_type": "markdown",
   "metadata": {},
   "source": [
    "2. 给定真实文本和输出文本，在编辑距离计算的基础上，要求计算出插入、删除和替换的次数。\n",
    " \n",
    "    实际场景中，编辑距离对应的插入次数、删除次数、替换次数有可能不唯一，本题目不考虑不唯一的情况，即假定所有输入样例只有唯一解\n",
    "\n",
    "    输入描述：\n",
    "\n",
    "    输入为两行字符串。字符串可能包含英文大小写字母、数字、英文标点符号、空格等字符。字符串长度小于等于1000.第一行为真实文本的字符序列，第二行为语音识别输出文本的字符序列\n",
    "\n",
    "    输出猫述：\n",
    "\n",
    "    三行整数，分别表示插入错误、删除错误、替换错误的次数"
   ]
  },
  {
   "cell_type": "markdown",
   "metadata": {},
   "source": [
    "首先，回顾一下编辑距离最初始的做法："
   ]
  },
  {
   "cell_type": "code",
   "execution_count": 21,
   "metadata": {},
   "outputs": [
    {
     "name": "stdout",
     "output_type": "stream",
     "text": [
      "[0, 1, 2, 3, 4, 5, 0]\n",
      "[1, 0, 1, 2, 3, 4, 1]\n",
      "[2, 1, 1, 2, 3, 4, 2]\n",
      "[3, 2, 2, 1, 2, 3, 3]\n",
      "[4, 3, 3, 2, 1, 2, 3]\n",
      "[5, 4, 4, 3, 2, 1, 2]\n",
      "[6, 5, 5, 4, 3, 2, 2]\n",
      "[7, 6, 6, 5, 4, 3, 3]\n",
      "[8, 7, 7, 6, 5, 4, 4]\n",
      "[9, 8, 8, 7, 6, 5, 5]\n",
      "[0, 1, 2, 3, 4, 5, 5]\n",
      "5\n"
     ]
    }
   ],
   "source": [
    "origin_sentence = \"Xmi cpany.\"\n",
    "result_sentence = \"XMi c.\"\n",
    "\n",
    "def minEditDistanceOperation(s1, s2):\n",
    "    n, m = len(s1), len(s2)\n",
    "    # dp[i][j]为s1[:i]与s2[:j]的最小编辑距离\n",
    "    dp = [[0 for i in range(m+1)] for j in range(n+1)]\n",
    "    for i in range(n):\n",
    "        dp[i][0] = i\n",
    "    for j in range(m):\n",
    "        dp[0][j] = j\n",
    "\n",
    "    for i in range(1, n+1):\n",
    "        for j in range(1, m+1):\n",
    "            if s1[i-1] == s2[j-1]:\n",
    "                dp[i][j] = dp[i-1][j-1]\n",
    "            else:\n",
    "                dp[i][j] = min(dp[i-1][j], dp[i][j-1], dp[i-1][j-1]) + 1 \n",
    "    for i in dp:print(i)\n",
    "    return dp[n][m]\n",
    "\n",
    "print(minEditDistanceOperation(origin_sentence, result_sentence))"
   ]
  },
  {
   "cell_type": "markdown",
   "metadata": {},
   "source": [
    "观察dp矩阵，可以通过后向回溯或前向记录辅助数组来统计："
   ]
  },
  {
   "cell_type": "code",
   "execution_count": 6,
   "metadata": {},
   "outputs": [
    {
     "name": "stdout",
     "output_type": "stream",
     "text": [
      "[0, 1, 2, 3, 4, 5, 6]\n",
      "[1, 0, 1, 2, 3, 4, 5]\n",
      "[2, 1, 1, 2, 3, 4, 5]\n",
      "[3, 2, 2, 1, 2, 3, 4]\n",
      "[4, 3, 3, 2, 1, 2, 3]\n",
      "[5, 4, 4, 3, 2, 1, 2]\n",
      "[6, 5, 5, 4, 3, 2, 2]\n",
      "[7, 6, 6, 5, 4, 3, 3]\n",
      "[8, 7, 7, 6, 5, 4, 4]\n",
      "[9, 8, 8, 7, 6, 5, 5]\n",
      "[10, 9, 9, 8, 7, 6, 5]\n",
      "_\t X    \tM    \ti    \t     \tc    \t.\n",
      "X\t0 ↘*\t1 →\t2 →\t3 →\t4 →\t5 →\n",
      "m\t1 ↓\t1 ↘*\t2 →\t3 →\t4 →\t5 →\n",
      "i\t2 ↓\t2 ↓\t1 ↘*\t2 →\t3 →\t4 →\n",
      " \t3 ↓\t3 ↓\t2 ↓\t1 ↘*\t2 →\t3 →\n",
      "c\t4 ↓\t4 ↓\t3 ↓\t2 ↓\t1 ↘*\t2 →\n",
      "p\t5 ↓\t5 ↓\t4 ↓\t3 ↓\t2 ↓*\t2 ↘\n",
      "a\t6 ↓\t6 ↓\t5 ↓\t4 ↓\t3 ↓*\t3 ↓\n",
      "n\t7 ↓\t7 ↓\t6 ↓\t5 ↓\t4 ↓*\t4 ↓\n",
      "y\t8 ↓\t8 ↓\t7 ↓\t6 ↓\t5 ↓*\t5 ↓\n",
      ".\t9 ↓\t9 ↓\t8 ↓\t7 ↓\t6 ↓\t5 ↘*\n",
      "insert:0\n",
      "delete:4\n",
      "replace:1\n",
      "total:5\n",
      "5\n"
     ]
    }
   ],
   "source": [
    "origin_sentence = \"Xmi cpany.\"\n",
    "result_sentence = \"XMi c.\"\n",
    "\n",
    "def minEditDistanceOperation(s1, s2):\n",
    "    n, m = len(s1), len(s2)\n",
    "    # dp[i][j]为s1[:i]与s2[:j]的最小编辑距离\n",
    "    dp = [[0 for i in range(m+1)] for j in range(n+1)]\n",
    "    op = [['_' for i in range(m+1)] for j in range(n+1)]\n",
    "    for i in range(1, n+1):\n",
    "        dp[i][0] = i\n",
    "        op[i][0] = s1[i-1]\n",
    "    for j in range(1, m+1):\n",
    "        dp[0][j] = j\n",
    "        op[0][j] = s2[j-1]\n",
    "    \n",
    "    for i in range(1, n+1):\n",
    "        for j in range(1, m+1):\n",
    "            if s1[i-1] == s2[j-1]:\n",
    "                dp[i][j] = dp[i-1][j-1]\n",
    "                op[i][j] = str(dp[i][j]) + ' ↘'\n",
    "            else:\n",
    "                dp[i][j] = min(dp[i-1][j], dp[i][j-1], dp[i-1][j-1]) + 1 \n",
    "                if dp[i][j] == dp[i-1][j]+1:\n",
    "                    op[i][j] = str(dp[i][j]) + ' ↓'\n",
    "                elif dp[i][j] == dp[i][j-1]+1:\n",
    "                    op[i][j] = str(dp[i][j]) + ' →'\n",
    "                else:\n",
    "                    op[i][j] = str(dp[i][j]) + ' ↘'\n",
    "    \n",
    "    for i in dp:print(i)\n",
    "\n",
    "    insert, delete, replace = 0, 0, 0\n",
    "    i, j = n, m\n",
    "    while i > 0 or j > 0:\n",
    "        if op[i][j][-1] == '↘':\n",
    "            op[i][j] += '*'\n",
    "            if dp[i][j] == dp[i-1][j-1] + 1:\n",
    "                replace += 1\n",
    "            i -= 1\n",
    "            j -= 1\n",
    "        elif op[i][j][-1] == '↓':\n",
    "            op[i][j] += '*'\n",
    "            delete += 1\n",
    "            i -= 1\n",
    "        elif op[i][j][-1] == '→':\n",
    "            op[i][j] += '*'\n",
    "            insert += 1\n",
    "            j -= 1\n",
    "    cnt = 0\n",
    "    for i in op:\n",
    "        if cnt == 0:\n",
    "            print(i[0], end='\\t ')\n",
    "            print('    \\t'.join(i[1:]))\n",
    "        else:\n",
    "            print('\\t'.join(i))\n",
    "        cnt += 1\n",
    "        # print('\\n')\n",
    "    print(\"insert:{}\\ndelete:{}\\nreplace:{}\\ntotal:{}\".format(insert, delete, replace,dp[n][m]))\n",
    "    return dp[n][m]\n",
    "\n",
    "print(minEditDistanceOperation(origin_sentence, result_sentence))"
   ]
  },
  {
   "cell_type": "markdown",
   "metadata": {},
   "source": [
    "通过方向标记，我们能很方便的进行回溯最短的路径并可视化，同时统计不同方向所对应的编辑操作个数。\n",
    "不过上述方向矩阵主要是帮助理解，真笔试的时候最好直接回溯就行，如下："
   ]
  },
  {
   "cell_type": "code",
   "execution_count": 7,
   "metadata": {},
   "outputs": [
    {
     "name": "stdout",
     "output_type": "stream",
     "text": [
      "[0, 1, 2, 3, 4, 5, 6]\n",
      "[1, 0, 1, 2, 3, 4, 5]\n",
      "[2, 1, 1, 2, 3, 4, 5]\n",
      "[3, 2, 2, 1, 2, 3, 4]\n",
      "[4, 3, 3, 2, 1, 2, 3]\n",
      "[5, 4, 4, 3, 2, 1, 2]\n",
      "[6, 5, 5, 4, 3, 2, 2]\n",
      "[7, 6, 6, 5, 4, 3, 3]\n",
      "[8, 7, 7, 6, 5, 4, 4]\n",
      "[9, 8, 8, 7, 6, 5, 5]\n",
      "[10, 9, 9, 8, 7, 6, 5]\n",
      "insert:0\n",
      "delete:4\n",
      "replace:1\n",
      "total:5\n",
      "5\n"
     ]
    }
   ],
   "source": [
    "origin_sentence = \"Xmi cpany.\"\n",
    "result_sentence = \"XMi c.\"\n",
    "\n",
    "def minEditDistanceOperation(s1, s2):\n",
    "    n, m = len(s1), len(s2)\n",
    "    # dp[i][j]为s1[:i]与s2[:j]的最小编辑距离\n",
    "    dp = [[0 for i in range(m+1)] for j in range(n+1)]\n",
    "    for i in range(1, n+1):\n",
    "        dp[i][0] = i\n",
    "    for j in range(1, m+1):\n",
    "        dp[0][j] = j\n",
    "    \n",
    "    for i in range(1, n+1):\n",
    "        for j in range(1, m+1):\n",
    "            if s1[i-1] == s2[j-1]:\n",
    "                dp[i][j] = dp[i-1][j-1]\n",
    "            else:\n",
    "                dp[i][j] = min(dp[i-1][j], dp[i][j-1], dp[i-1][j-1]) + 1 \n",
    "    \n",
    "    for i in dp:print(i)\n",
    "\n",
    "    insert, delete, replace = 0, 0, 0\n",
    "    i, j = n, m\n",
    "    while i > 0 or j > 0:\n",
    "        if dp[i][j] == dp[i-1][j-1] + 1:\n",
    "            replace += 1\n",
    "            i -= 1\n",
    "            j -= 1\n",
    "        elif dp[i][j] == dp[i-1][j] + 1:\n",
    "            delete += 1\n",
    "            i -= 1\n",
    "        elif dp[i][j] == dp[i][j-1] + 1:\n",
    "            insert += 1\n",
    "            j -= 1\n",
    "        elif dp[i][j] == dp[i-1][j-1]:\n",
    "            i -= 1\n",
    "            j -= 1\n",
    "\n",
    "    print(\"insert:{}\\ndelete:{}\\nreplace:{}\\ntotal:{}\".format(insert, delete, replace,dp[n][m]))\n",
    "    return dp[n][m]\n",
    "\n",
    "print(minEditDistanceOperation(origin_sentence, result_sentence))"
   ]
  },
  {
   "cell_type": "code",
   "execution_count": null,
   "metadata": {},
   "outputs": [],
   "source": []
  }
 ],
 "metadata": {
  "kernelspec": {
   "display_name": "py38",
   "language": "python",
   "name": "python3"
  },
  "language_info": {
   "codemirror_mode": {
    "name": "ipython",
    "version": 3
   },
   "file_extension": ".py",
   "mimetype": "text/x-python",
   "name": "python",
   "nbconvert_exporter": "python",
   "pygments_lexer": "ipython3",
   "version": "3.8.12"
  },
  "orig_nbformat": 4
 },
 "nbformat": 4,
 "nbformat_minor": 2
}

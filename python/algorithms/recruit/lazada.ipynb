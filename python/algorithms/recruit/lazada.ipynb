{
 "cells": [
  {
   "cell_type": "markdown",
   "metadata": {},
   "source": [
    "# 阿里国际(Lazada)09.04笔试\n",
    "\n",
    "## 参考面经：\n",
    "\n",
    "无"
   ]
  },
  {
   "cell_type": "markdown",
   "metadata": {},
   "source": [
    "题目：\n",
    "小红把n个柱子并列排成一排，每根柱子都是圆柱体，第i个柱子的高度为 $a_{i}$ 每根柱子的直径为1，小红希望在这些柱子的正视图上画出一个尽可能大的等腰直角三角形，并且要求三角形的一个腰和地面垂直，另一个腰和地面平行。你能帮小红求出这个等腰直角三角形的边长吗?\n",
    "\n",
    "输入示例：\n",
    "\n",
    "5\n",
    "\n",
    "3 6 2 4 3\n",
    "\n",
    "输出：\n",
    "\n",
    "3\n",
    "\n",
    "如图：\n",
    "\n",
    "\n",
    "![image](../images/lazada.png)"
   ]
  },
  {
   "cell_type": "code",
   "execution_count": null,
   "metadata": {
    "vscode": {
     "languageId": "plaintext"
    }
   },
   "outputs": [],
   "source": []
  }
 ],
 "metadata": {
  "kernelspec": {
   "display_name": "py38",
   "language": "python",
   "name": "python3"
  },
  "language_info": {
   "codemirror_mode": {
    "name": "ipython",
    "version": 3
   },
   "file_extension": ".py",
   "mimetype": "text/x-python",
   "name": "python",
   "nbconvert_exporter": "python",
   "pygments_lexer": "ipython3",
   "version": "3.8.12"
  },
  "orig_nbformat": 4
 },
 "nbformat": 4,
 "nbformat_minor": 2
}

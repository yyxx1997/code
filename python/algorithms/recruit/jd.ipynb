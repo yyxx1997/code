{
 "cells": [
  {
   "cell_type": "markdown",
   "metadata": {},
   "source": [
    "# 京东8.19笔试题\n",
    "## 参考面经：\n",
    "https://www.nowcoder.com/discuss/522382154890764288?sourceSSR=search\n",
    "\n",
    "https://www.nowcoder.com/discuss/522399257547055104?sourceSSR=search\n",
    "\n",
    "https://www.nowcoder.com/feed/main/detail/1bf0e809aaa04156b7b81559a0234fb1?sourceSSR=search\n",
    "\n",
    "## 题目\n",
    "编程题\n",
    "1. 夹吃棋，棋会被左右两侧和上下两侧的异色棋吃掉，计算谁赢，模拟\n",
    "2. 给m个症状和n个药，药有治疗的症状和产生的副作用，计算吃第i个药后的症状，模拟\n",
    "3. 皇后走棋盘，一次可以向右、向下、向右下走，棋盘有障碍物。求从左上角到右下角的最少步数。动态规划，三维数组，第三维存储三个方向的最少步数。\n"
   ]
  },
  {
   "cell_type": "markdown",
   "metadata": {},
   "source": [
    "1. 夹吃棋，棋会被左右两侧和上下两侧的异色棋吃掉，计算谁赢，模拟\n",
    "\n",
    "    *代表黑色，o代表红色，.代表空白。只有一方吃了另一方（不是互相吃）算赢，否则都是平局"
   ]
  },
  {
   "cell_type": "code",
   "execution_count": 12,
   "metadata": {},
   "outputs": [
    {
     "name": "stdout",
     "output_type": "stream",
     "text": [
      "[['*', 'o', 'o'], ['o', '.', '*'], ['*', '*', 'o']]\n",
      "draw\n"
     ]
    }
   ],
   "source": [
    "case1 = \"\"\"\n",
    "*oo\n",
    "o.*\n",
    "**o\n",
    "\"\"\"\n",
    "\n",
    "def valid(x, y):\n",
    "    return (x >= 0 and x < 3) and (y >= 0 and y < 3)\n",
    "\n",
    "def judge(chess):\n",
    "    red = 0\n",
    "    blc = 0\n",
    "    for i in range(3):\n",
    "        for j in range(3):\n",
    "            if chess[i][j] == '*':\n",
    "                if valid(i-1, j) and valid(i+1, j) and chess[i-1][j] == 'o' and chess[i+1][j] == 'o':\n",
    "                    red += 1\n",
    "                if valid(i, j-1) and valid(i, j+1) and chess[i][j-1] == 'o' and chess[i][j+1] == 'o':\n",
    "                    red += 1\n",
    "            elif chess[i][j] == 'o':\n",
    "                if valid(i-1, j) and valid(i+1, j) and chess[i-1][j] == '*' and chess[i+1][j] == '*':\n",
    "                    blc += 1\n",
    "                if valid(i, j-1) and valid(i, j+1) and chess[i][j-1] == '*' and chess[i][j+1] == '*':\n",
    "                    blc += 1\n",
    "    if (red == 0 and blc == 0) or (red and blc):\n",
    "        return 'draw'\n",
    "    elif red == 0:\n",
    "        return 'black'\n",
    "    else:\n",
    "        return 'red'\n",
    "\n",
    "chess = []\n",
    "for i in case1.strip().split('\\n'):\n",
    "    chess.append(list(i))\n",
    "print(chess)\n",
    "print(judge(chess))"
   ]
  },
  {
   "cell_type": "markdown",
   "metadata": {},
   "source": [
    "2. 给m个症状和n个药，药有治疗的症状和产生的副作用，计算吃第i个药后的症状，模拟\n",
    "\n",
    "    这个太简单了，跳过了，因为确实是模拟，上一题还有循环判断，这题纯粹模拟"
   ]
  },
  {
   "cell_type": "markdown",
   "metadata": {},
   "source": [
    "3. 皇后走棋盘，一次性可以向右、向下、向右下走`k`距离但只算一步，其中右下是指(x, y)=>(x+k, y+k)，棋盘有障碍物`*`。求从左上角到右下角的最少步数。\n",
    "   \n",
    "   动态规划，三维数组，第三维存储三个方向的最少步数。"
   ]
  },
  {
   "cell_type": "code",
   "execution_count": 7,
   "metadata": {},
   "outputs": [
    {
     "name": "stdout",
     "output_type": "stream",
     "text": [
      "['.', '.', '.', '.']\n",
      "['.', '*', '.', '*']\n",
      "['*', '.', '*', '.']\n",
      "['.', '.', '.', '.']\n",
      "[(1, 0), (1, 1), (1, 0), (0, 1), (0, 1)]\n",
      ". . . .\n",
      "↓ * . *\n",
      "* ↘ * .\n",
      ". ↓ → →\n",
      "[(1, 0), (1, 1), (1, 1), (0, 1)]\n",
      ". . . .\n",
      "↓ * . *\n",
      "* ↘ * .\n",
      ". . ↘ →\n",
      "[(0, 1), (1, 1), (1, 1), (1, 0)]\n",
      "[(0, 1), (0, 1), (1, 0), (1, 1), (1, 0)]\n",
      "3\n"
     ]
    }
   ],
   "source": [
    "case3 = \"\"\"\n",
    "....\n",
    ".*.*\n",
    "*.*.\n",
    "....\n",
    "\"\"\"\n",
    "\n",
    "chess = []\n",
    "for i in case3.strip().split('\\n'):\n",
    "    chess.append(list(i))\n",
    "for i in chess:print(i)\n",
    "\n",
    "\n",
    "\n",
    "def minSteps(chess):\n",
    "    moves = [(1, 0, '↓'), (1, 1, '↘'), (0, 1, '→')]\n",
    "    n, m = len(chess), len(chess[0])\n",
    "    paths = []\n",
    "    ans = float('inf')\n",
    "    def valid(x, y, i, j):\n",
    "        return x+i>=0 and x+i<n and y+j>=0 and y+j<m and chess[x+i][y+j]=='.' \n",
    "\n",
    "    def dfs(x, y):\n",
    "        nonlocal ans\n",
    "        if x == n-1 and y == m-1:\n",
    "            print(paths)\n",
    "            cur = 1\n",
    "            for i in range(1, len(paths)):\n",
    "                if paths[i] != paths[i-1]:\n",
    "                    cur += 1\n",
    "            if cur < ans:\n",
    "                for i in chess:print(' '.join(i))\n",
    "                ans = min(ans, cur)\n",
    "        for x_forward, y_forward, direction in moves:\n",
    "            if valid(x, y, x_forward, y_forward):\n",
    "                paths.append((x_forward, y_forward))\n",
    "                chess[x+x_forward][y+y_forward] = direction\n",
    "                dfs(x+x_forward, y+y_forward)\n",
    "                paths.pop(-1)\n",
    "                chess[x+x_forward][y+y_forward] = '.'\n",
    "    dfs(0, 0)\n",
    "    return ans\n",
    "\n",
    "print(minSteps(chess))"
   ]
  },
  {
   "cell_type": "code",
   "execution_count": null,
   "metadata": {},
   "outputs": [],
   "source": []
  }
 ],
 "metadata": {
  "kernelspec": {
   "display_name": "py38",
   "language": "python",
   "name": "python3"
  },
  "language_info": {
   "codemirror_mode": {
    "name": "ipython",
    "version": 3
   },
   "file_extension": ".py",
   "mimetype": "text/x-python",
   "name": "python",
   "nbconvert_exporter": "python",
   "pygments_lexer": "ipython3",
   "version": "3.8.12"
  },
  "orig_nbformat": 4
 },
 "nbformat": 4,
 "nbformat_minor": 2
}

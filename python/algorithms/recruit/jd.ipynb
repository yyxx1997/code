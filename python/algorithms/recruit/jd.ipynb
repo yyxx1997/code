{
 "cells": [
  {
   "cell_type": "markdown",
   "metadata": {},
   "source": [
    "# 京东8.19笔试题\n",
    "## 参考面经：\n",
    "https://www.nowcoder.com/discuss/522382154890764288?sourceSSR=search\n",
    "\n",
    "https://www.nowcoder.com/discuss/522399257547055104?sourceSSR=search\n",
    "\n",
    "https://www.nowcoder.com/feed/main/detail/1bf0e809aaa04156b7b81559a0234fb1?sourceSSR=search\n",
    "\n",
    "https://www.nowcoder.com/discuss/522381734340460544?sourceSSR=post\n",
    "\n",
    "## 题目\n",
    "编程题\n",
    "1. 夹吃棋，棋会被左右两侧和上下两侧的异色棋吃掉，计算谁赢，模拟\n",
    "2. 给m个症状和n个药，药有治疗的症状和产生的副作用，计算吃第i个药后的症状，模拟\n",
    "3. 皇后走棋盘，一次可以向右、向下、向右下走，棋盘有障碍物。求从左上角到右下角的最少步数。动态规划，三维数组，第三维存储三个方向的最少步数。\n"
   ]
  },
  {
   "cell_type": "markdown",
   "metadata": {},
   "source": [
    "1. 夹吃棋，棋会被左右两侧和上下两侧的异色棋吃掉，计算谁赢，模拟\n",
    "\n",
    "    *代表黑色，o代表红色，.代表空白。只有一方吃了另一方（不是互相吃）算赢，否则都是平局"
   ]
  },
  {
   "cell_type": "code",
   "execution_count": 12,
   "metadata": {},
   "outputs": [
    {
     "name": "stdout",
     "output_type": "stream",
     "text": [
      "[['*', 'o', 'o'], ['o', '.', '*'], ['*', '*', 'o']]\n",
      "draw\n"
     ]
    }
   ],
   "source": [
    "case1 = \"\"\"\n",
    "*oo\n",
    "o.*\n",
    "**o\n",
    "\"\"\"\n",
    "\n",
    "def valid(x, y):\n",
    "    return (x >= 0 and x < 3) and (y >= 0 and y < 3)\n",
    "\n",
    "def judge(chess):\n",
    "    red = 0\n",
    "    blc = 0\n",
    "    for i in range(3):\n",
    "        for j in range(3):\n",
    "            if chess[i][j] == '*':\n",
    "                if valid(i-1, j) and valid(i+1, j) and chess[i-1][j] == 'o' and chess[i+1][j] == 'o':\n",
    "                    red += 1\n",
    "                if valid(i, j-1) and valid(i, j+1) and chess[i][j-1] == 'o' and chess[i][j+1] == 'o':\n",
    "                    red += 1\n",
    "            elif chess[i][j] == 'o':\n",
    "                if valid(i-1, j) and valid(i+1, j) and chess[i-1][j] == '*' and chess[i+1][j] == '*':\n",
    "                    blc += 1\n",
    "                if valid(i, j-1) and valid(i, j+1) and chess[i][j-1] == '*' and chess[i][j+1] == '*':\n",
    "                    blc += 1\n",
    "    if (red == 0 and blc == 0) or (red and blc):\n",
    "        return 'draw'\n",
    "    elif red == 0:\n",
    "        return 'black'\n",
    "    else:\n",
    "        return 'red'\n",
    "\n",
    "chess = []\n",
    "for i in case1.strip().split('\\n'):\n",
    "    chess.append(list(i))\n",
    "print(chess)\n",
    "print(judge(chess))"
   ]
  },
  {
   "cell_type": "markdown",
   "metadata": {},
   "source": [
    "2. 给m个症状和n个药，药有治疗的症状和产生的副作用，计算吃第i个药后的症状，模拟\n",
    "\n",
    "    这个太简单了，跳过了，因为确实是模拟，上一题还有循环判断，这题纯粹顺序模拟"
   ]
  },
  {
   "cell_type": "markdown",
   "metadata": {},
   "source": [
    "3. 皇后走棋盘，一次性可以向右、向下、向右下走`k`距离但只算一步，其中右下是指(x, y)=>(x+k, y+k)，棋盘有障碍物`*`。求从左上角到右下角的最少步数。\n",
    "   \n",
    "   动态规划，三维数组，第三维存储三个方向的最少步数。"
   ]
  },
  {
   "cell_type": "markdown",
   "metadata": {},
   "source": [
    "先复习一下最朴素的dfs解法，在考场上会超时但是有一定的ac率的。"
   ]
  },
  {
   "cell_type": "code",
   "execution_count": 17,
   "metadata": {},
   "outputs": [
    {
     "name": "stdout",
     "output_type": "stream",
     "text": [
      ". . . .\n",
      "↓ * . *\n",
      "* ↘ * .\n",
      ". ↓ → →\n",
      "\n",
      ". . . .\n",
      "↓ * . *\n",
      "* ↘ * .\n",
      ". . ↘ →\n",
      "\n",
      "3\n"
     ]
    }
   ],
   "source": [
    "case3 = \"\"\"\n",
    "....\n",
    ".*.*\n",
    "*.*.\n",
    "....\n",
    "\"\"\"\n",
    "\n",
    "chess = []\n",
    "for i in case3.strip().split('\\n'):\n",
    "    chess.append(list(i))\n",
    "\n",
    "def minSteps(chess):\n",
    "    moves = [(1, 0, '↓'), (1, 1, '↘'), (0, 1, '→')]\n",
    "    n, m = len(chess), len(chess[0])\n",
    "    paths = []\n",
    "    ans = float('inf')\n",
    "    def valid(x, y, i, j):\n",
    "        return x+i>=0 and x+i<n and y+j>=0 and y+j<m and chess[x+i][y+j]=='.' \n",
    "\n",
    "    def dfs(x, y):\n",
    "        nonlocal ans\n",
    "        if x == n-1 and y == m-1:\n",
    "            cur = 1\n",
    "            for i in range(1, len(paths)):\n",
    "                if paths[i] != paths[i-1]:\n",
    "                    cur += 1\n",
    "            if cur < ans:\n",
    "                for i in chess:print(' '.join(i))\n",
    "                print()\n",
    "                ans = min(ans, cur)\n",
    "        for x_forward, y_forward, direction in moves:\n",
    "            if valid(x, y, x_forward, y_forward):\n",
    "                paths.append((x_forward, y_forward))\n",
    "                chess[x+x_forward][y+y_forward] = direction\n",
    "                dfs(x+x_forward, y+y_forward)\n",
    "                paths.pop(-1)\n",
    "                chess[x+x_forward][y+y_forward] = '.'\n",
    "    dfs(0, 0)\n",
    "    return ans\n",
    "\n",
    "print(minSteps(chess))"
   ]
  },
  {
   "cell_type": "markdown",
   "metadata": {},
   "source": [
    "上面这个例子失败的原因是时间复杂度太高了，实际上可以用空间换时间，使用BFS+动态规划的方式解决：\n",
    "\n",
    "+ dp[i][j]代表棋子到达点`(i, j)`所花费的最小步数\n",
    "+ 对与任意一个出发点`(x, y)`，它在一次BFS遍历中应该能一步到达当前所有横行、竖行和斜行，所以dp[x+k][y] = dp[x][y] + 1，其他两个方向同理，这是本题的关键\n",
    "+ BFS过程中不会设置visited数组记录访问过的节点，因为访问过的节点dp值可能不是最小的还会更新，所以每当dp[i][j]发生了更新，将其重新加入队列，让它更新其他位置，直到最后没有节点有更新，此时队列为空"
   ]
  },
  {
   "cell_type": "code",
   "execution_count": 2,
   "metadata": {},
   "outputs": [
    {
     "name": "stdout",
     "output_type": "stream",
     "text": [
      "3\n"
     ]
    }
   ],
   "source": [
    "case3 = \"\"\"\n",
    "....\n",
    ".*.*\n",
    "*.*.\n",
    "....\n",
    "\"\"\"\n",
    "chess = []\n",
    "for i in case3.strip().split('\\n'):\n",
    "    chess.append(list(i))\n",
    "# for i in chess:print(i)\n",
    "\n",
    "def minSteps_dp(chess):\n",
    "    n, m = len(chess), len(chess[0])\n",
    "    dp = [[float('inf') for _ in range(m)] for _ in range(n)]\n",
    "    def valid(x, y, i, j):\n",
    "        return x+i>=0 and x+i<n and y+j>=0 and y+j<m and chess[x+i][y+j]=='.' \n",
    "    dp[0][0] = 0\n",
    "    q = [(0, 0)]\n",
    "    while q:\n",
    "        x, y = q.pop(0)\n",
    "        k = 1\n",
    "        while valid(x, y, k, 0):\n",
    "            if dp[x+k][y] > dp[x][y]+1:\n",
    "                dp[x+k][y] = dp[x][y]+1\n",
    "                q.append((x+k, y))\n",
    "            k += 1\n",
    "        k = 1\n",
    "        while valid(x, y, 0, k):\n",
    "            if dp[x][y+k] > dp[x][y]+1:\n",
    "                dp[x][y+k] = dp[x][y]+1\n",
    "                q.append((x, y+k))\n",
    "            k += 1\n",
    "        k = 1\n",
    "        while valid(x, y, k, k):\n",
    "            if dp[x+k][y+k] >= dp[x][y]+1:\n",
    "                dp[x+k][y+k] = dp[x][y]+1\n",
    "                q.append((x+k, y+k))\n",
    "            k += 1\n",
    "    return dp[-1][-1]\n",
    "\n",
    "print(minSteps_dp(chess))"
   ]
  },
  {
   "cell_type": "markdown",
   "metadata": {},
   "source": [
    "补充一题 09.10 JD Star：\n",
    "\n",
    "小红定义一个长度为 m 的数组 b 的权值为：\n",
    "\n",
    "$1*b_{1}+2*b_{2}+3*b_{3}+...+m*b_{m}$\n",
    "\n",
    "现在小红有一个长度为n的数组a，她想知道所有子数组的权值和是多少?答案对10^9+7取模\n",
    "\n",
    "输入示例：\n",
    "\n",
    "3\n",
    "\n",
    "1， 2， 3\n",
    "\n",
    "输出：\n",
    "\n",
    "33\n",
    "\n",
    "子数组[1]的权值是1\n",
    "\n",
    "子数组[1,2]的权值是5\n",
    "\n",
    "子数组[1,2,3]的权值是14\n",
    "\n",
    "子数组[2]的权值是2\n",
    "\n",
    "子数组[2,3]的权值是8\n",
    "\n",
    "子数组[3]的权值是3"
   ]
  },
  {
   "cell_type": "code",
   "execution_count": 9,
   "metadata": {},
   "outputs": [
    {
     "name": "stdout",
     "output_type": "stream",
     "text": [
      "[0, 1, 5, 14]\n",
      "['', 1, 5, 14]\n",
      "['', '', 2, 8]\n",
      "['', '', '', 3]\n",
      "33\n"
     ]
    }
   ],
   "source": [
    "def solve(n, A):\n",
    "    dp = [['']*(n+1) for _ in range(n+1)]\n",
    "    for j in range(n+1):\n",
    "        dp[0][j] = sum([(i+1)*A[i] for i in range(j)])\n",
    "    # dp[i][j]表示i,j的权重合\n",
    "    for i in range(1, n+1):\n",
    "        for j in range(i, n+1):\n",
    "            if i == j:\n",
    "                dp[i][j] = A[i-1]\n",
    "            elif i == 1:\n",
    "                dp[i][j] = dp[0][j]\n",
    "            else:\n",
    "                dp[i][j] = dp[i-1][j] - sum(A[i-2:j]) # 这里的区间和计算可以用前缀和优化\n",
    "    for i in dp:print(i)\n",
    "    ans = 0\n",
    "    for i in range(1, n+1):\n",
    "        for j in range(i, n+1):\n",
    "            ans += dp[i][j]\n",
    "    return ans\n",
    "\n",
    "\n",
    "A = [1, 2, 3]\n",
    "n = 3\n",
    "print(solve(3, A))"
   ]
  },
  {
   "cell_type": "code",
   "execution_count": null,
   "metadata": {},
   "outputs": [],
   "source": []
  }
 ],
 "metadata": {
  "kernelspec": {
   "display_name": "py38",
   "language": "python",
   "name": "python3"
  },
  "language_info": {
   "codemirror_mode": {
    "name": "ipython",
    "version": 3
   },
   "file_extension": ".py",
   "mimetype": "text/x-python",
   "name": "python",
   "nbconvert_exporter": "python",
   "pygments_lexer": "ipython3",
   "version": "3.8.12"
  },
  "orig_nbformat": 4
 },
 "nbformat": 4,
 "nbformat_minor": 2
}

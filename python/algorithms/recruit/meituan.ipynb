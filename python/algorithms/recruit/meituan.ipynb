{
 "cells": [
  {
   "cell_type": "markdown",
   "metadata": {},
   "source": [
    "# 美团8.26笔试题\n",
    "## 参考面经：\n",
    "https://www.nowcoder.com/discuss/525041088378175488?sourceSSR=search\n",
    "\n",
    "https://www.nowcoder.com/discuss/524919650157674496?sourceSSR=dynamic\n",
    "\n",
    "\n"
   ]
  },
  {
   "cell_type": "markdown",
   "metadata": {},
   "source": [
    "## 1. 种果树\n",
    "小美在手机上种果树，只要成熟了就可以领到免费的水果了。小美每天可以给果树浇水，果树的成长值增加x。同时也可以给果树施肥，两次施肥至少需要间隔 2 天，果树的成长值增加y。果树成长值达到z 就成熟了。小红想知道，最少需要多少天可以领到免费的水果。"
   ]
  },
  {
   "cell_type": "code",
   "execution_count": 9,
   "metadata": {},
   "outputs": [
    {
     "name": "stdout",
     "output_type": "stream",
     "text": [
      "6\n"
     ]
    }
   ],
   "source": [
    "x, y, z = 1, 2, 10\n",
    "\n",
    "def feed(x, y, z):\n",
    "    days = 0\n",
    "    while z>0:\n",
    "        if days % 3 == 0:\n",
    "            z -= y\n",
    "        z -= x\n",
    "        days += 1\n",
    "    return days\n",
    "\n",
    "print(feed(x, y, z))"
   ]
  },
  {
   "cell_type": "markdown",
   "metadata": {},
   "source": [
    "## 3.数组重排\n",
    "![image](../images/美团-数组重排.jpg)\n",
    "\n",
    "case1:\n",
    "\n",
    "a:\n",
    "-1 -2 3 4 5\n",
    "\n",
    "b:\n",
    "-1 3 4  2 5\n",
    "\n",
    "m = 3, No\n",
    "\n",
    "case2:\n",
    "\n",
    "a:\n",
    "-1 -2 3 4 5\n",
    "\n",
    "b:\n",
    "-1 3 4  2 5\n",
    "\n",
    "m = 6, 将数组 a 重排为 [5,3,-2,4,-1] 时满足条件"
   ]
  },
  {
   "cell_type": "code",
   "execution_count": 16,
   "metadata": {},
   "outputs": [
    {
     "name": "stdout",
     "output_type": "stream",
     "text": [
      "No\n",
      "Yes\n"
     ]
    }
   ],
   "source": [
    "def solve(a, b, m):\n",
    "    a.sort(reverse=True)\n",
    "    b.sort(reverse=False)\n",
    "    for i in range(len(a)):\n",
    "        if a[i]+b[i]>m or a[i]+b[i]<1:\n",
    "            return 'No'\n",
    "    return 'Yes'\n",
    "\n",
    "print(solve([-1,-2,3,4,5], [-1,3,4,2,5], 3))\n",
    "print(solve([-1,-2,3,4,5], [-1,3,4,2,5], 6))"
   ]
  },
  {
   "cell_type": "markdown",
   "metadata": {},
   "source": [
    "## 4.数组重排\n",
    "![image](../images/美团-平均数等于k的连续子数组长度.jpg)\n",
    "\n",
    "思路:\n",
    "* 前缀和 + dp\n",
    "* 输入时记录 arr[i] = input[i] - k，而不是 input[i]，然后计算前缀和 dp\n",
    "* 子序列的和为 dp[j] - dp[i] 要符合条件就需要结果为 0\n",
    "* 所以将问题转化为找到 dp[i] 中相等元素的最长距离\n"
   ]
  },
  {
   "cell_type": "code",
   "execution_count": 22,
   "metadata": {},
   "outputs": [
    {
     "name": "stdout",
     "output_type": "stream",
     "text": [
      "3\n"
     ]
    }
   ],
   "source": [
    "case1 = [1,3,2,4,1]\n",
    "\n",
    "def maxMultiK(arr, k):\n",
    "    n = len(arr)\n",
    "    dp = [0] * (n+1)\n",
    "    for i in range(1, n+1):\n",
    "        dp[i] = dp[i-1] + arr[i-1] - k\n",
    "\n",
    "    pos = {}\n",
    "    ans = 0\n",
    "    for i in range(n+1):\n",
    "        if dp[i] not in pos:\n",
    "            pos[dp[i]] = i\n",
    "        else:\n",
    "            ans = max(ans, i-pos[dp[i]])\n",
    "    return ans\n",
    "\n",
    "print(maxMultiK(case1, 2))"
   ]
  }
 ],
 "metadata": {
  "kernelspec": {
   "display_name": "base",
   "language": "python",
   "name": "python3"
  },
  "language_info": {
   "codemirror_mode": {
    "name": "ipython",
    "version": 3
   },
   "file_extension": ".py",
   "mimetype": "text/x-python",
   "name": "python",
   "nbconvert_exporter": "python",
   "pygments_lexer": "ipython3",
   "version": "3.11.4"
  },
  "orig_nbformat": 4
 },
 "nbformat": 4,
 "nbformat_minor": 2
}

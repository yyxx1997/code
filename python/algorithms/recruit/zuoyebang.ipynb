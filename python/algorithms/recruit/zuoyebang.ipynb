{
 "cells": [
  {
   "cell_type": "markdown",
   "metadata": {},
   "source": [
    "# 作业帮8.28笔试\n",
    "\n",
    "## 参考面经：\n",
    "\n",
    "https://www.nowcoder.com/feed/main/detail/e43e3827f4cc48229cf21bde172ea07d?sourceSSR=search"
   ]
  },
  {
   "cell_type": "markdown",
   "metadata": {},
   "source": [
    "1. 有n个人围成一圈，顺序排号。从第一个开始报数（从1到3报数），凡是报到3的人退出圈子，问最后来留下的是原来第几号的那位。\n",
    "\n",
    "    输入：\n",
    "\n",
    "    8个人围一圈，顺序编号1，2，3，，，7，8\n",
    "\n",
    "    输出：\n",
    "\n",
    "    最后留下来的是原来的7号"
   ]
  },
  {
   "cell_type": "markdown",
   "metadata": {},
   "source": [
    "比较简单，通过模拟就可以在O(n)时间内得到结果，另外下面方法采用O(n)的辅助空间。"
   ]
  },
  {
   "cell_type": "code",
   "execution_count": 1,
   "metadata": {},
   "outputs": [
    {
     "name": "stdout",
     "output_type": "stream",
     "text": [
      "7\n"
     ]
    }
   ],
   "source": [
    "case1 = 8\n",
    "\n",
    "def theLastOne(num):\n",
    "    if num == 1:return 1\n",
    "    out = set() # 记录已经淘汰的人员编号\n",
    "    n = num-1\n",
    "    i = 2\n",
    "    cnt = 1\n",
    "    while n != 0:\n",
    "        if i not in out: # 计数只统计未淘汰的人\n",
    "            cnt += 1\n",
    "        if cnt > 0 and cnt % 3 == 0:\n",
    "            out.add(i)\n",
    "            n -= 1\n",
    "            cnt = 0\n",
    "        i += 1\n",
    "        if i > num:\n",
    "            i %= num\n",
    "    for i in range(1, num):\n",
    "        if i not in out:\n",
    "            return i\n",
    "\n",
    "print(theLastOne(case1))"
   ]
  },
  {
   "cell_type": "markdown",
   "metadata": {},
   "source": [
    "在网上看到另一种做法，但不明白原理和出处，如下：\n",
    "\n",
    "时间复杂度不变，空间复杂度为O(1)，很奇妙"
   ]
  },
  {
   "cell_type": "code",
   "execution_count": 2,
   "metadata": {},
   "outputs": [
    {
     "name": "stdout",
     "output_type": "stream",
     "text": [
      "7\n"
     ]
    }
   ],
   "source": [
    "case1 = 8\n",
    "\n",
    "def theLastOne(num):\n",
    "    f=0\n",
    "    for i in range(2,num + 1):\n",
    "        f=(3 + f) % i\n",
    "    return f+1\n",
    "\n",
    "print(theLastOne(case1))"
   ]
  },
  {
   "cell_type": "markdown",
   "metadata": {},
   "source": [
    "2. 给定一个单向链表的头节点head，节点的值类型是整型，再给定一个整数pivot。实现一个调整链表的函数，将链表调整为左部分都是值小于pivot的节点，中间部分都是值等于pivot的节点，右部分都是值大于pivot的节点。要求:\n",
    "    + 在左、中、右三个部分的内部也做顺序要求，要求每部分里的节点从左到右的顺序与原链表中节点的先后次序一致\n",
    "    + 如果链表长度为N，要求时间复杂度O(N)，空间复杂度O(1)。\n",
    "\n",
    "    输入：\n",
    "\n",
    "    链表9->0->4->5->1，pivot=3\n",
    "\n",
    "    输出：\n",
    "\n",
    "    调整后是0->1->9->4->5\n",
    "\n",
    "    "
   ]
  },
  {
   "cell_type": "markdown",
   "metadata": {},
   "source": [
    "其实很简单，用三个指针分别代表大于、等于和小于pivot值得节点，一次遍历就可以将他们分离，最后按顺序重组即可。"
   ]
  },
  {
   "cell_type": "code",
   "execution_count": 3,
   "metadata": {},
   "outputs": [
    {
     "name": "stdout",
     "output_type": "stream",
     "text": [
      "9->0->4->3->5->1\n",
      "0->1->3->9->4->5\n"
     ]
    }
   ],
   "source": [
    "case1 = [9, 0, 4, 3, 5, 1]\n",
    "pivot = 3\n",
    "\n",
    "class node:\n",
    "\n",
    "    def __init__(self, val=None) -> None:\n",
    "        self.val = val\n",
    "        self.next = None\n",
    "\n",
    "def buildList(arr):\n",
    "    head = node()\n",
    "    tmp = head\n",
    "    for i in arr:\n",
    "        tmp.next = node(i)\n",
    "        tmp = tmp.next\n",
    "    return head\n",
    "\n",
    "def printList(head):\n",
    "    p = head.next\n",
    "    res = []\n",
    "    while p:\n",
    "        res.append(str(p.val))\n",
    "        p = p.next\n",
    "    return \"->\".join(res)\n",
    "\n",
    "head = buildList(case1)\n",
    "print(printList(head))\n",
    "\n",
    "\n",
    "def resort(head, pivot):\n",
    "    p = head.next\n",
    "    pre, mid, post = node(), node(), node()\n",
    "    i, j, k = pre, mid, post\n",
    "    while p:\n",
    "        tmp = p.next\n",
    "        if p.val < pivot:\n",
    "            i.next = p\n",
    "            i = i.next\n",
    "            i.next = None\n",
    "        elif p.val > pivot:\n",
    "            k.next = p\n",
    "            k = k.next\n",
    "            k.next = None\n",
    "        else:\n",
    "            j.next = p\n",
    "            j = j.next\n",
    "            j.next = None\n",
    "        p = tmp\n",
    "    \n",
    "    p = head\n",
    "    if pre.next:\n",
    "        p.next = pre.next\n",
    "        p = i\n",
    "    if mid.next:\n",
    "        p.next = mid.next\n",
    "        p = j\n",
    "    if post.next:\n",
    "        p.next = post.next\n",
    "        p = k\n",
    "    return head\n",
    "\n",
    "print(printList(resort(head, pivot)))"
   ]
  }
 ],
 "metadata": {
  "kernelspec": {
   "display_name": "py38",
   "language": "python",
   "name": "python3"
  },
  "language_info": {
   "codemirror_mode": {
    "name": "ipython",
    "version": 3
   },
   "file_extension": ".py",
   "mimetype": "text/x-python",
   "name": "python",
   "nbconvert_exporter": "python",
   "pygments_lexer": "ipython3",
   "version": "3.8.12"
  },
  "orig_nbformat": 4
 },
 "nbformat": 4,
 "nbformat_minor": 2
}

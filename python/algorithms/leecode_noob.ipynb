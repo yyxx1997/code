{
 "cells": [
  {
   "attachments": {},
   "cell_type": "markdown",
   "metadata": {},
   "source": [
    "# 1480. 一维数组的动态和 \n",
    "\n",
    "https://leetcode.cn/problems/running-sum-of-1d-array/\n",
    "\n",
    "给你一个数组 nums 。数组「动态和」的计算公式为：runningSum[i] = sum(nums[0]…nums[i]) 。\n",
    "请返回 nums 的动态和。\n",
    "\n",
    "\n",
    "示例 1：\n",
    "\n",
    "输入：nums = [1,2,3,4]\n",
    "输出：[1,3,6,10]\n",
    "解释：动态和计算过程为 [1, 1+2, 1+2+3, 1+2+3+4] 。\n",
    "示例 2：\n",
    "\n",
    "输入：nums = [1,1,1,1,1]\n",
    "输出：[1,2,3,4,5]\n",
    "解释：动态和计算过程为 [1, 1+1, 1+1+1, 1+1+1+1, 1+1+1+1+1] 。\n",
    "示例 3：\n",
    "\n",
    "输入：nums = [3,1,2,10,1]\n",
    "输出：[3,4,6,16,17]\n",
    " \n",
    "\n",
    "提示：\n",
    "\n",
    "1 <= nums.length <= 1000\n",
    "-10^6 <= nums[i] <= 10^6\n"
   ]
  },
  {
   "cell_type": "code",
   "execution_count": 3,
   "metadata": {},
   "outputs": [
    {
     "name": "stdout",
     "output_type": "stream",
     "text": [
      "[1, 2, 3, 4, 5]\n"
     ]
    }
   ],
   "source": [
    "def runningSum(nums):\n",
    "    \"\"\"\n",
    "    :type nums: List[int]\n",
    "    :rtype: List[int]\n",
    "    \"\"\"\n",
    "    temp = nums[0]\n",
    "    for i in range(1, len(nums)):\n",
    "        temp += nums[i]\n",
    "        nums[i] = temp\n",
    "    return nums\n",
    "\n",
    "nums = [1,1,1,1,1]\n",
    "print(runningSum(nums))"
   ]
  },
  {
   "cell_type": "code",
   "execution_count": 4,
   "metadata": {},
   "outputs": [
    {
     "name": "stdout",
     "output_type": "stream",
     "text": [
      "[1, 2, 3, 4, 5]\n"
     ]
    }
   ],
   "source": [
    "def runningSum(nums):\n",
    "    \"\"\"\n",
    "    :type nums: List[int]\n",
    "    :rtype: List[int]\n",
    "    \"\"\"\n",
    "    for i in range(1, len(nums)):\n",
    "        nums[i] += nums[i-1]\n",
    "    return nums\n",
    "\n",
    "nums = [1,1,1,1,1]\n",
    "print(runningSum(nums))"
   ]
  },
  {
   "cell_type": "markdown",
   "metadata": {},
   "source": [
    "# 1342. 将数字变成 0 的操作次数\n",
    "给你一个非负整数 num ，请你返回将它变成 0 所需要的步数。 如果当前数字是偶数，你需要把它除以 2 ；否则，减去 1 。\n",
    "\n",
    "https://leetcode.cn/problems/number-of-steps-to-reduce-a-number-to-zero/\n",
    "\n",
    "示例 1：\n",
    "\n",
    "输入：num = 14\n",
    "输出：6\n",
    "解释：\n",
    "步骤 1) 14 是偶数，除以 2 得到 7 。\n",
    "步骤 2） 7 是奇数，减 1 得到 6 。\n",
    "步骤 3） 6 是偶数，除以 2 得到 3 。\n",
    "步骤 4） 3 是奇数，减 1 得到 2 。\n",
    "步骤 5） 2 是偶数，除以 2 得到 1 。\n",
    "步骤 6） 1 是奇数，减 1 得到 0 。\n",
    "示例 2：\n",
    "\n",
    "输入：num = 8\n",
    "输出：4\n",
    "解释：\n",
    "步骤 1） 8 是偶数，除以 2 得到 4 。\n",
    "步骤 2） 4 是偶数，除以 2 得到 2 。\n",
    "步骤 3） 2 是偶数，除以 2 得到 1 。\n",
    "步骤 4） 1 是奇数，减 1 得到 0 。\n",
    "示例 3：\n",
    "\n",
    "输入：num = 123\n",
    "输出：12\n",
    " \n",
    "\n",
    "提示：\n",
    "\n",
    "0 <= num <= 10^6"
   ]
  },
  {
   "cell_type": "code",
   "execution_count": 5,
   "metadata": {},
   "outputs": [
    {
     "name": "stdout",
     "output_type": "stream",
     "text": [
      "12\n",
      "0\n",
      "6\n",
      "4\n",
      "31\n"
     ]
    }
   ],
   "source": [
    "def numberOfSteps(num):\n",
    "    \"\"\"\n",
    "    :type num: int\n",
    "    :rtype: int\n",
    "    \"\"\"\n",
    "    count = 0\n",
    "    while num:\n",
    "        if num % 2 == 0:\n",
    "            num /= 2\n",
    "        else:\n",
    "            num -= 1\n",
    "        count += 1\n",
    "    return count\n",
    "\n",
    "print(numberOfSteps(123))\n",
    "print(numberOfSteps(0))\n",
    "print(numberOfSteps(14))\n",
    "print(numberOfSteps(8))\n",
    "print(numberOfSteps(10e6))\n"
   ]
  },
  {
   "attachments": {},
   "cell_type": "markdown",
   "metadata": {},
   "source": [
    "## 位运算 最优解"
   ]
  },
  {
   "cell_type": "code",
   "execution_count": 6,
   "metadata": {},
   "outputs": [
    {
     "name": "stdout",
     "output_type": "stream",
     "text": [
      "12\n",
      "0\n",
      "6\n",
      "4\n"
     ]
    }
   ],
   "source": [
    "def numberOfSteps(num):\n",
    "    \"\"\"\n",
    "    :type num: int\n",
    "    :rtype: int\n",
    "    \"\"\"\n",
    "    count = 0\n",
    "    while num:\n",
    "        if num & 1:\n",
    "            num -= 1\n",
    "        else:\n",
    "            num >>= 1\n",
    "        count += 1\n",
    "    return count\n",
    "\n",
    "print(numberOfSteps(123))\n",
    "print(numberOfSteps(0))\n",
    "print(numberOfSteps(14))\n",
    "print(numberOfSteps(8))\n"
   ]
  },
  {
   "attachments": {},
   "cell_type": "markdown",
   "metadata": {},
   "source": [
    "# 1672. 最富有客户的资产总量\n",
    "给你一个 m x n 的整数网格 accounts ，其中 accounts[i][j] 是第 i​​​​​​​​​​​​ 位客户在第 j 家银行托管的资产数量。返回最富有客户所拥有的 资产总量 。\n",
    "\n",
    "客户的 资产总量 就是他们在各家银行托管的资产数量之和。最富有客户就是 资产总量 最大的客户。\n",
    "\n",
    " https://leetcode.cn/problems/richest-customer-wealth/\n",
    "\n",
    "示例 1：\n",
    "\n",
    "输入：accounts = [[1,2,3],[3,2,1]]\n",
    "输出：6\n",
    "解释：\n",
    "第 1 位客户的资产总量 = 1 + 2 + 3 = 6\n",
    "第 2 位客户的资产总量 = 3 + 2 + 1 = 6\n",
    "两位客户都是最富有的，资产总量都是 6 ，所以返回 6 。\n",
    "示例 2：\n",
    "\n",
    "输入：accounts = [[1,5],[7,3],[3,5]]\n",
    "输出：10\n",
    "解释：\n",
    "第 1 位客户的资产总量 = 6\n",
    "第 2 位客户的资产总量 = 10 \n",
    "第 3 位客户的资产总量 = 8\n",
    "第 2 位客户是最富有的，资产总量是 10\n",
    "示例 3：\n",
    "\n",
    "输入：accounts = [[2,8,7],[7,1,3],[1,9,5]]\n",
    "输出：17\n",
    " \n",
    "\n",
    "提示：\n",
    "\n",
    "m == accounts.length\n",
    "\n",
    "n == accounts[i].length\n",
    "\n",
    "1 <= m, n <= 50\n",
    "\n",
    "1 <= accounts[i][j] <= 100"
   ]
  },
  {
   "cell_type": "code",
   "execution_count": 7,
   "metadata": {},
   "outputs": [
    {
     "name": "stdout",
     "output_type": "stream",
     "text": [
      "17\n"
     ]
    }
   ],
   "source": [
    "def maximumWealth(accounts):\n",
    "    \"\"\"\n",
    "    :type accounts: List[List[int]]\n",
    "    :rtype: int\n",
    "    \"\"\"\n",
    "    max_total = 0\n",
    "    for i in range(accounts.__len__()):\n",
    "        total = sum(accounts[i])\n",
    "        max_total = max(total, max_total)\n",
    "    return max_total\n",
    "\n",
    "accounts = [[2,8,7],[7,1,3],[1,9,5]]\n",
    "print(maximumWealth(accounts))"
   ]
  },
  {
   "attachments": {},
   "cell_type": "markdown",
   "metadata": {},
   "source": [
    "# 412. Fizz Buzz\n",
    "https://leetcode.cn/problems/fizz-buzz/\n",
    "\n",
    "给你一个整数 n ，找出从 1 到 n 各个整数的 Fizz Buzz 表示，并用字符串数组 answer（下标从 1 开始）返回结果，其中：\n",
    "\n",
    "answer[i] == \"FizzBuzz\" 如果 i 同时是 3 和 5 的倍数。\n",
    "answer[i] == \"Fizz\" 如果 i 是 3 的倍数。\n",
    "answer[i] == \"Buzz\" 如果 i 是 5 的倍数。\n",
    "answer[i] == i （以字符串形式）如果上述条件全不满足。\n",
    " \n",
    "\n",
    "示例 1：\n",
    "\n",
    "输入：n = 3\n",
    "输出：[\"1\",\"2\",\"Fizz\"]\n",
    "示例 2：\n",
    "\n",
    "输入：n = 5\n",
    "输出：[\"1\",\"2\",\"Fizz\",\"4\",\"Buzz\"]\n",
    "示例 3：\n",
    "\n",
    "输入：n = 15\n",
    "输出：[\"1\",\"2\",\"Fizz\",\"4\",\"Buzz\",\"Fizz\",\"7\",\"8\",\"Fizz\",\"Buzz\",\"11\",\"Fizz\",\"13\",\"14\",\"FizzBuzz\"]\n",
    " \n",
    "\n",
    "提示：\n",
    "\n",
    "1 <= n <= 104"
   ]
  },
  {
   "cell_type": "code",
   "execution_count": 8,
   "metadata": {},
   "outputs": [
    {
     "data": {
      "text/plain": [
       "['1',\n",
       " '2',\n",
       " 'Fizz',\n",
       " '4',\n",
       " 'Buzz',\n",
       " 'Fizz',\n",
       " '7',\n",
       " '8',\n",
       " 'Fizz',\n",
       " 'Buzz',\n",
       " '11',\n",
       " 'Fizz',\n",
       " '13',\n",
       " '14',\n",
       " 'FizzBuzz']"
      ]
     },
     "execution_count": 8,
     "metadata": {},
     "output_type": "execute_result"
    }
   ],
   "source": [
    "def fizzBuzz(n):\n",
    "    \"\"\"\n",
    "    :type n: int\n",
    "    :rtype: List[str]\n",
    "    \"\"\"\n",
    "    answer = []\n",
    "    for i in range(1,n+1):\n",
    "        prefix = \"\"\n",
    "        if i % 3 == 0:\n",
    "            prefix += \"Fizz\"\n",
    "        if i % 5 == 0:\n",
    "            prefix += \"Buzz\"\n",
    "        if prefix:\n",
    "            answer.append(prefix)\n",
    "        else:\n",
    "            answer.append(str(i))\n",
    "    return answer\n",
    "\n",
    "fizzBuzz(15)"
   ]
  },
  {
   "attachments": {},
   "cell_type": "markdown",
   "metadata": {},
   "source": [
    "第二种做法效率更高，因为 == 的操作符会更快"
   ]
  },
  {
   "cell_type": "code",
   "execution_count": 9,
   "metadata": {},
   "outputs": [
    {
     "data": {
      "text/plain": [
       "['1',\n",
       " '2',\n",
       " 'Fizz',\n",
       " '4',\n",
       " 'Buzz',\n",
       " 'Fizz',\n",
       " '7',\n",
       " '8',\n",
       " 'Fizz',\n",
       " 'Buzz',\n",
       " '11',\n",
       " 'Fizz',\n",
       " '13',\n",
       " '14',\n",
       " 'FizzBuzz']"
      ]
     },
     "execution_count": 9,
     "metadata": {},
     "output_type": "execute_result"
    }
   ],
   "source": [
    "def fizzBuzz(n):\n",
    "    \"\"\"\n",
    "    :type n: int\n",
    "    :rtype: List[str]\n",
    "    \"\"\"\n",
    "    answer = []\n",
    "    for i in range(1,n+1):\n",
    "        prefix = \"\"\n",
    "        if i % 3 == 0:\n",
    "            prefix += \"Fizz\"\n",
    "        if i % 5 == 0:\n",
    "            prefix += \"Buzz\"\n",
    "        if prefix == \"\":\n",
    "            prefix = str(i)\n",
    "        answer.append(prefix)\n",
    "    return answer\n",
    "\n",
    "fizzBuzz(15)"
   ]
  },
  {
   "attachments": {},
   "cell_type": "markdown",
   "metadata": {},
   "source": [
    "# 876. 链表的中间结点\n",
    "\n",
    "https://leetcode.cn/problems/middle-of-the-linked-list/\n",
    "\n",
    "给你单链表的头结点 head ，请你找出并返回链表的中间结点。\n",
    "\n",
    "如果有两个中间结点，则返回第二个中间结点。\n",
    "\n",
    " \n",
    "\n",
    "示例 1：\n",
    "\n",
    "\n",
    "输入：head = [1,2,3,4,5]\n",
    "输出：[3,4,5]\n",
    "解释：链表只有一个中间结点，值为 3 。\n",
    "示例 2：\n",
    "\n",
    "\n",
    "输入：head = [1,2,3,4,5,6]\n",
    "输出：[4,5,6]\n",
    "解释：该链表有两个中间结点，值分别为 3 和 4 ，返回第二个结点。\n",
    " \n",
    "\n",
    "提示：\n",
    "\n",
    "链表的结点数范围是 [1, 100]\n",
    "1 <= Node.val <= 100"
   ]
  },
  {
   "cell_type": "code",
   "execution_count": 10,
   "metadata": {},
   "outputs": [
    {
     "ename": "NameError",
     "evalue": "name 'self' is not defined",
     "output_type": "error",
     "traceback": [
      "\u001b[1;31m---------------------------------------------------------------------------\u001b[0m",
      "\u001b[1;31mNameError\u001b[0m                                 Traceback (most recent call last)",
      "\u001b[1;32me:\\code\\python\\algorithms\\leecode_noob.ipynb Cell 15\u001b[0m in \u001b[0;36m<cell line: 21>\u001b[1;34m()\u001b[0m\n\u001b[0;32m     <a href='vscode-notebook-cell:/e%3A/code/python/algorithms/leecode_noob.ipynb#X20sZmlsZQ%3D%3D?line=17'>18</a>\u001b[0m         p \u001b[39m=\u001b[39m p\u001b[39m.\u001b[39mnext\n\u001b[0;32m     <a href='vscode-notebook-cell:/e%3A/code/python/algorithms/leecode_noob.ipynb#X20sZmlsZQ%3D%3D?line=18'>19</a>\u001b[0m     \u001b[39mreturn\u001b[39;00m result[\u001b[39mlen\u001b[39m(result)\u001b[39m/\u001b[39m\u001b[39m/\u001b[39m\u001b[39m2\u001b[39m]\n\u001b[1;32m---> <a href='vscode-notebook-cell:/e%3A/code/python/algorithms/leecode_noob.ipynb#X20sZmlsZQ%3D%3D?line=20'>21</a>\u001b[0m ln1_head \u001b[39m=\u001b[39m ListNode(\u001b[39m1\u001b[39;49m)\n\u001b[0;32m     <a href='vscode-notebook-cell:/e%3A/code/python/algorithms/leecode_noob.ipynb#X20sZmlsZQ%3D%3D?line=21'>22</a>\u001b[0m ln1_tail \u001b[39m=\u001b[39m ln1_head\n\u001b[0;32m     <a href='vscode-notebook-cell:/e%3A/code/python/algorithms/leecode_noob.ipynb#X20sZmlsZQ%3D%3D?line=22'>23</a>\u001b[0m \u001b[39mfor\u001b[39;00m i \u001b[39min\u001b[39;00m [\u001b[39m2\u001b[39m,\u001b[39m3\u001b[39m,\u001b[39m4\u001b[39m,\u001b[39m5\u001b[39m]:\n",
      "\u001b[1;32me:\\code\\python\\algorithms\\leecode_noob.ipynb Cell 15\u001b[0m in \u001b[0;36mListNode.__init__\u001b[1;34m(val, next)\u001b[0m\n\u001b[0;32m      <a href='vscode-notebook-cell:/e%3A/code/python/algorithms/leecode_noob.ipynb#X20sZmlsZQ%3D%3D?line=1'>2</a>\u001b[0m \u001b[39mdef\u001b[39;00m \u001b[39m__init__\u001b[39m(val\u001b[39m=\u001b[39m\u001b[39m0\u001b[39m, \u001b[39mnext\u001b[39m\u001b[39m=\u001b[39m\u001b[39mNone\u001b[39;00m):\n\u001b[1;32m----> <a href='vscode-notebook-cell:/e%3A/code/python/algorithms/leecode_noob.ipynb#X20sZmlsZQ%3D%3D?line=2'>3</a>\u001b[0m     \u001b[39mself\u001b[39;49m\u001b[39m.\u001b[39mval \u001b[39m=\u001b[39m val\n\u001b[0;32m      <a href='vscode-notebook-cell:/e%3A/code/python/algorithms/leecode_noob.ipynb#X20sZmlsZQ%3D%3D?line=3'>4</a>\u001b[0m     \u001b[39mnext\u001b[39m \u001b[39m=\u001b[39m \u001b[39mnext\u001b[39m\n",
      "\u001b[1;31mNameError\u001b[0m: name 'self' is not defined"
     ]
    }
   ],
   "source": [
    "class ListNode(object):\n",
    "    def __init__(val=0, next=None):\n",
    "        self.val = val\n",
    "        next = next\n",
    "    \n",
    "    def __str__(self):\n",
    "        return str(val)\n",
    "\n",
    "def middleNode(head):\n",
    "    \"\"\"\n",
    "    :type head: ListNode\n",
    "    :rtype: ListNode\n",
    "    \"\"\"\n",
    "    result = []\n",
    "    p = head\n",
    "    while p:\n",
    "        result.append(p)\n",
    "        p = p.next\n",
    "    return result[len(result)//2]\n",
    "\n",
    "ln1_head = ListNode(1)\n",
    "ln1_tail = ln1_head\n",
    "for i in [2,3,4,5]:\n",
    "    ln1_tail.next = ListNode(i)\n",
    "    ln1_tail = ln1_tail.next\n",
    "\n",
    "\n",
    "\n",
    "\n",
    "ln2_head = ListNode(1)\n",
    "ln2_tail = ln2_head\n",
    "for i in [2,3,4,5,6]:\n",
    "    ln2_tail.next = ListNode(i)\n",
    "    ln2_tail = ln2_tail.next\n",
    "\n",
    "print(middleNode(ln1_head))\n",
    "print(middleNode(ln2_head))\n"
   ]
  },
  {
   "attachments": {},
   "cell_type": "markdown",
   "metadata": {},
   "source": [
    "利用快慢指针更高效"
   ]
  },
  {
   "cell_type": "code",
   "execution_count": null,
   "metadata": {},
   "outputs": [
    {
     "name": "stdout",
     "output_type": "stream",
     "text": [
      "3\n",
      "4\n"
     ]
    }
   ],
   "source": [
    "def middleNode_fsponinter(head):\n",
    "    \"\"\"\n",
    "    :type head: ListNode\n",
    "    :rtype: ListNode\n",
    "    \"\"\"\n",
    "    fast=slow=head\n",
    "    while fast and fast.next:\n",
    "        slow = slow.next\n",
    "        fast = fast.next.next\n",
    "    return slow\n",
    "\n",
    "print(middleNode(ln1_head))\n",
    "print(middleNode(ln2_head))"
   ]
  },
  {
   "attachments": {},
   "cell_type": "markdown",
   "metadata": {},
   "source": [
    "# 383. 赎金信\n",
    "https://leetcode.cn/problems/ransom-note/\n",
    "\n",
    "给你两个字符串：ransomNote 和 magazine ，判断 ransomNote 能不能由 magazine 里面的字符构成。\n",
    "\n",
    "如果可以，返回 true ；否则返回 false 。\n",
    "\n",
    "magazine 中的每个字符只能在 ransomNote 中使用一次。\n",
    "\n",
    " \n",
    "\n",
    "示例 1：\n",
    "\n",
    "输入：ransomNote = \"a\", magazine = \"b\"\n",
    "输出：false\n",
    "示例 2：\n",
    "\n",
    "输入：ransomNote = \"aa\", magazine = \"ab\"\n",
    "输出：false\n",
    "示例 3：\n",
    "\n",
    "输入：ransomNote = \"aa\", magazine = \"aab\"\n",
    "输出：true\n",
    " \n",
    "\n",
    "提示：\n",
    "\n",
    "1 <= ransomNote.length, magazine.length <= 105\n",
    "ransomNote 和 magazine 由小写英文字母组成"
   ]
  },
  {
   "cell_type": "code",
   "execution_count": null,
   "metadata": {},
   "outputs": [
    {
     "data": {
      "text/plain": [
       "True"
      ]
     },
     "execution_count": 45,
     "metadata": {},
     "output_type": "execute_result"
    }
   ],
   "source": [
    "def canConstruct(ransomNote, magazine):\n",
    "    \"\"\"\n",
    "    :type ransomNote: str\n",
    "    :type magazine: str\n",
    "    :rtype: bool\n",
    "    \"\"\"\n",
    "    if len(ransomNote) > len(magazine):\n",
    "            return False\n",
    "    statis={}\n",
    "    for word in magazine:\n",
    "        statis[word] = statis.get(word, 0) + 1\n",
    "\n",
    "    for word in ransomNote:\n",
    "        if word not in statis.keys():\n",
    "            return False\n",
    "        elif statis.get(word) < 1:\n",
    "            return False\n",
    "        statis[word] -= 1\n",
    "    return True\n",
    "\n",
    "canConstruct(ransomNote = \"aa\", magazine = \"aab\")"
   ]
  },
  {
   "cell_type": "code",
   "execution_count": null,
   "metadata": {},
   "outputs": [
    {
     "data": {
      "text/plain": [
       "False"
      ]
     },
     "execution_count": 46,
     "metadata": {},
     "output_type": "execute_result"
    }
   ],
   "source": [
    "canConstruct(ransomNote = \"aa\", magazine = \"ab\")"
   ]
  },
  {
   "cell_type": "code",
   "execution_count": null,
   "metadata": {},
   "outputs": [
    {
     "data": {
      "text/plain": [
       "False"
      ]
     },
     "execution_count": 47,
     "metadata": {},
     "output_type": "execute_result"
    }
   ],
   "source": [
    "canConstruct(ransomNote = \"a\", magazine = \"b\")"
   ]
  },
  {
   "attachments": {},
   "cell_type": "markdown",
   "metadata": {},
   "source": [
    "# 532. 数组中的 k-diff 数对\n",
    "https://leetcode.cn/problems/k-diff-pairs-in-an-array/\n",
    "\n",
    "给你一个整数数组 nums 和一个整数 k，请你在数组中找出 不同的 k-diff 数对，并返回不同的 k-diff 数对 的数目。\n",
    "\n",
    "k-diff 数对定义为一个整数对 (nums[i], nums[j]) ，并满足下述全部条件：\n",
    "\n",
    "0 <= i, j < nums.length\n",
    "i != j\n",
    "nums[i] - nums[j] == k\n",
    "注意，|val| 表示 val 的绝对值。\n",
    "\n",
    " \n",
    "\n",
    "示例 1：\n",
    "\n",
    "输入：nums = [3, 1, 4, 1, 5], k = 2\n",
    "输出：2\n",
    "解释：数组中有两个 2-diff 数对, (1, 3) 和 (3, 5)。\n",
    "尽管数组中有两个 1 ，但我们只应返回不同的数对的数量。\n",
    "示例 2：\n",
    "\n",
    "输入：nums = [1, 2, 3, 4, 5], k = 1\n",
    "输出：4\n",
    "解释：数组中有四个 1-diff 数对, (1, 2), (2, 3), (3, 4) 和 (4, 5) 。\n",
    "示例 3：\n",
    "\n",
    "输入：nums = [1, 3, 1, 5, 4], k = 0\n",
    "输出：1\n",
    "解释：数组中只有一个 0-diff 数对，(1, 1) 。"
   ]
  },
  {
   "cell_type": "code",
   "execution_count": null,
   "metadata": {},
   "outputs": [
    {
     "data": {
      "text/plain": [
       "2"
      ]
     },
     "execution_count": 1,
     "metadata": {},
     "output_type": "execute_result"
    }
   ],
   "source": [
    "\n",
    "def findPairs(nums, k) -> int:\n",
    "    nums.sort()\n",
    "    n, y, res = len(nums), 0, 0\n",
    "    for x in range(n):\n",
    "        if x == 0 or nums[x] != nums[x - 1]:\n",
    "            while y < n and (nums[y] < nums[x] + k or y <= x):\n",
    "                y += 1\n",
    "            if y < n and nums[y] == nums[x] + k:\n",
    "                res += 1\n",
    "    return res\n",
    "\n",
    "nums = [3, 1, 4, 1, 5]\n",
    "k = 2\n",
    "findPairs(nums, k)"
   ]
  },
  {
   "cell_type": "code",
   "execution_count": 1,
   "metadata": {},
   "outputs": [
    {
     "data": {
      "text/plain": [
       "[0, 0]"
      ]
     },
     "execution_count": 1,
     "metadata": {},
     "output_type": "execute_result"
    }
   ],
   "source": [
    "def binarySearch(nums, target):\n",
    "    i, j = 0, len(nums)-1\n",
    "    while i <= j:\n",
    "        mid = (i + j) // 2\n",
    "        if nums[mid] > target:\n",
    "            j = mid - 1\n",
    "        elif nums[mid] < target:\n",
    "            i = mid + 1\n",
    "        else:\n",
    "            return mid\n",
    "    return i\n",
    "\n",
    "def searchRange(nums, target: int):\n",
    "    cell, floor = target+0.5, target\n",
    "    left = binarySearch(nums, floor)\n",
    "    right = binarySearch(nums, cell) - 1\n",
    "    if left > right:\n",
    "        return [-1, -1]\n",
    "    else:\n",
    "        return [left, right]\n",
    "    \n",
    "searchRange([1], 1)"
   ]
  },
  {
   "attachments": {},
   "cell_type": "markdown",
   "metadata": {},
   "source": [
    "# 快速排序算法"
   ]
  },
  {
   "cell_type": "code",
   "execution_count": 3,
   "metadata": {},
   "outputs": [
    {
     "name": "stdout",
     "output_type": "stream",
     "text": [
      "[1, 1, 2, 3, 4, 5, 6, 7, 8]\n"
     ]
    }
   ],
   "source": [
    "def quick_sort(nums, l, r):\n",
    "    if l >= r: return\n",
    "    i, j = l, r\n",
    "    pivot = nums[l]\n",
    "    while i < j:\n",
    "        while i < j and nums[j] >= pivot: j -= 1\n",
    "        while i < j and nums[i] <= pivot: i += 1\n",
    "        nums[i], nums[j] = nums[j], nums[i]\n",
    "    nums[l], nums[i] = nums[i], nums[l]\n",
    "    quick_sort(nums, l, i-1)\n",
    "    quick_sort(nums, i+1, r)\n",
    "\n",
    "nums = [4,5,1,6,2,7,3,8,1]\n",
    "quick_sort(nums, 0, len(nums)-1)\n",
    "print(nums)"
   ]
  },
  {
   "cell_type": "code",
   "execution_count": null,
   "metadata": {},
   "outputs": [
    {
     "name": "stdout",
     "output_type": "stream",
     "text": [
      "[2, 3, 1, 4, 5, 6]\n"
     ]
    }
   ],
   "source": [
    "def quick_sort_topk(nums, l, r, k):\n",
    "    if l >= r: return\n",
    "    i, j = l, r\n",
    "    pivot = nums[l]\n",
    "    while i < j:\n",
    "        while i < j and nums[j] >= pivot: j -= 1\n",
    "        while i < j and nums[i] <= pivot: i += 1\n",
    "        nums[i], nums[j] = nums[j], nums[i]\n",
    "    nums[l], nums[i] = nums[i], nums[l]\n",
    "    if i == k:\n",
    "        return\n",
    "    elif i > k:\n",
    "        quick_sort_topk(nums, l, i-1, k)\n",
    "    else:\n",
    "        quick_sort_topk(nums, i+1, r, k)\n",
    "\n",
    "nums = [4,5,1,6,2,7,3,8]\n",
    "k = 6\n",
    "quick_sort_topk(nums, 0, len(nums)-1, k)\n",
    "print(nums[:k])"
   ]
  },
  {
   "attachments": {},
   "cell_type": "markdown",
   "metadata": {},
   "source": [
    "# 二分插入"
   ]
  },
  {
   "cell_type": "code",
   "execution_count": null,
   "metadata": {},
   "outputs": [
    {
     "name": "stdout",
     "output_type": "stream",
     "text": [
      "[0, 1, 2, 3, 5, 6, 6, 10]\n",
      "[0, 1, 2, 3, 5, 6, 6, 6, 10]\n"
     ]
    }
   ],
   "source": [
    "def binInsert(nums, val):\n",
    "    i, j = 0, len(nums)\n",
    "    while i < j:\n",
    "        m = (i+j)//2\n",
    "        if nums[m] >= val:\n",
    "            j = m\n",
    "        else:\n",
    "            i = m + 1\n",
    "    nums.insert(i, val)\n",
    "    return nums\n",
    "\n",
    "a = [0, 2, 3, 5, 6, 6, 10]\n",
    "\n",
    "print(binInsert(a, 1))\n",
    "print(binInsert(a, 6))\n"
   ]
  },
  {
   "cell_type": "code",
   "execution_count": null,
   "metadata": {},
   "outputs": [
    {
     "name": "stdout",
     "output_type": "stream",
     "text": [
      "[0, 1, 10, 2, 3, 5, 6, 6, 6, 10]\n"
     ]
    }
   ],
   "source": [
    "a.insert(2, 10)\n",
    "print(a)"
   ]
  },
  {
   "attachments": {},
   "cell_type": "markdown",
   "metadata": {},
   "source": [
    "# 二叉树操作"
   ]
  },
  {
   "cell_type": "code",
   "execution_count": 3,
   "metadata": {},
   "outputs": [
    {
     "name": "stdout",
     "output_type": "stream",
     "text": [
      "_ _ _ _ _ _ _ 3 _ _ _ _ _ _ _\n",
      "_ _ _ 5 _ _ _ _ _ _ _ 1 _ _ _\n",
      "_ 6 _ _ _ 2 _ _ _ 0 _ _ _ 8 _\n",
      "_ _ _ _ 7 _ 4 _ _ _ _ _ _ _ _\n",
      "\n",
      "_ _ _ 3 _ _ _\n",
      "_ 9 _ _ _ 20 _\n",
      "_ _ _ _ 15 _ 7\n",
      "\n"
     ]
    }
   ],
   "source": [
    "# Definition for a binary tree node.\n",
    "class TreeNode:\n",
    "    def __init__(self, val=0, left=None, right=None):\n",
    "        self.val = val\n",
    "        self.left = left\n",
    "        self.right = right\n",
    "\n",
    "    def __str__(self) -> str:\n",
    "        return self.printTree()\n",
    "\n",
    "    @staticmethod\n",
    "    def getHeight(node):\n",
    "        if not node: return 0\n",
    "        return 1 + max(TreeNode.getHeight(node.left), TreeNode.getHeight(node.right))\n",
    "\n",
    "    def printTree(self) -> None:\n",
    "        height = TreeNode.getHeight(self)\n",
    "        width = 2 ** height - 1\n",
    "        res = [[\"_\" for _ in range(width)] for _ in range(height)]\n",
    "        def fillTree(node, level, start, end, res):\n",
    "            if not self:\n",
    "                return\n",
    "            mid = (start + end) // 2\n",
    "            res[level][mid] = str(node.val)\n",
    "            if node.left: fillTree(node.left, level + 1, start, mid - 1, res)\n",
    "            if node.right: fillTree(node.right, level + 1, mid + 1, end, res)\n",
    "        fillTree(self, 0, 0, width - 1, res)\n",
    "        result = \"\"\n",
    "        for row in res:\n",
    "            result += \" \".join(row) + \"\\n\"\n",
    "        return result\n",
    "\n",
    "\n",
    "def buildTree(preorder, inorder):\n",
    "    if not inorder:\n",
    "        return None\n",
    "    root_val = preorder.pop(0)\n",
    "    root_index = inorder.index(root_val)\n",
    "    root = TreeNode(root_val)\n",
    "    root.left = buildTree(preorder, inorder[:root_index])\n",
    "    root.right = buildTree(preorder, inorder[root_index+1:])\n",
    "    return root\n",
    "\n",
    "def buildTree_in_post(inorder, postorder):\n",
    "    if not postorder: return \n",
    "    root_val = postorder.pop()\n",
    "    root = TreeNode(root_val)\n",
    "    index_root = inorder.index(root_val)\n",
    "    root.left = buildTree_in_post(inorder[:index_root], postorder[:index_root])\n",
    "    root.right = buildTree_in_post(inorder[index_root+1:], postorder[index_root:])\n",
    "    return root\n",
    "\n",
    "testTree = buildTree([3,5,6,2,7,4,1,0,8], [6,5,7,2,4,3,0,1,8])\n",
    "print(testTree)\n",
    "testTree = buildTree_in_post([9,3,15,20,7], [9,15,7,20,3])\n",
    "print(testTree)\n"
   ]
  },
  {
   "cell_type": "code",
   "execution_count": 4,
   "metadata": {},
   "outputs": [
    {
     "name": "stdout",
     "output_type": "stream",
     "text": [
      "_ _ _ 1 _ _ _\n",
      "_ 2 _ _ _ 3 _\n",
      "4 _ _ _ _ _ 5\n",
      "\n",
      "_ 1 _\n",
      "2 _ _\n",
      "\n"
     ]
    }
   ],
   "source": [
    "def buildTree_level(levelorder):\n",
    "    length = len(levelorder)\n",
    "    if length == 0:\n",
    "        return None\n",
    "    root_val = levelorder[0]\n",
    "    root = TreeNode(root_val)\n",
    "    Queue = [root]\n",
    "    index = 1\n",
    "    while Queue and index < length:\n",
    "        for _ in range(len(Queue)):\n",
    "            node = Queue.pop(0)\n",
    "            left_val = levelorder[index] if index < length else None\n",
    "            right_val = levelorder[index+1] if index + 1 < length else None\n",
    "            if left_val != None:\n",
    "                node.left = TreeNode(left_val)\n",
    "                Queue.append(node.left)\n",
    "            else:\n",
    "                node.left = None\n",
    "            if right_val != None:\n",
    "                node.right = TreeNode(right_val)\n",
    "                Queue.append(node.right)\n",
    "            else:\n",
    "                node.right = None\n",
    "            index += 2\n",
    "    return root\n",
    "\n",
    "testTree = buildTree_level([1,2,3,4,None,None,5])\n",
    "print(testTree)\n",
    "testTree = buildTree_level([1,2])\n",
    "print(testTree)\n",
    "#         1\n",
    "#     2       3\n",
    "# 4               5"
   ]
  },
  {
   "attachments": {},
   "cell_type": "markdown",
   "metadata": {},
   "source": [
    "\n",
    "## 二叉树遍历非递归"
   ]
  },
  {
   "attachments": {},
   "cell_type": "markdown",
   "metadata": {},
   "source": [
    "### 前序遍历"
   ]
  },
  {
   "cell_type": "code",
   "execution_count": null,
   "metadata": {},
   "outputs": [
    {
     "data": {
      "text/plain": [
       "[1, 2, 4, 6, 5, 3]"
      ]
     },
     "execution_count": 11,
     "metadata": {},
     "output_type": "execute_result"
    }
   ],
   "source": [
    "def preorderTraversal(root):\n",
    "    if not root:\n",
    "        return []\n",
    "    stack = [root]\n",
    "    visited = []\n",
    "    lastpop = False\n",
    "    while stack != []:\n",
    "        node = stack[-1]\n",
    "        if node is None:\n",
    "            stack.pop()\n",
    "            lastpop = True\n",
    "            continue\n",
    "        if lastpop:\n",
    "            temp = stack.pop()\n",
    "            stack.append(temp.right)\n",
    "        else:\n",
    "            visited.append(node.val)\n",
    "            stack.append(node.left)\n",
    "        lastpop = False\n",
    "    return visited\n",
    "\n",
    "preorderTraversal(testTree)"
   ]
  },
  {
   "cell_type": "code",
   "execution_count": 16,
   "metadata": {},
   "outputs": [
    {
     "data": {
      "text/plain": [
       "[3, 5, 6, 2, 7, 4, 1, 0, 8]"
      ]
     },
     "execution_count": 16,
     "metadata": {},
     "output_type": "execute_result"
    }
   ],
   "source": [
    "def preorderTraversal(root):\n",
    "    if not root:\n",
    "        return []\n",
    "    stack = [root]\n",
    "    visited = []\n",
    "    while stack != []:\n",
    "        node = stack.pop()\n",
    "        visited.append(node.val)\n",
    "        if node.right:\n",
    "            stack.append(node.right)\n",
    "        if node.left:\n",
    "            stack.append(node.left)\n",
    "    return visited\n",
    "\n",
    "preorderTraversal(testTree)"
   ]
  },
  {
   "attachments": {},
   "cell_type": "markdown",
   "metadata": {},
   "source": [
    "### 中序遍历"
   ]
  },
  {
   "cell_type": "code",
   "execution_count": 14,
   "metadata": {},
   "outputs": [
    {
     "data": {
      "text/plain": [
       "[6, 5, 7, 2, 4, 3, 0, 1, 8]"
      ]
     },
     "execution_count": 14,
     "metadata": {},
     "output_type": "execute_result"
    }
   ],
   "source": [
    "def inorderTraversal(root):\n",
    "    if not root: return []\n",
    "    stack = [root]\n",
    "    visited = []\n",
    "    lastpop = False\n",
    "    while stack != []:\n",
    "        node = stack[-1]\n",
    "        if node is None:\n",
    "            stack.pop()\n",
    "            lastpop = True\n",
    "            continue\n",
    "        if lastpop:\n",
    "            temp = stack.pop()\n",
    "            visited.append(temp.val)\n",
    "            stack.append(temp.right)\n",
    "        else:\n",
    "            stack.append(node.left)\n",
    "        lastpop = False\n",
    "    return visited\n",
    "    \n",
    "inorderTraversal(testTree)"
   ]
  },
  {
   "cell_type": "code",
   "execution_count": null,
   "metadata": {},
   "outputs": [
    {
     "data": {
      "text/plain": [
       "[6, 4, 2, 5, 1, 3]"
      ]
     },
     "execution_count": 21,
     "metadata": {},
     "output_type": "execute_result"
    }
   ],
   "source": [
    "def inorderTraversal(root):\n",
    "    if not root: return []\n",
    "    stack = []\n",
    "    visited = []\n",
    "    node = root\n",
    "    while stack or node:\n",
    "        while node:\n",
    "            stack.append(node)\n",
    "            node = node.left\n",
    "        node = stack.pop()\n",
    "        visited.append(node.val)\n",
    "        node = node.right\n",
    "    return visited\n",
    "    \n",
    "inorderTraversal(testTree)"
   ]
  },
  {
   "attachments": {},
   "cell_type": "markdown",
   "metadata": {},
   "source": [
    "### 后序遍历"
   ]
  },
  {
   "cell_type": "code",
   "execution_count": 12,
   "metadata": {},
   "outputs": [
    {
     "data": {
      "text/plain": [
       "[6, 4, 5, 2, 3, 1]"
      ]
     },
     "execution_count": 12,
     "metadata": {},
     "output_type": "execute_result"
    }
   ],
   "source": [
    "def postorderTraversal(root):\n",
    "    if not root: return []\n",
    "    stack = []\n",
    "    visited = []\n",
    "    node, prepop = root, None\n",
    "    while stack or node:\n",
    "        if node:\n",
    "            stack.append(node)\n",
    "            node = node.left\n",
    "        else:\n",
    "            node = stack[-1]\n",
    "            if node.right and node.right != prepop:\n",
    "                node = node.right\n",
    "            else:\n",
    "                prepop = stack.pop()\n",
    "                visited.append(prepop.val)\n",
    "                node = None\n",
    "    return visited\n",
    "\n",
    "postorderTraversal(testTree)"
   ]
  },
  {
   "attachments": {},
   "cell_type": "markdown",
   "metadata": {},
   "source": [
    "### morris法"
   ]
  },
  {
   "cell_type": "code",
   "execution_count": 6,
   "metadata": {},
   "outputs": [
    {
     "data": {
      "text/plain": [
       "[2, 3, 1, 2, 3]"
      ]
     },
     "execution_count": 6,
     "metadata": {},
     "output_type": "execute_result"
    }
   ],
   "source": [
    "def inorderTraversal_morris(root):\n",
    "    cur, pre = root, None\n",
    "    visited = []\n",
    "    while cur:\n",
    "        if cur.left is None:\n",
    "            visited.append(cur.val)\n",
    "            cur = cur.right\n",
    "        else:\n",
    "            pre = cur.left\n",
    "            while pre.right:\n",
    "                if pre.right == cur:\n",
    "                    pre.right = None\n",
    "                    visited.append(cur.val)\n",
    "                    cur = cur.right\n",
    "                    break\n",
    "                pre = pre.right\n",
    "            else:\n",
    "                pre.right = cur\n",
    "                cur = cur.left\n",
    "    return visited\n",
    "\n",
    "inorderTraversal_morris(testTree)"
   ]
  },
  {
   "cell_type": "code",
   "execution_count": 6,
   "metadata": {},
   "outputs": [
    {
     "name": "stdout",
     "output_type": "stream",
     "text": [
      "_ _ _ _ _ _ _ 1 _ _ _ _ _ _ _\n",
      "_ _ _ 2 _ _ _ _ _ _ _ 3 _ _ _\n",
      "_ 4 _ _ _ 5 _ _ _ _ _ _ _ _ _\n",
      "6 _ _ _ _ _ _ _ _ _ _ _ _ _ _\n",
      "\n"
     ]
    },
    {
     "data": {
      "text/plain": [
       "[1, 2, 4, 6, 5, 3]"
      ]
     },
     "execution_count": 6,
     "metadata": {},
     "output_type": "execute_result"
    }
   ],
   "source": [
    "def preorderTraversal_morris(root):\n",
    "    cur, pre = root, None\n",
    "    visited = []\n",
    "    while cur:\n",
    "        if cur.left is None:\n",
    "            visited.append(cur.val)\n",
    "            cur = cur.right\n",
    "        else:\n",
    "            pre = cur.left\n",
    "            while pre.right:\n",
    "                if pre.right == cur:\n",
    "                    pre.right = None\n",
    "                    cur = cur.right\n",
    "                    break\n",
    "                pre = pre.right\n",
    "            else:\n",
    "                visited.append(cur.val)\n",
    "                pre.right = cur\n",
    "                cur = cur.left\n",
    "    return visited\n",
    "print(testTree)\n",
    "preorderTraversal_morris(testTree)"
   ]
  },
  {
   "cell_type": "code",
   "execution_count": 12,
   "metadata": {},
   "outputs": [
    {
     "data": {
      "text/plain": [
       "[6, 4, 5, 2, 3, 1]"
      ]
     },
     "execution_count": 12,
     "metadata": {},
     "output_type": "execute_result"
    }
   ],
   "source": [
    "def postTraversal_morris(root):\n",
    "    cur, pre = root, None\n",
    "    visited = []\n",
    "    while cur:\n",
    "        if cur.left is None:\n",
    "            cur = cur.right\n",
    "        else:\n",
    "            pre = cur.left\n",
    "            while pre.right:\n",
    "                if pre.right == cur:\n",
    "                    pre.right = None\n",
    "                    visited += printEdge(cur.left)\n",
    "                    cur = cur.right\n",
    "                    break\n",
    "                pre = pre.right\n",
    "            else:\n",
    "                pre.right = cur\n",
    "                cur = cur.left\n",
    "    visited += printEdge(root)\n",
    "    return visited\n",
    "\n",
    "def printEdge(root):\n",
    "    cur = root\n",
    "    result = []\n",
    "    while cur:\n",
    "        result.append(cur.val)\n",
    "        cur = cur.right\n",
    "    return result[::-1]\n",
    "\n",
    "postTraversal_morris(testTree)"
   ]
  },
  {
   "attachments": {},
   "cell_type": "markdown",
   "metadata": {},
   "source": [
    "## 二叉树深度"
   ]
  },
  {
   "attachments": {},
   "cell_type": "markdown",
   "metadata": {},
   "source": [
    "最大深度"
   ]
  },
  {
   "cell_type": "code",
   "execution_count": 3,
   "metadata": {},
   "outputs": [
    {
     "data": {
      "text/plain": [
       "4"
      ]
     },
     "execution_count": 3,
     "metadata": {},
     "output_type": "execute_result"
    }
   ],
   "source": [
    "testTree = buildTree([1,2,4,6,5,3], [6,4,2,5,1,3])\n",
    "\n",
    "def maxDepth(root):\n",
    "    if not root: return 0\n",
    "    return max(maxDepth(root.left), maxDepth(root.right)) + 1\n",
    "\n",
    "maxDepth(testTree)"
   ]
  },
  {
   "attachments": {},
   "cell_type": "markdown",
   "metadata": {},
   "source": [
    "morris解法"
   ]
  },
  {
   "cell_type": "code",
   "execution_count": 57,
   "metadata": {},
   "outputs": [
    {
     "data": {
      "text/plain": [
       "5"
      ]
     },
     "execution_count": 57,
     "metadata": {},
     "output_type": "execute_result"
    }
   ],
   "source": [
    "def maxDepth(root):\n",
    "    cur, pre = root, None\n",
    "    maxdep, dep = 0, 0\n",
    "    while cur:\n",
    "        if cur.left is None:\n",
    "            cur = cur.right\n",
    "            dep += 1\n",
    "            maxdep = max(maxdep, dep)\n",
    "        else:\n",
    "            pre = cur.left\n",
    "            leftHeight = 1\n",
    "            while pre.right:\n",
    "                if pre.right == cur:\n",
    "                    pre.right = None\n",
    "                    dep -= leftHeight\n",
    "                    cur = cur.right\n",
    "                    break\n",
    "                pre = pre.right\n",
    "                leftHeight += 1\n",
    "            else:\n",
    "                pre.right = cur\n",
    "                cur = cur.left\n",
    "                dep += 1\n",
    "                maxdep = max(maxdep, dep)\n",
    "    return maxdep\n",
    "\n",
    "testTree = buildTree([2,3,4,5,6], [2,3,4,5,6])\n",
    "maxDepth(testTree)"
   ]
  },
  {
   "attachments": {},
   "cell_type": "markdown",
   "metadata": {},
   "source": [
    "最小深度"
   ]
  },
  {
   "cell_type": "code",
   "execution_count": 25,
   "metadata": {},
   "outputs": [
    {
     "data": {
      "text/plain": [
       "5"
      ]
     },
     "execution_count": 25,
     "metadata": {},
     "output_type": "execute_result"
    }
   ],
   "source": [
    "def minDepth(root):\n",
    "    if root.left == None and root.right == None:\n",
    "        return 1\n",
    "    left, right = 1e10, 1e10\n",
    "    if root.left:\n",
    "        left = minDepth(root.left)\n",
    "    if root.right:\n",
    "        right = minDepth(root.right)\n",
    "    return min(left, right) + 1\n",
    "\n",
    "testTree = buildTree([2,3,4,5,6], [2,3,4,5,6])\n",
    "minDepth(testTree)"
   ]
  },
  {
   "attachments": {},
   "cell_type": "markdown",
   "metadata": {},
   "source": [
    "Morris解法"
   ]
  },
  {
   "cell_type": "code",
   "execution_count": null,
   "metadata": {},
   "outputs": [
    {
     "data": {
      "text/plain": [
       "2"
      ]
     },
     "execution_count": 64,
     "metadata": {},
     "output_type": "execute_result"
    }
   ],
   "source": [
    "def minDepth(root):\n",
    "    cur, pre = root, None\n",
    "    mindep, dep = 1e20, 0\n",
    "    while cur:\n",
    "        if cur.left is None:\n",
    "            cur = cur.right\n",
    "            dep += 1\n",
    "        else:\n",
    "            pre = cur.left\n",
    "            leftHeight = 1\n",
    "            while pre.right:\n",
    "                if pre.right == cur:\n",
    "                    if pre.left == None:\n",
    "                        mindep = min(mindep, dep)\n",
    "                    pre.right = None\n",
    "                    dep -= leftHeight\n",
    "                    cur = cur.right\n",
    "                    break\n",
    "                pre = pre.right\n",
    "                leftHeight += 1\n",
    "            else:\n",
    "                pre.right = cur\n",
    "                cur = cur.left\n",
    "                dep += 1\n",
    "    finalRight = 1\n",
    "    cur = root\n",
    "    while cur.right:\n",
    "        cur = cur.right\n",
    "        finalRight += 1\n",
    "    if cur.left == None:\n",
    "        mindep = min(mindep, finalRight)\n",
    "    return mindep\n",
    "\n",
    "testTree = buildTree([1,2,4,6,5,3], [6,4,2,5,1,3])\n",
    "minDepth(testTree)"
   ]
  },
  {
   "attachments": {},
   "cell_type": "markdown",
   "metadata": {},
   "source": [
    "## 对称二叉树"
   ]
  },
  {
   "cell_type": "code",
   "execution_count": 12,
   "metadata": {},
   "outputs": [
    {
     "name": "stdout",
     "output_type": "stream",
     "text": [
      "- - - 1 - - -\n",
      "- 2 - - - 2 -\n",
      "3 - 4 - 4 - 3\n",
      "\n",
      "- - - 1 - - -\n",
      "- 2 - - - 2 -\n",
      "- - 3 - - - 3\n",
      "\n"
     ]
    },
    {
     "data": {
      "text/plain": [
       "False"
      ]
     },
     "execution_count": 12,
     "metadata": {},
     "output_type": "execute_result"
    }
   ],
   "source": [
    "def isSymmetric(root):\n",
    "    if not root: return False\n",
    "    Queue = [root]\n",
    "    while Queue:\n",
    "        temp = []\n",
    "        for _ in range(len(Queue)):\n",
    "            node = Queue.pop(0)\n",
    "            if node == \"#\": \n",
    "                continue\n",
    "            elif node:\n",
    "                temp.append(node.val)\n",
    "                Queue.append(node.left)\n",
    "                Queue.append(node.right)\n",
    "            else: \n",
    "                temp.append(\"#\")\n",
    "        if temp != temp[::-1]:\n",
    "            return False\n",
    "    return True\n",
    "\n",
    "testTree = buildTree([1,2,3,4,2,4,3], [3,2,4,1,4,2,3])\n",
    "print(testTree)\n",
    "isSymmetric(testTree)\n",
    "testTree = buildTree([1,2,3,2,3], [2,3,1,2,3])\n",
    "print(testTree)\n",
    "isSymmetric(testTree)"
   ]
  },
  {
   "cell_type": "code",
   "execution_count": 13,
   "metadata": {},
   "outputs": [
    {
     "name": "stdout",
     "output_type": "stream",
     "text": [
      "- - - 1 - - -\n",
      "- 2 - - - 2 -\n",
      "3 - 4 - 4 - 3\n",
      "\n",
      "- - - 1 - - -\n",
      "- 2 - - - 2 -\n",
      "- - 3 - - - 3\n",
      "\n",
      "- - - 1 - - -\n",
      "- 2 - - - 2 -\n",
      "- - 2 - - - 2\n",
      "\n"
     ]
    },
    {
     "data": {
      "text/plain": [
       "False"
      ]
     },
     "execution_count": 13,
     "metadata": {},
     "output_type": "execute_result"
    }
   ],
   "source": [
    "def Symmetric(node1, node2):\n",
    "    if node1 == None and node2 == None:\n",
    "        return True\n",
    "    elif node1 == None or node2 == None:\n",
    "        return False\n",
    "    else:\n",
    "        return node1.val == node2.val and Symmetric(node1.left, node2.right) and Symmetric(node1.right, node2.left)\n",
    "\n",
    "def isSymmetric(root):\n",
    "    if not root: return False\n",
    "    return Symmetric(root, root)\n",
    "\n",
    "testTree = buildTree([1,2,3,4,2,4,3], [3,2,4,1,4,2,3])\n",
    "print(testTree)\n",
    "isSymmetric(testTree)\n",
    "testTree = buildTree([1,2,3,2,3], [2,3,1,2,3])\n",
    "print(testTree)\n",
    "isSymmetric(testTree)\n",
    "testTree = buildTree([1,2,2,2,2], [2,2,1,2,2])\n",
    "print(testTree)\n",
    "isSymmetric(testTree)"
   ]
  },
  {
   "attachments": {},
   "cell_type": "markdown",
   "metadata": {},
   "source": [
    "## 寻找总和等于目标的路径"
   ]
  },
  {
   "cell_type": "code",
   "execution_count": 51,
   "metadata": {},
   "outputs": [
    {
     "name": "stdout",
     "output_type": "stream",
     "text": [
      "_ _ _ _ _ _ _ 5 _ _ _ _ _ _ _\n",
      "_ _ _ 4 _ _ _ _ _ _ _ 8 _ _ _\n",
      "_ 11 _ _ _ _ _ _ _ 13 _ _ _ 4 _\n",
      "7 _ 2 _ _ _ _ _ _ _ _ _ _ _ 1\n",
      "\n",
      "_ 1 _\n",
      "2 _ _\n",
      "\n"
     ]
    },
    {
     "data": {
      "text/plain": [
       "False"
      ]
     },
     "execution_count": 51,
     "metadata": {},
     "output_type": "execute_result"
    }
   ],
   "source": [
    "def hasPathSum(root, targetSum):\n",
    "    if not root: return False\n",
    "    finalPaths = False\n",
    "    def dfs(node, curSum):\n",
    "        nonlocal finalPaths\n",
    "        if finalPaths: return\n",
    "        if curSum == targetSum and node.left == None and node.right == None:\n",
    "            finalPaths = True\n",
    "        if node.left: dfs(node.left, curSum + node.left.val)\n",
    "        if node.right: dfs(node.right, curSum + node.right.val)\n",
    "    dfs(root, root.val)\n",
    "    return finalPaths\n",
    "testTree = buildTree_level([5,4,8,11,None,13,4,7,2,None,None,None,1])\n",
    "print(testTree)\n",
    "hasPathSum(testTree, 22)\n",
    "testTree = buildTree_level([1,2])\n",
    "print(testTree)\n",
    "hasPathSum(testTree, 1)"
   ]
  },
  {
   "cell_type": "code",
   "execution_count": 14,
   "metadata": {},
   "outputs": [
    {
     "name": "stdout",
     "output_type": "stream",
     "text": [
      "_ _ _ _ _ _ _ 5 _ _ _ _ _ _ _\n",
      "_ _ _ 4 _ _ _ _ _ _ _ 8 _ _ _\n",
      "_ 11 _ _ _ _ _ _ _ 13 _ _ _ 4 _\n",
      "7 _ 2 _ _ _ _ _ _ _ _ _ _ _ 1\n",
      "\n",
      "[]\n",
      "[5]\n",
      "[5, 4]\n",
      "[5, 4, 11]\n",
      "[5, 4, 11, 7]\n",
      "[5, 4, 11]\n",
      "[5, 4, 11, 2]\n",
      "_ 1 _\n",
      "2 _ _\n",
      "\n",
      "[]\n",
      "[1]\n",
      "[1, 2]\n",
      "1\n",
      "\n",
      "[]\n",
      "_ 1 _\n",
      "_ _ 2\n",
      "\n",
      "[]\n",
      "[1]\n"
     ]
    },
    {
     "data": {
      "text/plain": [
       "True"
      ]
     },
     "execution_count": 14,
     "metadata": {},
     "output_type": "execute_result"
    }
   ],
   "source": [
    "def hasPathSum_morris(root, targetSum):\n",
    "    if not root: return False\n",
    "    cur, pre = root, None\n",
    "    dep = 0\n",
    "    path = []\n",
    "    while cur:\n",
    "        print(path)\n",
    "        if cur.left is None:\n",
    "            dep += cur.val\n",
    "            path.append(cur.val)\n",
    "            cur = cur.right\n",
    "        else:\n",
    "            pre = cur.left\n",
    "            leftHeight = pre.val\n",
    "            lefttotal = 1\n",
    "            while pre.right:\n",
    "                if pre.right == cur:\n",
    "                    if pre.left == None and dep == targetSum:\n",
    "                        return True\n",
    "                    pre.right = None\n",
    "                    dep -= leftHeight\n",
    "                    for _ in range(lefttotal): path.pop(-1)\n",
    "                    cur = cur.right\n",
    "                    break\n",
    "                pre = pre.right\n",
    "                leftHeight += pre.val\n",
    "                lefttotal += 1\n",
    "            else:\n",
    "                pre.right = cur\n",
    "                dep += cur.val\n",
    "                path.append(cur.val)\n",
    "                cur = cur.left    \n",
    "    finalRight = root.val\n",
    "    cur = root\n",
    "    while cur.right:\n",
    "        cur = cur.right\n",
    "        finalRight += cur.val\n",
    "    if cur.left == None and finalRight == targetSum:\n",
    "        return True\n",
    "    return False\n",
    "\n",
    "testTree = buildTree_level([5,4,8,11,None,13,4,7,2,None,None,None,1])\n",
    "print(testTree)\n",
    "hasPathSum_morris(testTree, 22)\n",
    "testTree = buildTree_level([1,2])\n",
    "print(testTree)\n",
    "hasPathSum_morris(testTree, 1)\n",
    "testTree = buildTree_level([1])\n",
    "print(testTree)\n",
    "hasPathSum_morris(testTree, 1)\n",
    "testTree = buildTree_level([1,None,2])\n",
    "print(testTree)\n",
    "hasPathSum_morris(testTree, 3)"
   ]
  },
  {
   "attachments": {},
   "cell_type": "markdown",
   "metadata": {},
   "source": [
    "## 二叉树的最近公共祖先"
   ]
  },
  {
   "cell_type": "code",
   "execution_count": 43,
   "metadata": {},
   "outputs": [
    {
     "name": "stdout",
     "output_type": "stream",
     "text": [
      "_ _ _ _ _ _ _ 3 _ _ _ _ _ _ _\n",
      "_ _ _ 5 _ _ _ _ _ _ _ 1 _ _ _\n",
      "_ 6 _ _ _ 2 _ _ _ 0 _ _ _ 8 _\n",
      "_ _ _ _ 7 _ 4 _ _ _ _ _ _ _ _\n",
      "\n",
      "[6, 5, 7, 2, 4, 3, 0, 1, 8]\n",
      "[3, 5, 6, 2, 7, 4, 1, 0, 8]\n"
     ]
    },
    {
     "data": {
      "text/plain": [
       "1"
      ]
     },
     "execution_count": 43,
     "metadata": {},
     "output_type": "execute_result"
    }
   ],
   "source": [
    "def inorderTraversal(root):\n",
    "    cur, pre = root, None\n",
    "    visited = []\n",
    "    while cur:\n",
    "        if cur.left is None:\n",
    "            visited.append(cur.val)\n",
    "            cur = cur.right\n",
    "        else:\n",
    "            pre = cur.left\n",
    "            while pre.right:\n",
    "                if pre.right == cur:\n",
    "                    pre.right = None\n",
    "                    visited.append(cur.val)\n",
    "                    cur = cur.right\n",
    "                    break\n",
    "                pre = pre.right\n",
    "            else:\n",
    "                pre.right = cur\n",
    "                cur = cur.left\n",
    "    return visited\n",
    "\n",
    "def preorderTraversal(root):\n",
    "    cur, pre = root, None\n",
    "    visited = []\n",
    "    while cur:\n",
    "        if cur.left is None:\n",
    "            visited.append(cur.val)\n",
    "            cur = cur.right\n",
    "        else:\n",
    "            pre = cur.left\n",
    "            while pre.right:\n",
    "                if pre.right == cur:\n",
    "                    pre.right = None\n",
    "                    cur = cur.right\n",
    "                    break\n",
    "                pre = pre.right\n",
    "            else:\n",
    "                visited.append(cur.val)\n",
    "                pre.right = cur\n",
    "                cur = cur.left\n",
    "    return visited\n",
    "\n",
    "def findVal(root, val):\n",
    "    cur, pre = root, None\n",
    "    while cur:\n",
    "        if cur.left is None:\n",
    "            if cur.val == val:\n",
    "                return cur\n",
    "            cur = cur.right\n",
    "        else:\n",
    "            pre = cur.left\n",
    "            while pre.right:\n",
    "                if pre.right == cur:\n",
    "                    pre.right = None\n",
    "                    cur = cur.right\n",
    "                    break\n",
    "                pre = pre.right\n",
    "            else:\n",
    "                if cur.val == val:\n",
    "                    return cur\n",
    "                pre.right = cur\n",
    "                cur = cur.left\n",
    "    return None\n",
    "\n",
    "def lowestCommonAncestor(root, p, q):\n",
    "    inorder = inorderTraversal(root)\n",
    "    preorder = preorderTraversal(root)\n",
    "    print(inorder)\n",
    "    print(preorder)\n",
    "    return LCA(inorder, preorder, p, q)\n",
    "\n",
    "def LCA(inorder, preorder, p, q):\n",
    "    root_val = preorder.pop(0)\n",
    "    if root_val == p or root_val == q:\n",
    "        return root_val\n",
    "    root_index = inorder.index(root_val)\n",
    "    p_index = inorder.index(p)\n",
    "    q_index = inorder.index(q)\n",
    "    if root_index > min(p_index, q_index) and root_index < max(p_index, q_index):\n",
    "        return root_val\n",
    "    elif root_index > max(p_index, q_index):\n",
    "        return LCA(inorder[:root_index], preorder[:root_index], p, q)\n",
    "    elif root_index < min(p_index, q_index):\n",
    "        return LCA(inorder[root_index+1:], preorder[root_index:], p, q)\n",
    "\n",
    "testTree = buildTree_level([3,5,1,6,2,0,8,None,None,7,4])\n",
    "print(testTree)\n",
    "lowestCommonAncestor(testTree, 0, 8)"
   ]
  },
  {
   "cell_type": "code",
   "execution_count": 21,
   "metadata": {},
   "outputs": [
    {
     "name": "stdout",
     "output_type": "stream",
     "text": [
      "_ _ _ _ _ _ _ 3 _ _ _ _ _ _ _\n",
      "_ _ _ 5 _ _ _ _ _ _ _ 1 _ _ _\n",
      "_ 6 _ _ _ 2 _ _ _ 0 _ _ _ 8 _\n",
      "_ _ _ _ 7 _ 4 _ _ _ _ _ _ _ _\n",
      "\n",
      "_ 1 _\n",
      "0 _ 8\n",
      "\n"
     ]
    }
   ],
   "source": [
    "def lowestCommonAncestor(root, p, q):\n",
    "    if not root or root.val == p or root.val == q: return root\n",
    "    left = lowestCommonAncestor(root.left, p, q)\n",
    "    right = lowestCommonAncestor(root.right, p, q)\n",
    "    if not left: return right\n",
    "    if not right: return left\n",
    "    return root\n",
    "\n",
    "testTree = buildTree_level([3,5,1,6,2,0,8,None,None,7,4])\n",
    "print(testTree)\n",
    "print(lowestCommonAncestor(testTree, 0, 8))"
   ]
  },
  {
   "cell_type": "code",
   "execution_count": 44,
   "metadata": {},
   "outputs": [
    {
     "name": "stdout",
     "output_type": "stream",
     "text": [
      "_ _ _ _ _ _ _ 3 _ _ _ _ _ _ _\n",
      "_ _ _ 5 _ _ _ _ _ _ _ 1 _ _ _\n",
      "_ 6 _ _ _ 2 _ _ _ 0 _ _ _ 8 _\n",
      "_ _ _ _ 7 _ 4 _ _ _ _ _ _ _ _\n",
      "\n",
      "[3, 5, 6, 2, 7, 4, 1, 0, 8]\n",
      "_ _ _ _ _ _ _ 3 _ _ _ _ _ _ _\n",
      "_ _ _ 5 _ _ _ _ _ _ _ 1 _ _ _\n",
      "_ 6 _ _ _ 2 _ _ _ 0 _ _ _ 8 _\n",
      "_ _ _ _ 7 _ 4 _ _ _ _ _ _ _ _\n",
      "\n"
     ]
    }
   ],
   "source": [
    "class Codec:\n",
    "\n",
    "    def serialize(self, root):\n",
    "        \"\"\"Encodes a tree to a single string.\n",
    "        \n",
    "        :type root: TreeNode\n",
    "        :rtype: str\n",
    "        \"\"\"\n",
    "        serial = []\n",
    "        Queue = [root]\n",
    "        while Queue:\n",
    "            for _ in range(len(Queue)):\n",
    "                node = Queue.pop(0)\n",
    "                serial.append(node.val if node else None)\n",
    "                if node:\n",
    "                    Queue.append(node.left)\n",
    "                    Queue.append(node.right)\n",
    "        lastNum = 0\n",
    "        string = []\n",
    "        for i, elem in enumerate(serial):\n",
    "            if elem == None:\n",
    "                string.append(\"null\")\n",
    "            else:\n",
    "                string.append(str(elem))\n",
    "                lastNum = i\n",
    "        return \",\".join(string[:lastNum+1])\n",
    "                \n",
    "\n",
    "    def deserialize(self, data):\n",
    "        \"\"\"Decodes your encoded data to tree.\n",
    "        \n",
    "        :type data: str\n",
    "        :rtype: TreeNode\n",
    "        \"\"\"\n",
    "        if data == \"null\": return None\n",
    "        levelorder = data.split(\",\")\n",
    "        levelorder = [i if i!=\"null\" else None for i in levelorder]\n",
    "        return Codec.buildTree_level(levelorder)\n",
    "\n",
    "    @staticmethod\n",
    "    def buildTree_level(levelorder):\n",
    "        length = len(levelorder)\n",
    "        if length == 0:\n",
    "            return None\n",
    "        root_val = levelorder[0]\n",
    "        root = TreeNode(root_val)\n",
    "        Queue = [root]\n",
    "        index = 1\n",
    "        while Queue and index < length:\n",
    "            for _ in range(len(Queue)):\n",
    "                node = Queue.pop(0)\n",
    "                left_val = levelorder[index] if index < length else None\n",
    "                right_val = levelorder[index+1] if index + 1 < length else None\n",
    "                if left_val != None:\n",
    "                    node.left = TreeNode(left_val)\n",
    "                    Queue.append(node.left)\n",
    "                else:\n",
    "                    node.left = None\n",
    "                if right_val != None:\n",
    "                    node.right = TreeNode(right_val)\n",
    "                    Queue.append(node.right)\n",
    "                else:\n",
    "                    node.right = None\n",
    "                index += 2\n",
    "        return root\n",
    "\n",
    "testTree = buildTree_level([3,5,1,6,2,0,8,None,None,7,4])\n",
    "print(testTree)\n",
    "print(preorderTraversal(testTree))\n",
    "s = Codec().serialize(testTree)\n",
    "tree = Codec().deserialize(s)\n",
    "print(tree)"
   ]
  },
  {
   "cell_type": "code",
   "execution_count": null,
   "metadata": {},
   "outputs": [],
   "source": []
  }
 ],
 "metadata": {
  "kernelspec": {
   "display_name": "py38",
   "language": "python",
   "name": "python3"
  },
  "language_info": {
   "codemirror_mode": {
    "name": "ipython",
    "version": 3
   },
   "file_extension": ".py",
   "mimetype": "text/x-python",
   "name": "python",
   "nbconvert_exporter": "python",
   "pygments_lexer": "ipython3",
   "version": "3.8.12"
  },
  "orig_nbformat": 4
 },
 "nbformat": 4,
 "nbformat_minor": 2
}

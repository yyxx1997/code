{
 "cells": [
  {
   "cell_type": "markdown",
   "metadata": {},
   "source": [
    "# einsum方法详解（爱因斯坦求和）\n",
    "einsum是pytorch、numpy中一个十分优雅的方法，如果利用得当，可完全代替所有其他的矩阵计算方法，不过这需要一定的学习成本。本文旨在详细解读einsum方法的原理，并给出一些基本示例。\n",
    "## 问题引入\n",
    "在线性代数中，我们最多涉及的是二阶及以下的张量．在这种情况下，纸面上可以很方便地写出低阶张量的矩阵形式，高阶的张量，它们的坐标就没法用矩阵表示．我们当然可以把矩阵拓展为立体阵等概念，但随着阶数上升，这种表示法的复杂程度几何级增加；我们也可以使用张量词条中所提过的向量矩阵的方法，比起立体阵要清楚一些，但套娃式的表达方式也对理解一个张量的性质造成了障碍．\n",
    "\n",
    "**爱因斯坦求和约定**正是为了简洁地表达高阶张量的坐标运算而存在的．\n",
    "\n",
    "### 一、矩阵乘法\n",
    "假设 $A,B$ 矩阵大小分别是 $2*3$ 和 $3*2$ ，矩阵乘法的定义如下：\n",
    "$$\n",
    "[ \\begin{array} { c c } { a _ { 1 1 } } & { a _ { 1 2 } } & { a _ { 1 2 } } \\\\ { a _ { 2 1 } } & { a _ { 2 2 } } & { a _ { 2 3 } } \\end{array} ]*[ \\begin{array} { c c } { b _ { 1 1 } } & { b _ { 1 2 } } \\\\ { b _ { 2 1 } } & { b _ { 2 2 } } \\\\ { b _ { 3 1 } } & { b _ { 3 2 } } \\\\ \\end{array} ] = [ \\begin{array} { c c } { c _ { 1 1 } } & { c _ { 1 2 } } \\\\ { c _ { 2 1 } } & { c _ { 2 2 } } \\\\ \\end{array} ]\n",
    "$$\n",
    "其中，$C _ { i j } = \\sum _ { k } A _ { i k } B _ { k j }$\n",
    "\n",
    "用 `python` 循环实现："
   ]
  },
  {
   "cell_type": "code",
   "execution_count": 35,
   "metadata": {},
   "outputs": [
    {
     "name": "stdout",
     "output_type": "stream",
     "text": [
      "Matrix A is: \n",
      " [[0.37454012 0.95071431 0.73199394]\n",
      " [0.59865848 0.15601864 0.15599452]]\n",
      "Matrix B is: \n",
      " [[0.05808361 0.86617615]\n",
      " [0.60111501 0.70807258]\n",
      " [0.02058449 0.96990985]]\n",
      "M = A*B = \n",
      " [[0.60831101 1.70756058]\n",
      " [0.13176846 0.78031684]]\n"
     ]
    }
   ],
   "source": [
    "import numpy as np\n",
    "np.random.seed(42)\n",
    "\n",
    "A = np.random.rand(2, 3)\n",
    "B = np.random.rand(3, 2)\n",
    "M = np.zeros((2, 2))\n",
    "\n",
    "for i in range(2):\n",
    "    for j in range(2):\n",
    "        for k in range(3):\n",
    "            M[i, j] += A[i, k] * B[k, j]\n",
    "print(\"Matrix A is: \\n\",A)\n",
    "print(\"Matrix B is: \\n\",B)\n",
    "print(\"M = A*B = \\n\",M)\n"
   ]
  },
  {
   "cell_type": "markdown",
   "metadata": {},
   "source": [
    "### 二、爱因斯坦求和法\n",
    "\n",
    "**爱因斯坦求和是一种对求和公式简洁高效的记法，其原则是当变量下标重复出现时，即可省略繁琐的求和符号。**\n",
    "\n",
    "比如求和公式：\n",
    "\n",
    "$$\n",
    "\\sum_{i=1}^n a_{i} b_{i} = a_{1} b_{1} + a_{2} b_{2} + ... + a_{n} b_{n}\n",
    "\n",
    "$$\n",
    "\n",
    "其中变量 a 和变量 b的下标重复出现，则可将其表示为：\n",
    "\n",
    "$$\n",
    "a_{i} b_{i} = \\sum_{i=1}^n a_{i}\n",
    "\n",
    "$$\n",
    "\n",
    "由此我们可以将上述矩阵运算化简为：\n",
    "\n",
    "$$\n",
    "C_ { i j } = \\sum _ { k } A _ { i k } B _ { k j } = A _ { i k } B _ { k j }\n",
    "\n",
    "$$\n",
    "\n",
    "进一步地，我们可以得到矩阵乘法的一个抽象\n",
    "\n",
    "$$\n",
    "ik * kj = ij\n",
    "\n",
    "$$\n",
    "\n",
    "## 方法原理\n",
    "### 一、einsum具体原理\n",
    "\n",
    "einsum方法正是利用了爱因斯坦求和简洁高效的表示方法，从而可以驾驭任何复杂的矩阵计算操作。基本的框架如下：\n",
    "\n",
    "~~~\n",
    "C = einsum('ij,jk->ik', A, B)\n",
    "~~~\n",
    "\n",
    "上述操作表示矩阵A与矩阵B的点积。输入的参数分为两部分:\n",
    "\n",
    "+ 前面表示计算操作的指令串，\n",
    "+ 后面是以逗号隔开的操作对象（数量需与前面对应）。\n",
    "\n",
    "其中在计算操作表示中，\n",
    "\n",
    "+ \"->\" 左边是以逗号隔开的下标索引，重复出现的索引即是需要爱因斯坦求和的；\n",
    "+ \"->\" 右边是最后输出的结果形式。\n",
    "\n",
    "以上式为例，其计算公式为：$C_{ik} = \\sum_{j} A_{ij} B_{jk}$ ，其等价于矩阵A与B的点积。\n",
    "\n",
    "在矩阵之间的运算中，下标可以分为两类：\n",
    "\n",
    "+ 自由标(Free index)，也就是在输入和输出端都出现的下标\n",
    "+ 哑标(Summation index)，在输入端出现但输出端没有出现的下标\n",
    "\n",
    "矩阵运算中所有参与运算的下标都被包含在次定义中。\n",
    "\n",
    "以上述矩阵 $A,B$ 的乘法过程为例："
   ]
  },
  {
   "cell_type": "code",
   "execution_count": 36,
   "metadata": {},
   "outputs": [
    {
     "name": "stdout",
     "output_type": "stream",
     "text": [
      "einsum result is :\n",
      " [[0.60831101 1.70756058]\n",
      " [0.13176846 0.78031684]]\n",
      "M = A*B = \n",
      " [[0.60831101 1.70756058]\n",
      " [0.13176846 0.78031684]]\n"
     ]
    }
   ],
   "source": [
    "C = np.einsum(\"ik,kj->ij\", A, B)\n",
    "print(\"einsum result is :\\n\", C)\n",
    "print(\"M = A*B = \\n\",M)"
   ]
  },
  {
   "cell_type": "markdown",
   "metadata": {},
   "source": [
    "可以看出，这与上述通过循环方式得出的结果一致。在 `ij,jk -> ik` 的例子中, `i,j ` 是自由标，`k` 是哑标。\n",
    "\n",
    "### 二、计算准则\n",
    "1. 两个不同矩阵相乘，**哑标**维度需要逐元素相乘并求和，**自由标**保留\n",
    "2. 自由标可在输出中以任意顺序出现，但只能出现一次\n",
    "\n",
    "这是两条基本准则，具体的计算场景可以参考下文实例。\n",
    "### 三、典型计算场景\n",
    "利用einsum求解张量运算主要分为单操作数和多操作数的情况，我们分别讨论，并力图转化为循环形式便于明晰求解过程。\n",
    "#### 1. 单操作数：\n",
    "##### 矩阵的迹\n",
    "迹（trace）指的是方针的对角线元素。\n",
    "einsum表示为："
   ]
  },
  {
   "cell_type": "code",
   "execution_count": 37,
   "metadata": {},
   "outputs": [
    {
     "name": "stdout",
     "output_type": "stream",
     "text": [
      "Trace of m is : [1 5 9]\n"
     ]
    }
   ],
   "source": [
    "m = np.matrix([\n",
    "    [1,2,3],\n",
    "    [4,5,6],\n",
    "    [7,8,9]\n",
    "])\n",
    "M=np.einsum(\"ii -> i\", m)\n",
    "print(\"Trace of m is :\",M)"
   ]
  },
  {
   "cell_type": "markdown",
   "metadata": {},
   "source": [
    "##### 矩阵转置\n",
    "矩阵的转置（transpose）指矩阵行列互换。\n",
    "einsum表示为："
   ]
  },
  {
   "cell_type": "code",
   "execution_count": 38,
   "metadata": {},
   "outputs": [
    {
     "name": "stdout",
     "output_type": "stream",
     "text": [
      "origin x is :\n",
      " [[0.83244264 0.21233911 0.18182497]\n",
      " [0.18340451 0.30424224 0.52475643]]\n",
      "transpose of x is :\n",
      " [[0.83244264 0.18340451]\n",
      " [0.21233911 0.30424224]\n",
      " [0.18182497 0.52475643]]\n"
     ]
    }
   ],
   "source": [
    "x = np.random.rand(2, 3)\n",
    "M=np.einsum(\"ij -> ji\", x)\n",
    "print(\"origin x is :\\n\",x)\n",
    "print(\"transpose of x is :\\n\",M)"
   ]
  },
  {
   "cell_type": "markdown",
   "metadata": {},
   "source": [
    "##### 矩阵按行（列）求和\n",
    "按行还是列求和，取决于最终保留的下标："
   ]
  },
  {
   "cell_type": "code",
   "execution_count": 39,
   "metadata": {},
   "outputs": [
    {
     "name": "stdout",
     "output_type": "stream",
     "text": [
      "按行求和：\n",
      " [ 6 15 24]\n",
      "按列求和：\n",
      " [12 15 18]\n",
      "全部求和：\n",
      " 45\n"
     ]
    }
   ],
   "source": [
    "m = np.matrix([\n",
    "    [1,2,3],\n",
    "    [4,5,6],\n",
    "    [7,8,9]\n",
    "])\n",
    "m_r = np.einsum(\"ij -> i\", m) #按行求和\n",
    "m_c = np.einsum(\"ij -> j\", m) #按列求和\n",
    "m_a = np.einsum(\"ij -> \", m) #全部求和\n",
    "print(\"按行求和：\\n\",m_r)\n",
    "print(\"按列求和：\\n\",m_c)\n",
    "print(\"全部求和：\\n\",m_a)"
   ]
  },
  {
   "cell_type": "markdown",
   "metadata": {},
   "source": [
    "#### 2. 多操作数\n",
    "##### 向量内/外积"
   ]
  },
  {
   "cell_type": "code",
   "execution_count": 40,
   "metadata": {},
   "outputs": [
    {
     "name": "stdout",
     "output_type": "stream",
     "text": [
      "[1 2] 与 [3 4] 内积： 21\n",
      "[1 2] 与 [1 3 5] 外积：\n",
      "[[ 1  3  5]\n",
      " [ 2  6 10]]\n"
     ]
    }
   ],
   "source": [
    "a = np.array([1,2])\n",
    "b = np.array([1,3,5])\n",
    "c = np.array([3,4])\n",
    "\n",
    "## 内积\n",
    "inner = np.einsum(\"i, j ->\", a, c)\n",
    "## 外积\n",
    "exter = np.einsum(\"i, j -> ij\", a, b) \n",
    "\n",
    "print(\"{0} 与 {1} 内积： {2}\".format(a,c,inner))\n",
    "print(\"{0} 与 {1} 外积：\\n{2}\".format(a,b,exter))"
   ]
  },
  {
   "cell_type": "markdown",
   "metadata": {},
   "source": [
    "##### 矩阵乘法\n",
    "矩阵乘法最典型的形式为：\n",
    "~~~\n",
    "A = np.random.rand(3, 5)\n",
    "B = np.random.rand(5, 2)\n",
    "M = np.einsum(\"ik, kj -> ij\", A, B) # 3*2\n",
    "~~~\n",
    "它的循环形式可以展开为：\n",
    "~~~\n",
    "M = np.zeros((3, 2))\n",
    "for i in range(3):\n",
    "    for j in range(2):\n",
    "        for k in range(5):\n",
    "            M[i, j] += A[i, k] * B[k, j]\n",
    "~~~\n",
    "当k也作为自由标被保留下来的时候，情况稍有不同：\n",
    "~~~\n",
    "M = np.einsum(\"ik, kj -> ijk\", A, B)\n",
    "\n",
    "~~~\n",
    "此时，上式对应的循环形式应该为：\n",
    "~~~\n",
    "A = np.random.rand(3, 5)\n",
    "B = np.random.rand(5, 2)\n",
    "M = np.empty((3, 2, 5))\n",
    "\n",
    "for i in range(3):\n",
    "    for j in range(2):\n",
    "        for k in range(5):\n",
    "            M[i, j, k] = A[i, k] * B[k, j]\n",
    "\n",
    "~~~\n",
    "此时，k不在作为哑标被求和，在输出中也会保留该维度，并且按照 \"ijk\" 的顺序排列输出维度。\n",
    "\n",
    "多个矩阵的连乘可以按照同样的方式进行：\n",
    "~~~\n",
    "x = np.random.rand(2, 3)\n",
    "y = np.random.rand(3, 5)\n",
    "z = np.random.rand(5, 2)\n",
    "m = np.einsum(\"ij, jk, kl -> il\", x, y, z)\n",
    "print(m.shape)\n",
    "\n",
    "##\n",
    "(2,2)\n",
    "~~~\n",
    "#### 3. 广播乘法\n",
    "广播方式比较复杂，这里仅举一个常见例子：\n",
    "\n",
    "在transformer的self-attention机制中，对与子矩阵QKV需要进行Multi-Head操作，这里假设：\n",
    "batch=32\n",
    "max_sequence=20\n",
    "Heads=8\n",
    "d_model=512\n",
    "\n",
    "转化为多头后，维度变为：512//8=64，可以得到Q,K矩阵的张量表示：\n",
    "~~~\n",
    "\n",
    "Q = numpy.random.rand(32, 20, 8, 64)\n",
    "K = numpy.random.rand(32, 20, 8, 64)\n",
    "\n",
    "M=np.einsum(\"nqhd,nkhd->nhqk\", Q, K) # （32, 8, 20 ,20)\n",
    "print(M)\n",
    "\n",
    "A=A.transpose(0,2,1,3) # nqhd -> nhqd\n",
    "B=B.transpose(0,2,1,3) # nkhd -> nhkd\n",
    "M=np.einsum('nhqd, nhkd->nhqk', A,B) # （2, 4, 3 ,3)\n",
    "np.einsum('...qd, ...kd->...qk', A,B) # （2, 4, 3 ,3)\n",
    "print(M)\n",
    "~~~\n",
    "通过这种方法，可以轻松完成多头下的自注意力乘积操作。\n",
    "\n",
    "实际上，上述操作与下面的过程也是等价的：\n",
    "~~~\n",
    "Q=Q.transpose(0,2,1,3) # nqhd -> nhqd\n",
    "K=K.transpose(0,2,1,3) # nkhd -> nhkd\n",
    "M=np.einsum('nhqd, nhkd->nhqk', A,B) # （32, 8, 20 ,20)\n",
    "print(M)\n",
    "~~~\n",
    "另外，广播乘法有一个更简洁的形式：\n",
    "~~~\n",
    "M = np.einsum('...qd, ...kd->...qk', A,B) # （32, 8, 20 ,20)\n",
    "~~~\n",
    "`...`指代任意多个维度，这在处理batch和图像中的多通道时尤为有效。"
   ]
  }
 ],
 "metadata": {
  "interpreter": {
   "hash": "6483c0489f2ba2c9c1179b2f979d3a4b5435e6ac6fe1b6082ce80fd2f678a589"
  },
  "kernelspec": {
   "display_name": "Python 3.8.12 ('py38')",
   "language": "python",
   "name": "python3"
  },
  "language_info": {
   "codemirror_mode": {
    "name": "ipython",
    "version": 3
   },
   "file_extension": ".py",
   "mimetype": "text/x-python",
   "name": "python",
   "nbconvert_exporter": "python",
   "pygments_lexer": "ipython3",
   "version": "3.8.12"
  },
  "orig_nbformat": 4
 },
 "nbformat": 4,
 "nbformat_minor": 2
}
